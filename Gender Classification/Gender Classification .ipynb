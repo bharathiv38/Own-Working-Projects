{
 "cells": [
  {
   "cell_type": "code",
   "execution_count": 1,
   "id": "cb14ff73",
   "metadata": {},
   "outputs": [],
   "source": [
    "#loading dependencies\n",
    "import pandas as pd\n",
    "import numpy as np\n",
    "import seaborn as sns\n",
    "import matplotlib.pyplot as plt\n",
    "import warnings\n",
    "warnings.filterwarnings('ignore')"
   ]
  },
  {
   "cell_type": "code",
   "execution_count": 2,
   "id": "5c25dbac",
   "metadata": {},
   "outputs": [],
   "source": [
    "#loading dataset to pandas dataframe\n",
    "gender = pd.read_csv(r\"C:\\Users\\User\\Downloads\\Gender Classification\\gender_classification_v7.csv\")"
   ]
  },
  {
   "cell_type": "code",
   "execution_count": 3,
   "id": "8111a145",
   "metadata": {},
   "outputs": [
    {
     "data": {
      "text/html": [
       "<div>\n",
       "<style scoped>\n",
       "    .dataframe tbody tr th:only-of-type {\n",
       "        vertical-align: middle;\n",
       "    }\n",
       "\n",
       "    .dataframe tbody tr th {\n",
       "        vertical-align: top;\n",
       "    }\n",
       "\n",
       "    .dataframe thead th {\n",
       "        text-align: right;\n",
       "    }\n",
       "</style>\n",
       "<table border=\"1\" class=\"dataframe\">\n",
       "  <thead>\n",
       "    <tr style=\"text-align: right;\">\n",
       "      <th></th>\n",
       "      <th>long_hair</th>\n",
       "      <th>forehead_width_cm</th>\n",
       "      <th>forehead_height_cm</th>\n",
       "      <th>nose_wide</th>\n",
       "      <th>nose_long</th>\n",
       "      <th>lips_thin</th>\n",
       "      <th>distance_nose_to_lip_long</th>\n",
       "      <th>gender</th>\n",
       "    </tr>\n",
       "  </thead>\n",
       "  <tbody>\n",
       "    <tr>\n",
       "      <th>0</th>\n",
       "      <td>1</td>\n",
       "      <td>11.8</td>\n",
       "      <td>6.1</td>\n",
       "      <td>1</td>\n",
       "      <td>0</td>\n",
       "      <td>1</td>\n",
       "      <td>1</td>\n",
       "      <td>Male</td>\n",
       "    </tr>\n",
       "    <tr>\n",
       "      <th>1</th>\n",
       "      <td>0</td>\n",
       "      <td>14.0</td>\n",
       "      <td>5.4</td>\n",
       "      <td>0</td>\n",
       "      <td>0</td>\n",
       "      <td>1</td>\n",
       "      <td>0</td>\n",
       "      <td>Female</td>\n",
       "    </tr>\n",
       "    <tr>\n",
       "      <th>2</th>\n",
       "      <td>0</td>\n",
       "      <td>11.8</td>\n",
       "      <td>6.3</td>\n",
       "      <td>1</td>\n",
       "      <td>1</td>\n",
       "      <td>1</td>\n",
       "      <td>1</td>\n",
       "      <td>Male</td>\n",
       "    </tr>\n",
       "    <tr>\n",
       "      <th>3</th>\n",
       "      <td>0</td>\n",
       "      <td>14.4</td>\n",
       "      <td>6.1</td>\n",
       "      <td>0</td>\n",
       "      <td>1</td>\n",
       "      <td>1</td>\n",
       "      <td>1</td>\n",
       "      <td>Male</td>\n",
       "    </tr>\n",
       "    <tr>\n",
       "      <th>4</th>\n",
       "      <td>1</td>\n",
       "      <td>13.5</td>\n",
       "      <td>5.9</td>\n",
       "      <td>0</td>\n",
       "      <td>0</td>\n",
       "      <td>0</td>\n",
       "      <td>0</td>\n",
       "      <td>Female</td>\n",
       "    </tr>\n",
       "  </tbody>\n",
       "</table>\n",
       "</div>"
      ],
      "text/plain": [
       "   long_hair  forehead_width_cm  forehead_height_cm  nose_wide  nose_long  \\\n",
       "0          1               11.8                 6.1          1          0   \n",
       "1          0               14.0                 5.4          0          0   \n",
       "2          0               11.8                 6.3          1          1   \n",
       "3          0               14.4                 6.1          0          1   \n",
       "4          1               13.5                 5.9          0          0   \n",
       "\n",
       "   lips_thin  distance_nose_to_lip_long  gender  \n",
       "0          1                          1    Male  \n",
       "1          1                          0  Female  \n",
       "2          1                          1    Male  \n",
       "3          1                          1    Male  \n",
       "4          0                          0  Female  "
      ]
     },
     "execution_count": 3,
     "metadata": {},
     "output_type": "execute_result"
    }
   ],
   "source": [
    "#print the first 5 rows of dataset\n",
    "gender.head()"
   ]
  },
  {
   "cell_type": "code",
   "execution_count": 4,
   "id": "63b04b59",
   "metadata": {},
   "outputs": [
    {
     "data": {
      "text/html": [
       "<div>\n",
       "<style scoped>\n",
       "    .dataframe tbody tr th:only-of-type {\n",
       "        vertical-align: middle;\n",
       "    }\n",
       "\n",
       "    .dataframe tbody tr th {\n",
       "        vertical-align: top;\n",
       "    }\n",
       "\n",
       "    .dataframe thead th {\n",
       "        text-align: right;\n",
       "    }\n",
       "</style>\n",
       "<table border=\"1\" class=\"dataframe\">\n",
       "  <thead>\n",
       "    <tr style=\"text-align: right;\">\n",
       "      <th></th>\n",
       "      <th>long_hair</th>\n",
       "      <th>forehead_width_cm</th>\n",
       "      <th>forehead_height_cm</th>\n",
       "      <th>nose_wide</th>\n",
       "      <th>nose_long</th>\n",
       "      <th>lips_thin</th>\n",
       "      <th>distance_nose_to_lip_long</th>\n",
       "      <th>gender</th>\n",
       "    </tr>\n",
       "  </thead>\n",
       "  <tbody>\n",
       "    <tr>\n",
       "      <th>4996</th>\n",
       "      <td>1</td>\n",
       "      <td>13.6</td>\n",
       "      <td>5.1</td>\n",
       "      <td>0</td>\n",
       "      <td>0</td>\n",
       "      <td>0</td>\n",
       "      <td>0</td>\n",
       "      <td>Female</td>\n",
       "    </tr>\n",
       "    <tr>\n",
       "      <th>4997</th>\n",
       "      <td>1</td>\n",
       "      <td>11.9</td>\n",
       "      <td>5.4</td>\n",
       "      <td>0</td>\n",
       "      <td>0</td>\n",
       "      <td>0</td>\n",
       "      <td>0</td>\n",
       "      <td>Female</td>\n",
       "    </tr>\n",
       "    <tr>\n",
       "      <th>4998</th>\n",
       "      <td>1</td>\n",
       "      <td>12.9</td>\n",
       "      <td>5.7</td>\n",
       "      <td>0</td>\n",
       "      <td>0</td>\n",
       "      <td>0</td>\n",
       "      <td>0</td>\n",
       "      <td>Female</td>\n",
       "    </tr>\n",
       "    <tr>\n",
       "      <th>4999</th>\n",
       "      <td>1</td>\n",
       "      <td>13.2</td>\n",
       "      <td>6.2</td>\n",
       "      <td>0</td>\n",
       "      <td>0</td>\n",
       "      <td>0</td>\n",
       "      <td>0</td>\n",
       "      <td>Female</td>\n",
       "    </tr>\n",
       "    <tr>\n",
       "      <th>5000</th>\n",
       "      <td>1</td>\n",
       "      <td>15.4</td>\n",
       "      <td>5.4</td>\n",
       "      <td>1</td>\n",
       "      <td>1</td>\n",
       "      <td>1</td>\n",
       "      <td>1</td>\n",
       "      <td>Male</td>\n",
       "    </tr>\n",
       "  </tbody>\n",
       "</table>\n",
       "</div>"
      ],
      "text/plain": [
       "      long_hair  forehead_width_cm  forehead_height_cm  nose_wide  nose_long  \\\n",
       "4996          1               13.6                 5.1          0          0   \n",
       "4997          1               11.9                 5.4          0          0   \n",
       "4998          1               12.9                 5.7          0          0   \n",
       "4999          1               13.2                 6.2          0          0   \n",
       "5000          1               15.4                 5.4          1          1   \n",
       "\n",
       "      lips_thin  distance_nose_to_lip_long  gender  \n",
       "4996          0                          0  Female  \n",
       "4997          0                          0  Female  \n",
       "4998          0                          0  Female  \n",
       "4999          0                          0  Female  \n",
       "5000          1                          1    Male  "
      ]
     },
     "execution_count": 4,
     "metadata": {},
     "output_type": "execute_result"
    }
   ],
   "source": [
    "gender.tail()"
   ]
  },
  {
   "cell_type": "code",
   "execution_count": 5,
   "id": "3d3d4da5",
   "metadata": {},
   "outputs": [
    {
     "data": {
      "text/plain": [
       "(5001, 8)"
      ]
     },
     "execution_count": 5,
     "metadata": {},
     "output_type": "execute_result"
    }
   ],
   "source": [
    "#total rows and columns in dataset\n",
    "gender.shape"
   ]
  },
  {
   "cell_type": "code",
   "execution_count": 6,
   "id": "4abdfbbb",
   "metadata": {},
   "outputs": [
    {
     "data": {
      "text/html": [
       "<div>\n",
       "<style scoped>\n",
       "    .dataframe tbody tr th:only-of-type {\n",
       "        vertical-align: middle;\n",
       "    }\n",
       "\n",
       "    .dataframe tbody tr th {\n",
       "        vertical-align: top;\n",
       "    }\n",
       "\n",
       "    .dataframe thead th {\n",
       "        text-align: right;\n",
       "    }\n",
       "</style>\n",
       "<table border=\"1\" class=\"dataframe\">\n",
       "  <thead>\n",
       "    <tr style=\"text-align: right;\">\n",
       "      <th></th>\n",
       "      <th>long_hair</th>\n",
       "      <th>forehead_width_cm</th>\n",
       "      <th>forehead_height_cm</th>\n",
       "      <th>nose_wide</th>\n",
       "      <th>nose_long</th>\n",
       "      <th>lips_thin</th>\n",
       "      <th>distance_nose_to_lip_long</th>\n",
       "    </tr>\n",
       "  </thead>\n",
       "  <tbody>\n",
       "    <tr>\n",
       "      <th>count</th>\n",
       "      <td>5001.000000</td>\n",
       "      <td>5001.000000</td>\n",
       "      <td>5001.000000</td>\n",
       "      <td>5001.000000</td>\n",
       "      <td>5001.000000</td>\n",
       "      <td>5001.000000</td>\n",
       "      <td>5001.000000</td>\n",
       "    </tr>\n",
       "    <tr>\n",
       "      <th>mean</th>\n",
       "      <td>0.869626</td>\n",
       "      <td>13.181484</td>\n",
       "      <td>5.946311</td>\n",
       "      <td>0.493901</td>\n",
       "      <td>0.507898</td>\n",
       "      <td>0.493101</td>\n",
       "      <td>0.498900</td>\n",
       "    </tr>\n",
       "    <tr>\n",
       "      <th>std</th>\n",
       "      <td>0.336748</td>\n",
       "      <td>1.107128</td>\n",
       "      <td>0.541268</td>\n",
       "      <td>0.500013</td>\n",
       "      <td>0.499988</td>\n",
       "      <td>0.500002</td>\n",
       "      <td>0.500049</td>\n",
       "    </tr>\n",
       "    <tr>\n",
       "      <th>min</th>\n",
       "      <td>0.000000</td>\n",
       "      <td>11.400000</td>\n",
       "      <td>5.100000</td>\n",
       "      <td>0.000000</td>\n",
       "      <td>0.000000</td>\n",
       "      <td>0.000000</td>\n",
       "      <td>0.000000</td>\n",
       "    </tr>\n",
       "    <tr>\n",
       "      <th>25%</th>\n",
       "      <td>1.000000</td>\n",
       "      <td>12.200000</td>\n",
       "      <td>5.500000</td>\n",
       "      <td>0.000000</td>\n",
       "      <td>0.000000</td>\n",
       "      <td>0.000000</td>\n",
       "      <td>0.000000</td>\n",
       "    </tr>\n",
       "    <tr>\n",
       "      <th>50%</th>\n",
       "      <td>1.000000</td>\n",
       "      <td>13.100000</td>\n",
       "      <td>5.900000</td>\n",
       "      <td>0.000000</td>\n",
       "      <td>1.000000</td>\n",
       "      <td>0.000000</td>\n",
       "      <td>0.000000</td>\n",
       "    </tr>\n",
       "    <tr>\n",
       "      <th>75%</th>\n",
       "      <td>1.000000</td>\n",
       "      <td>14.000000</td>\n",
       "      <td>6.400000</td>\n",
       "      <td>1.000000</td>\n",
       "      <td>1.000000</td>\n",
       "      <td>1.000000</td>\n",
       "      <td>1.000000</td>\n",
       "    </tr>\n",
       "    <tr>\n",
       "      <th>max</th>\n",
       "      <td>1.000000</td>\n",
       "      <td>15.500000</td>\n",
       "      <td>7.100000</td>\n",
       "      <td>1.000000</td>\n",
       "      <td>1.000000</td>\n",
       "      <td>1.000000</td>\n",
       "      <td>1.000000</td>\n",
       "    </tr>\n",
       "  </tbody>\n",
       "</table>\n",
       "</div>"
      ],
      "text/plain": [
       "         long_hair  forehead_width_cm  forehead_height_cm    nose_wide  \\\n",
       "count  5001.000000        5001.000000         5001.000000  5001.000000   \n",
       "mean      0.869626          13.181484            5.946311     0.493901   \n",
       "std       0.336748           1.107128            0.541268     0.500013   \n",
       "min       0.000000          11.400000            5.100000     0.000000   \n",
       "25%       1.000000          12.200000            5.500000     0.000000   \n",
       "50%       1.000000          13.100000            5.900000     0.000000   \n",
       "75%       1.000000          14.000000            6.400000     1.000000   \n",
       "max       1.000000          15.500000            7.100000     1.000000   \n",
       "\n",
       "         nose_long    lips_thin  distance_nose_to_lip_long  \n",
       "count  5001.000000  5001.000000                5001.000000  \n",
       "mean      0.507898     0.493101                   0.498900  \n",
       "std       0.499988     0.500002                   0.500049  \n",
       "min       0.000000     0.000000                   0.000000  \n",
       "25%       0.000000     0.000000                   0.000000  \n",
       "50%       1.000000     0.000000                   0.000000  \n",
       "75%       1.000000     1.000000                   1.000000  \n",
       "max       1.000000     1.000000                   1.000000  "
      ]
     },
     "execution_count": 6,
     "metadata": {},
     "output_type": "execute_result"
    }
   ],
   "source": [
    "#getting the statistical information\n",
    "gender.describe()"
   ]
  },
  {
   "cell_type": "code",
   "execution_count": 7,
   "id": "1adfd2cb",
   "metadata": {},
   "outputs": [
    {
     "name": "stdout",
     "output_type": "stream",
     "text": [
      "<class 'pandas.core.frame.DataFrame'>\n",
      "RangeIndex: 5001 entries, 0 to 5000\n",
      "Data columns (total 8 columns):\n",
      " #   Column                     Non-Null Count  Dtype  \n",
      "---  ------                     --------------  -----  \n",
      " 0   long_hair                  5001 non-null   int64  \n",
      " 1   forehead_width_cm          5001 non-null   float64\n",
      " 2   forehead_height_cm         5001 non-null   float64\n",
      " 3   nose_wide                  5001 non-null   int64  \n",
      " 4   nose_long                  5001 non-null   int64  \n",
      " 5   lips_thin                  5001 non-null   int64  \n",
      " 6   distance_nose_to_lip_long  5001 non-null   int64  \n",
      " 7   gender                     5001 non-null   object \n",
      "dtypes: float64(2), int64(5), object(1)\n",
      "memory usage: 312.7+ KB\n"
     ]
    }
   ],
   "source": [
    "#finding the dtypes in dataset\n",
    "gender.info()"
   ]
  },
  {
   "cell_type": "code",
   "execution_count": 8,
   "id": "74adf55c",
   "metadata": {
    "scrolled": true
   },
   "outputs": [
    {
     "data": {
      "text/plain": [
       "long_hair                    0\n",
       "forehead_width_cm            0\n",
       "forehead_height_cm           0\n",
       "nose_wide                    0\n",
       "nose_long                    0\n",
       "lips_thin                    0\n",
       "distance_nose_to_lip_long    0\n",
       "gender                       0\n",
       "dtype: int64"
      ]
     },
     "execution_count": 8,
     "metadata": {},
     "output_type": "execute_result"
    }
   ],
   "source": [
    "#finding the null value in dataset\n",
    "gender.isnull().sum()"
   ]
  },
  {
   "cell_type": "markdown",
   "id": "f7e5b245",
   "metadata": {},
   "source": [
    "# Data Visualization"
   ]
  },
  {
   "cell_type": "code",
   "execution_count": 9,
   "id": "dfbb83d1",
   "metadata": {},
   "outputs": [
    {
     "data": {
      "text/plain": [
       "<AxesSubplot:xlabel='gender', ylabel='count'>"
      ]
     },
     "execution_count": 9,
     "metadata": {},
     "output_type": "execute_result"
    },
    {
     "data": {
      "image/png": "[encoded data removed]",
      "text/plain": [
       "<Figure size 432x288 with 1 Axes>"
      ]
     },
     "metadata": {},
     "output_type": "display_data"
    }
   ],
   "source": [
    "sns.set_theme()\n",
    "sns.countplot(data=gender,x='gender')"
   ]
  },
  {
   "cell_type": "code",
   "execution_count": 10,
   "id": "14c4c180",
   "metadata": {},
   "outputs": [
    {
     "data": {
      "text/plain": [
       "<AxesSubplot:xlabel='nose_wide', ylabel='nose_long'>"
      ]
     },
     "execution_count": 10,
     "metadata": {},
     "output_type": "execute_result"
    },
    {
     "data": {
      "image/png": "[encoded data removed]",
      "text/plain": [
       "<Figure size 432x288 with 1 Axes>"
      ]
     },
     "metadata": {},
     "output_type": "display_data"
    }
   ],
   "source": [
    "sns.barplot(data=gender,x='nose_wide',y='nose_long',hue='gender')"
   ]
  },
  {
   "cell_type": "code",
   "execution_count": 11,
   "id": "c6dc7c87",
   "metadata": {},
   "outputs": [
    {
     "data": {
      "text/plain": [
       "<AxesSubplot:xlabel='forehead_width_cm', ylabel='forehead_height_cm'>"
      ]
     },
     "execution_count": 11,
     "metadata": {},
     "output_type": "execute_result"
    },
    {
     "data": {
      "image/png": "[encoded data removed]",
      "text/plain": [
       "<Figure size 1080x720 with 1 Axes>"
      ]
     },
     "metadata": {},
     "output_type": "display_data"
    }
   ],
   "source": [
    "plt.figure(figsize=(15,10))\n",
    "sns.boxplot(data=gender,x='forehead_width_cm',y='forehead_height_cm',hue='gender')"
   ]
  },
  {
   "cell_type": "code",
   "execution_count": 12,
   "id": "59d92e3e",
   "metadata": {},
   "outputs": [
    {
     "data": {
      "text/plain": [
       "<AxesSubplot:xlabel='gender', ylabel='count'>"
      ]
     },
     "execution_count": 12,
     "metadata": {},
     "output_type": "execute_result"
    },
    {
     "data": {
      "image/png": "[encoded data removed]",
      "text/plain": [
       "<Figure size 432x288 with 1 Axes>"
      ]
     },
     "metadata": {},
     "output_type": "display_data"
    }
   ],
   "source": [
    "sns.countplot(data=gender,x='gender',hue='long_hair')"
   ]
  },
  {
   "cell_type": "code",
   "execution_count": 13,
   "id": "295a348f",
   "metadata": {},
   "outputs": [],
   "source": [
    "corr = gender.corr()"
   ]
  },
  {
   "cell_type": "code",
   "execution_count": 14,
   "id": "d497188f",
   "metadata": {},
   "outputs": [
    {
     "data": {
      "text/plain": [
       "<AxesSubplot:>"
      ]
     },
     "execution_count": 14,
     "metadata": {},
     "output_type": "execute_result"
    },
    {
     "data": {
      "image/png": "[encoded data removed]",
      "text/plain": [
       "<Figure size 432x288 with 2 Axes>"
      ]
     },
     "metadata": {},
     "output_type": "display_data"
    }
   ],
   "source": [
    "sns.heatmap(corr,annot=True,cmap='viridis')"
   ]
  },
  {
   "cell_type": "markdown",
   "id": "858ee6c1",
   "metadata": {},
   "source": [
    "### Label Encoder"
   ]
  },
  {
   "cell_type": "code",
   "execution_count": 15,
   "id": "fa0c601e",
   "metadata": {},
   "outputs": [],
   "source": [
    "from sklearn.preprocessing import LabelEncoder"
   ]
  },
  {
   "cell_type": "code",
   "execution_count": 16,
   "id": "d0bb3da6",
   "metadata": {},
   "outputs": [],
   "source": [
    "le = LabelEncoder()"
   ]
  },
  {
   "cell_type": "code",
   "execution_count": 17,
   "id": "35588f50",
   "metadata": {},
   "outputs": [],
   "source": [
    "label = le.fit_transform(gender.gender)"
   ]
  },
  {
   "cell_type": "code",
   "execution_count": 18,
   "id": "0db48613",
   "metadata": {},
   "outputs": [],
   "source": [
    "gender['target']=label"
   ]
  },
  {
   "cell_type": "code",
   "execution_count": 19,
   "id": "b69fb7ad",
   "metadata": {},
   "outputs": [
    {
     "data": {
      "text/html": [
       "<div>\n",
       "<style scoped>\n",
       "    .dataframe tbody tr th:only-of-type {\n",
       "        vertical-align: middle;\n",
       "    }\n",
       "\n",
       "    .dataframe tbody tr th {\n",
       "        vertical-align: top;\n",
       "    }\n",
       "\n",
       "    .dataframe thead th {\n",
       "        text-align: right;\n",
       "    }\n",
       "</style>\n",
       "<table border=\"1\" class=\"dataframe\">\n",
       "  <thead>\n",
       "    <tr style=\"text-align: right;\">\n",
       "      <th></th>\n",
       "      <th>long_hair</th>\n",
       "      <th>forehead_width_cm</th>\n",
       "      <th>forehead_height_cm</th>\n",
       "      <th>nose_wide</th>\n",
       "      <th>nose_long</th>\n",
       "      <th>lips_thin</th>\n",
       "      <th>distance_nose_to_lip_long</th>\n",
       "      <th>gender</th>\n",
       "      <th>target</th>\n",
       "    </tr>\n",
       "  </thead>\n",
       "  <tbody>\n",
       "    <tr>\n",
       "      <th>0</th>\n",
       "      <td>1</td>\n",
       "      <td>11.8</td>\n",
       "      <td>6.1</td>\n",
       "      <td>1</td>\n",
       "      <td>0</td>\n",
       "      <td>1</td>\n",
       "      <td>1</td>\n",
       "      <td>Male</td>\n",
       "      <td>1</td>\n",
       "    </tr>\n",
       "    <tr>\n",
       "      <th>1</th>\n",
       "      <td>0</td>\n",
       "      <td>14.0</td>\n",
       "      <td>5.4</td>\n",
       "      <td>0</td>\n",
       "      <td>0</td>\n",
       "      <td>1</td>\n",
       "      <td>0</td>\n",
       "      <td>Female</td>\n",
       "      <td>0</td>\n",
       "    </tr>\n",
       "    <tr>\n",
       "      <th>2</th>\n",
       "      <td>0</td>\n",
       "      <td>11.8</td>\n",
       "      <td>6.3</td>\n",
       "      <td>1</td>\n",
       "      <td>1</td>\n",
       "      <td>1</td>\n",
       "      <td>1</td>\n",
       "      <td>Male</td>\n",
       "      <td>1</td>\n",
       "    </tr>\n",
       "    <tr>\n",
       "      <th>3</th>\n",
       "      <td>0</td>\n",
       "      <td>14.4</td>\n",
       "      <td>6.1</td>\n",
       "      <td>0</td>\n",
       "      <td>1</td>\n",
       "      <td>1</td>\n",
       "      <td>1</td>\n",
       "      <td>Male</td>\n",
       "      <td>1</td>\n",
       "    </tr>\n",
       "    <tr>\n",
       "      <th>4</th>\n",
       "      <td>1</td>\n",
       "      <td>13.5</td>\n",
       "      <td>5.9</td>\n",
       "      <td>0</td>\n",
       "      <td>0</td>\n",
       "      <td>0</td>\n",
       "      <td>0</td>\n",
       "      <td>Female</td>\n",
       "      <td>0</td>\n",
       "    </tr>\n",
       "  </tbody>\n",
       "</table>\n",
       "</div>"
      ],
      "text/plain": [
       "   long_hair  forehead_width_cm  forehead_height_cm  nose_wide  nose_long  \\\n",
       "0          1               11.8                 6.1          1          0   \n",
       "1          0               14.0                 5.4          0          0   \n",
       "2          0               11.8                 6.3          1          1   \n",
       "3          0               14.4                 6.1          0          1   \n",
       "4          1               13.5                 5.9          0          0   \n",
       "\n",
       "   lips_thin  distance_nose_to_lip_long  gender  target  \n",
       "0          1                          1    Male       1  \n",
       "1          1                          0  Female       0  \n",
       "2          1                          1    Male       1  \n",
       "3          1                          1    Male       1  \n",
       "4          0                          0  Female       0  "
      ]
     },
     "execution_count": 19,
     "metadata": {},
     "output_type": "execute_result"
    }
   ],
   "source": [
    "gender.head()"
   ]
  },
  {
   "cell_type": "markdown",
   "id": "f885b257",
   "metadata": {},
   "source": [
    "## Splitting data into train test and split"
   ]
  },
  {
   "cell_type": "code",
   "execution_count": 20,
   "id": "421819c2",
   "metadata": {},
   "outputs": [],
   "source": [
    "X = gender.drop(columns=['gender','target'],axis=1)\n",
    "Y = gender['target']"
   ]
  },
  {
   "cell_type": "code",
   "execution_count": 21,
   "id": "4db5ab20",
   "metadata": {},
   "outputs": [],
   "source": [
    "from sklearn.model_selection import train_test_split\n",
    "X_train,X_test,Y_train,Y_test = train_test_split(X,Y,test_size=0.2,random_state=2)"
   ]
  },
  {
   "cell_type": "code",
   "execution_count": 22,
   "id": "fa4a9c36",
   "metadata": {},
   "outputs": [
    {
     "name": "stdout",
     "output_type": "stream",
     "text": [
      "(5001, 7) (4000, 7) (1001, 7)\n"
     ]
    }
   ],
   "source": [
    "print(X.shape,X_train.shape,X_test.shape)"
   ]
  },
  {
   "cell_type": "markdown",
   "id": "613b63b8",
   "metadata": {},
   "source": [
    "### Data Standarization"
   ]
  },
  {
   "cell_type": "code",
   "execution_count": 23,
   "id": "318c0b30",
   "metadata": {},
   "outputs": [
    {
     "name": "stdout",
     "output_type": "stream",
     "text": [
      "long_hair                    0.336748\n",
      "forehead_width_cm            1.107128\n",
      "forehead_height_cm           0.541268\n",
      "nose_wide                    0.500013\n",
      "nose_long                    0.499988\n",
      "lips_thin                    0.500002\n",
      "distance_nose_to_lip_long    0.500049\n",
      "target                       0.500050\n",
      "dtype: float64\n"
     ]
    }
   ],
   "source": [
    "print(gender.std())"
   ]
  },
  {
   "cell_type": "code",
   "execution_count": 24,
   "id": "43a9cc3b",
   "metadata": {},
   "outputs": [],
   "source": [
    "from sklearn.preprocessing import StandardScaler"
   ]
  },
  {
   "cell_type": "code",
   "execution_count": 25,
   "id": "6687d634",
   "metadata": {},
   "outputs": [],
   "source": [
    "standard = StandardScaler()"
   ]
  },
  {
   "cell_type": "code",
   "execution_count": 27,
   "id": "398324b8",
   "metadata": {},
   "outputs": [
    {
     "data": {
      "text/plain": [
       "StandardScaler()"
      ]
     },
     "execution_count": 27,
     "metadata": {},
     "output_type": "execute_result"
    }
   ],
   "source": [
    "standard.fit(X_train)"
   ]
  },
  {
   "cell_type": "code",
   "execution_count": 28,
   "id": "f422a836",
   "metadata": {},
   "outputs": [],
   "source": [
    "X_train_standard = standard.transform(X_train)\n",
    "X_test_standard = standard.transform(X_test)"
   ]
  },
  {
   "cell_type": "code",
   "execution_count": 29,
   "id": "25424a00",
   "metadata": {},
   "outputs": [
    {
     "name": "stdout",
     "output_type": "stream",
     "text": [
      "[[ 0.38055182 -0.53027712  0.10168843 ...  0.98757716  1.01156689\n",
      "   1.00702467]\n",
      " [ 0.38055182 -1.16656422 -1.00915464 ... -1.01257911 -0.98856537\n",
      "  -0.99302433]\n",
      " [ 0.38055182  0.74229708  0.84225047 ... -1.01257911  1.01156689\n",
      "  -0.99302433]\n",
      " ...\n",
      " [ 0.38055182 -0.89386975 -0.2685926  ...  0.98757716  1.01156689\n",
      "   1.00702467]\n",
      " [ 0.38055182 -0.62117528 -0.45373311 ... -1.01257911 -0.98856537\n",
      "  -0.99302433]\n",
      " [ 0.38055182  0.4696026  -1.19429515 ... -1.01257911 -0.98856537\n",
      "  -0.99302433]]\n"
     ]
    }
   ],
   "source": [
    "print(X_train_standard)"
   ]
  },
  {
   "cell_type": "code",
   "execution_count": 30,
   "id": "7e57f182",
   "metadata": {},
   "outputs": [
    {
     "name": "stdout",
     "output_type": "stream",
     "text": [
      "[[-2.62776299 -0.43937897 -0.2685926  ...  0.98757716  1.01156689\n",
      "   1.00702467]\n",
      " [ 0.38055182  0.65139892  0.65710996 ...  0.98757716  1.01156689\n",
      "   1.00702467]\n",
      " [ 0.38055182  1.65127865  1.02739098 ... -1.01257911  1.01156689\n",
      "   1.00702467]\n",
      " ...\n",
      " [ 0.38055182  1.56038049  1.21253149 ...  0.98757716 -0.98856537\n",
      "   1.00702467]\n",
      " [ 0.38055182 -1.4392587  -0.45373311 ... -1.01257911 -0.98856537\n",
      "  -0.99302433]\n",
      " [ 0.38055182  0.92409339 -1.19429515 ...  0.98757716  1.01156689\n",
      "  -0.99302433]]\n"
     ]
    }
   ],
   "source": [
    "print(X_test_standard)"
   ]
  },
  {
   "cell_type": "code",
   "execution_count": 32,
   "id": "dbad0f25",
   "metadata": {},
   "outputs": [
    {
     "name": "stdout",
     "output_type": "stream",
     "text": [
      "1.0\n"
     ]
    }
   ],
   "source": [
    "print(X_train_standard.std())"
   ]
  },
  {
   "cell_type": "code",
   "execution_count": 33,
   "id": "0401bda2",
   "metadata": {},
   "outputs": [
    {
     "name": "stdout",
     "output_type": "stream",
     "text": [
      "1.0151451288016025\n"
     ]
    }
   ],
   "source": [
    "print(X_test_standard.std())"
   ]
  },
  {
   "cell_type": "markdown",
   "id": "ea58b4c0",
   "metadata": {},
   "source": [
    "## Model Training"
   ]
  },
  {
   "cell_type": "code",
   "execution_count": 34,
   "id": "93635373",
   "metadata": {},
   "outputs": [],
   "source": [
    "from sklearn.linear_model import LogisticRegression\n",
    "from sklearn.metrics import accuracy_score"
   ]
  },
  {
   "cell_type": "code",
   "execution_count": 35,
   "id": "0e44d3a0",
   "metadata": {},
   "outputs": [],
   "source": [
    "lg_reg = LogisticRegression()"
   ]
  },
  {
   "cell_type": "code",
   "execution_count": 36,
   "id": "48e0dbbd",
   "metadata": {},
   "outputs": [
    {
     "data": {
      "text/plain": [
       "LogisticRegression()"
      ]
     },
     "execution_count": 36,
     "metadata": {},
     "output_type": "execute_result"
    }
   ],
   "source": [
    "lg_reg.fit(X_train_standard,Y_train)"
   ]
  },
  {
   "cell_type": "code",
   "execution_count": 38,
   "id": "aa6bfef9",
   "metadata": {},
   "outputs": [],
   "source": [
    "#accuracy on the training dataset\n",
    "X_train_prediction = lg_reg.predict(X_train_standard)\n",
    "training_data_accuracy = accuracy_score(X_train_prediction,Y_train)"
   ]
  },
  {
   "cell_type": "code",
   "execution_count": 39,
   "id": "ace77403",
   "metadata": {},
   "outputs": [
    {
     "name": "stdout",
     "output_type": "stream",
     "text": [
      "The accuracy score on the training data is:  0.9695\n"
     ]
    }
   ],
   "source": [
    "print(\"The accuracy score on the training data is: \",training_data_accuracy)"
   ]
  },
  {
   "cell_type": "code",
   "execution_count": 40,
   "id": "8fc66c6b",
   "metadata": {},
   "outputs": [],
   "source": [
    "X_test_prediction = lg_reg.predict(X_test_standard)\n",
    "test_data_accuracy = accuracy_score(X_test_prediction,Y_test)"
   ]
  },
  {
   "cell_type": "code",
   "execution_count": 41,
   "id": "12753850",
   "metadata": {},
   "outputs": [
    {
     "name": "stdout",
     "output_type": "stream",
     "text": [
      "The accuracy on the test data:  0.9630369630369631\n"
     ]
    }
   ],
   "source": [
    "print(\"The accuracy on the test data: \",test_data_accuracy)"
   ]
  },
  {
   "cell_type": "code",
   "execution_count": 42,
   "id": "e973cb27",
   "metadata": {},
   "outputs": [],
   "source": [
    "from sklearn.metrics import confusion_matrix"
   ]
  },
  {
   "cell_type": "code",
   "execution_count": 43,
   "id": "bbbb7d62",
   "metadata": {},
   "outputs": [],
   "source": [
    "cm = confusion_matrix(X_test_prediction,Y_test)"
   ]
  },
  {
   "cell_type": "code",
   "execution_count": 45,
   "id": "3e142d44",
   "metadata": {},
   "outputs": [
    {
     "name": "stdout",
     "output_type": "stream",
     "text": [
      "[[481  19]\n",
      " [ 18 483]]\n"
     ]
    },
    {
     "data": {
      "image/png": "[encoded data removed]",
      "text/plain": [
       "<Figure size 432x288 with 2 Axes>"
      ]
     },
     "metadata": {},
     "output_type": "display_data"
    }
   ],
   "source": [
    "sns.heatmap(cm,annot=True,fmt=\".0f\")\n",
    "print(cm)"
   ]
  },
  {
   "cell_type": "code",
   "execution_count": 46,
   "id": "56b1ed4c",
   "metadata": {},
   "outputs": [],
   "source": [
    "from sklearn.neighbors import KNeighborsClassifier"
   ]
  },
  {
   "cell_type": "code",
   "execution_count": 47,
   "id": "53448b30",
   "metadata": {},
   "outputs": [],
   "source": [
    "knn = KNeighborsClassifier()"
   ]
  },
  {
   "cell_type": "code",
   "execution_count": 48,
   "id": "c82f2de4",
   "metadata": {},
   "outputs": [
    {
     "data": {
      "text/plain": [
       "KNeighborsClassifier()"
      ]
     },
     "execution_count": 48,
     "metadata": {},
     "output_type": "execute_result"
    }
   ],
   "source": [
    "knn.fit(X_train_standard,Y_train)"
   ]
  },
  {
   "cell_type": "code",
   "execution_count": 50,
   "id": "d109ed34",
   "metadata": {},
   "outputs": [],
   "source": [
    "#accuracy on the test data\n",
    "X_test_prediction = knn.predict(X_test_standard)\n",
    "test_data_acc = accuracy_score(X_test_prediction,Y_test)"
   ]
  },
  {
   "cell_type": "code",
   "execution_count": 51,
   "id": "3412bd39",
   "metadata": {},
   "outputs": [
    {
     "name": "stdout",
     "output_type": "stream",
     "text": [
      "The Accuracy Score on the test data under KNN model is  0.968031968031968\n"
     ]
    }
   ],
   "source": [
    "print(\"The Accuracy Score on the test data under KNN model is \",test_data_acc)"
   ]
  },
  {
   "cell_type": "code",
   "execution_count": null,
   "id": "ea6ca13e",
   "metadata": {},
   "outputs": [],
   "source": []
  }
 ],
 "metadata": {
  "kernelspec": {
   "display_name": "Python 3 (ipykernel)",
   "language": "python",
   "name": "python3"
  },
  "language_info": {
   "codemirror_mode": {
    "name": "ipython",
    "version": 3
   },
   "file_extension": ".py",
   "mimetype": "text/x-python",
   "name": "python",
   "nbconvert_exporter": "python",
   "pygments_lexer": "ipython3",
   "version": "3.9.12"
  }
 },
 "nbformat": 4,
 "nbformat_minor": 5
}
