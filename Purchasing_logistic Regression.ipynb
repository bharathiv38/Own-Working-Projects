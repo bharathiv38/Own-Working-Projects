{
 "cells": [
  {
   "cell_type": "code",
   "execution_count": 113,
   "metadata": {},
   "outputs": [],
   "source": [
    "#lets import libraries\n",
    "import pandas as pd\n",
    "import numpy as np\n",
    "import matplotlib.pyplot as plt\n",
    "%matplotlib inline\n",
    "import seaborn as sns\n",
    "from sklearn.model_selection import train_test_split"
   ]
  },
  {
   "cell_type": "code",
   "execution_count": 114,
   "metadata": {},
   "outputs": [],
   "source": [
    "#loading dataframe\n",
    "data = pd.read_csv(r\"C:\\Users\\bharathi.v04\\Downloads\\User_Data.csv\")"
   ]
  },
  {
   "cell_type": "code",
   "execution_count": 115,
   "metadata": {},
   "outputs": [
    {
     "data": {
      "text/html": [
       "<div>\n",
       "<style scoped>\n",
       "    .dataframe tbody tr th:only-of-type {\n",
       "        vertical-align: middle;\n",
       "    }\n",
       "\n",
       "    .dataframe tbody tr th {\n",
       "        vertical-align: top;\n",
       "    }\n",
       "\n",
       "    .dataframe thead th {\n",
       "        text-align: right;\n",
       "    }\n",
       "</style>\n",
       "<table border=\"1\" class=\"dataframe\">\n",
       "  <thead>\n",
       "    <tr style=\"text-align: right;\">\n",
       "      <th></th>\n",
       "      <th>User ID</th>\n",
       "      <th>Gender</th>\n",
       "      <th>Age</th>\n",
       "      <th>EstimatedSalary</th>\n",
       "      <th>Purchased</th>\n",
       "    </tr>\n",
       "  </thead>\n",
       "  <tbody>\n",
       "    <tr>\n",
       "      <th>0</th>\n",
       "      <td>15624510</td>\n",
       "      <td>Male</td>\n",
       "      <td>19</td>\n",
       "      <td>19000</td>\n",
       "      <td>0</td>\n",
       "    </tr>\n",
       "    <tr>\n",
       "      <th>1</th>\n",
       "      <td>15810944</td>\n",
       "      <td>Male</td>\n",
       "      <td>35</td>\n",
       "      <td>20000</td>\n",
       "      <td>0</td>\n",
       "    </tr>\n",
       "    <tr>\n",
       "      <th>2</th>\n",
       "      <td>15668575</td>\n",
       "      <td>Female</td>\n",
       "      <td>26</td>\n",
       "      <td>43000</td>\n",
       "      <td>0</td>\n",
       "    </tr>\n",
       "    <tr>\n",
       "      <th>3</th>\n",
       "      <td>15603246</td>\n",
       "      <td>Female</td>\n",
       "      <td>27</td>\n",
       "      <td>57000</td>\n",
       "      <td>0</td>\n",
       "    </tr>\n",
       "    <tr>\n",
       "      <th>4</th>\n",
       "      <td>15804002</td>\n",
       "      <td>Male</td>\n",
       "      <td>19</td>\n",
       "      <td>76000</td>\n",
       "      <td>0</td>\n",
       "    </tr>\n",
       "  </tbody>\n",
       "</table>\n",
       "</div>"
      ],
      "text/plain": [
       "    User ID  Gender  Age  EstimatedSalary  Purchased\n",
       "0  15624510    Male   19            19000          0\n",
       "1  15810944    Male   35            20000          0\n",
       "2  15668575  Female   26            43000          0\n",
       "3  15603246  Female   27            57000          0\n",
       "4  15804002    Male   19            76000          0"
      ]
     },
     "execution_count": 115,
     "metadata": {},
     "output_type": "execute_result"
    }
   ],
   "source": [
    "#checking first 5 rows of dataframe\n",
    "data.head()"
   ]
  },
  {
   "cell_type": "code",
   "execution_count": 116,
   "metadata": {},
   "outputs": [
    {
     "data": {
      "text/html": [
       "<div>\n",
       "<style scoped>\n",
       "    .dataframe tbody tr th:only-of-type {\n",
       "        vertical-align: middle;\n",
       "    }\n",
       "\n",
       "    .dataframe tbody tr th {\n",
       "        vertical-align: top;\n",
       "    }\n",
       "\n",
       "    .dataframe thead th {\n",
       "        text-align: right;\n",
       "    }\n",
       "</style>\n",
       "<table border=\"1\" class=\"dataframe\">\n",
       "  <thead>\n",
       "    <tr style=\"text-align: right;\">\n",
       "      <th></th>\n",
       "      <th>User ID</th>\n",
       "      <th>Gender</th>\n",
       "      <th>Age</th>\n",
       "      <th>EstimatedSalary</th>\n",
       "      <th>Purchased</th>\n",
       "    </tr>\n",
       "  </thead>\n",
       "  <tbody>\n",
       "    <tr>\n",
       "      <th>395</th>\n",
       "      <td>15691863</td>\n",
       "      <td>Female</td>\n",
       "      <td>46</td>\n",
       "      <td>41000</td>\n",
       "      <td>1</td>\n",
       "    </tr>\n",
       "    <tr>\n",
       "      <th>396</th>\n",
       "      <td>15706071</td>\n",
       "      <td>Male</td>\n",
       "      <td>51</td>\n",
       "      <td>23000</td>\n",
       "      <td>1</td>\n",
       "    </tr>\n",
       "    <tr>\n",
       "      <th>397</th>\n",
       "      <td>15654296</td>\n",
       "      <td>Female</td>\n",
       "      <td>50</td>\n",
       "      <td>20000</td>\n",
       "      <td>1</td>\n",
       "    </tr>\n",
       "    <tr>\n",
       "      <th>398</th>\n",
       "      <td>15755018</td>\n",
       "      <td>Male</td>\n",
       "      <td>36</td>\n",
       "      <td>33000</td>\n",
       "      <td>0</td>\n",
       "    </tr>\n",
       "    <tr>\n",
       "      <th>399</th>\n",
       "      <td>15594041</td>\n",
       "      <td>Female</td>\n",
       "      <td>49</td>\n",
       "      <td>36000</td>\n",
       "      <td>1</td>\n",
       "    </tr>\n",
       "  </tbody>\n",
       "</table>\n",
       "</div>"
      ],
      "text/plain": [
       "      User ID  Gender  Age  EstimatedSalary  Purchased\n",
       "395  15691863  Female   46            41000          1\n",
       "396  15706071    Male   51            23000          1\n",
       "397  15654296  Female   50            20000          1\n",
       "398  15755018    Male   36            33000          0\n",
       "399  15594041  Female   49            36000          1"
      ]
     },
     "execution_count": 116,
     "metadata": {},
     "output_type": "execute_result"
    }
   ],
   "source": [
    "data.tail()"
   ]
  },
  {
   "cell_type": "code",
   "execution_count": 117,
   "metadata": {},
   "outputs": [
    {
     "data": {
      "text/plain": [
       "(400, 5)"
      ]
     },
     "execution_count": 117,
     "metadata": {},
     "output_type": "execute_result"
    }
   ],
   "source": [
    "#finding total rows and columns\n",
    "data.shape"
   ]
  },
  {
   "cell_type": "code",
   "execution_count": 118,
   "metadata": {},
   "outputs": [
    {
     "name": "stdout",
     "output_type": "stream",
     "text": [
      "<class 'pandas.core.frame.DataFrame'>\n",
      "RangeIndex: 400 entries, 0 to 399\n",
      "Data columns (total 5 columns):\n",
      "User ID            400 non-null int64\n",
      "Gender             400 non-null object\n",
      "Age                400 non-null int64\n",
      "EstimatedSalary    400 non-null int64\n",
      "Purchased          400 non-null int64\n",
      "dtypes: int64(4), object(1)\n",
      "memory usage: 15.7+ KB\n"
     ]
    }
   ],
   "source": [
    "#getting info\n",
    "data.info()"
   ]
  },
  {
   "cell_type": "code",
   "execution_count": 119,
   "metadata": {},
   "outputs": [
    {
     "data": {
      "text/html": [
       "<div>\n",
       "<style scoped>\n",
       "    .dataframe tbody tr th:only-of-type {\n",
       "        vertical-align: middle;\n",
       "    }\n",
       "\n",
       "    .dataframe tbody tr th {\n",
       "        vertical-align: top;\n",
       "    }\n",
       "\n",
       "    .dataframe thead th {\n",
       "        text-align: right;\n",
       "    }\n",
       "</style>\n",
       "<table border=\"1\" class=\"dataframe\">\n",
       "  <thead>\n",
       "    <tr style=\"text-align: right;\">\n",
       "      <th></th>\n",
       "      <th>User ID</th>\n",
       "      <th>Age</th>\n",
       "      <th>EstimatedSalary</th>\n",
       "      <th>Purchased</th>\n",
       "    </tr>\n",
       "  </thead>\n",
       "  <tbody>\n",
       "    <tr>\n",
       "      <th>count</th>\n",
       "      <td>4.000000e+02</td>\n",
       "      <td>400.000000</td>\n",
       "      <td>400.000000</td>\n",
       "      <td>400.000000</td>\n",
       "    </tr>\n",
       "    <tr>\n",
       "      <th>mean</th>\n",
       "      <td>1.569154e+07</td>\n",
       "      <td>37.655000</td>\n",
       "      <td>69742.500000</td>\n",
       "      <td>0.357500</td>\n",
       "    </tr>\n",
       "    <tr>\n",
       "      <th>std</th>\n",
       "      <td>7.165832e+04</td>\n",
       "      <td>10.482877</td>\n",
       "      <td>34096.960282</td>\n",
       "      <td>0.479864</td>\n",
       "    </tr>\n",
       "    <tr>\n",
       "      <th>min</th>\n",
       "      <td>1.556669e+07</td>\n",
       "      <td>18.000000</td>\n",
       "      <td>15000.000000</td>\n",
       "      <td>0.000000</td>\n",
       "    </tr>\n",
       "    <tr>\n",
       "      <th>25%</th>\n",
       "      <td>1.562676e+07</td>\n",
       "      <td>29.750000</td>\n",
       "      <td>43000.000000</td>\n",
       "      <td>0.000000</td>\n",
       "    </tr>\n",
       "    <tr>\n",
       "      <th>50%</th>\n",
       "      <td>1.569434e+07</td>\n",
       "      <td>37.000000</td>\n",
       "      <td>70000.000000</td>\n",
       "      <td>0.000000</td>\n",
       "    </tr>\n",
       "    <tr>\n",
       "      <th>75%</th>\n",
       "      <td>1.575036e+07</td>\n",
       "      <td>46.000000</td>\n",
       "      <td>88000.000000</td>\n",
       "      <td>1.000000</td>\n",
       "    </tr>\n",
       "    <tr>\n",
       "      <th>max</th>\n",
       "      <td>1.581524e+07</td>\n",
       "      <td>60.000000</td>\n",
       "      <td>150000.000000</td>\n",
       "      <td>1.000000</td>\n",
       "    </tr>\n",
       "  </tbody>\n",
       "</table>\n",
       "</div>"
      ],
      "text/plain": [
       "            User ID         Age  EstimatedSalary   Purchased\n",
       "count  4.000000e+02  400.000000       400.000000  400.000000\n",
       "mean   1.569154e+07   37.655000     69742.500000    0.357500\n",
       "std    7.165832e+04   10.482877     34096.960282    0.479864\n",
       "min    1.556669e+07   18.000000     15000.000000    0.000000\n",
       "25%    1.562676e+07   29.750000     43000.000000    0.000000\n",
       "50%    1.569434e+07   37.000000     70000.000000    0.000000\n",
       "75%    1.575036e+07   46.000000     88000.000000    1.000000\n",
       "max    1.581524e+07   60.000000    150000.000000    1.000000"
      ]
     },
     "execution_count": 119,
     "metadata": {},
     "output_type": "execute_result"
    }
   ],
   "source": [
    "#getting statistical info\n",
    "data.describe()"
   ]
  },
  {
   "cell_type": "markdown",
   "metadata": {},
   "source": [
    "##### Data Visualization"
   ]
  },
  {
   "cell_type": "code",
   "execution_count": 120,
   "metadata": {},
   "outputs": [],
   "source": [
    "sns.set()"
   ]
  },
  {
   "cell_type": "code",
   "execution_count": 121,
   "metadata": {},
   "outputs": [
    {
     "data": {
      "text/plain": [
       "<matplotlib.axes._subplots.AxesSubplot at 0x1f655daecc0>"
      ]
     },
     "execution_count": 121,
     "metadata": {},
     "output_type": "execute_result"
    },
    {
     "data": {
      "image/png": "[encoded data removed]",
      "text/plain": [
       "<Figure size 432x288 with 1 Axes>"
      ]
     },
     "metadata": {},
     "output_type": "display_data"
    }
   ],
   "source": [
    "sns.countplot(data['Gender'])"
   ]
  },
  {
   "cell_type": "code",
   "execution_count": 122,
   "metadata": {},
   "outputs": [
    {
     "name": "stderr",
     "output_type": "stream",
     "text": [
      "C:\\ProgramData\\Anaconda3\\lib\\site-packages\\matplotlib\\axes\\_axes.py:6462: UserWarning: The 'normed' kwarg is deprecated, and has been replaced by the 'density' kwarg.\n",
      "  warnings.warn(\"The 'normed' kwarg is deprecated, and has been \"\n"
     ]
    },
    {
     "data": {
      "text/plain": [
       "<matplotlib.axes._subplots.AxesSubplot at 0x1f655c7eac8>"
      ]
     },
     "execution_count": 122,
     "metadata": {},
     "output_type": "execute_result"
    },
    {
     "data": {
      "image/png": "[encoded data removed]",
      "text/plain": [
       "<Figure size 432x288 with 1 Axes>"
      ]
     },
     "metadata": {},
     "output_type": "display_data"
    }
   ],
   "source": [
    "sns.distplot(data['Purchased'])"
   ]
  },
  {
   "cell_type": "code",
   "execution_count": 123,
   "metadata": {},
   "outputs": [
    {
     "data": {
      "text/plain": [
       "<matplotlib.axes._subplots.AxesSubplot at 0x1f656e31278>"
      ]
     },
     "execution_count": 123,
     "metadata": {},
     "output_type": "execute_result"
    },
    {
     "data": {
      "image/png": "[encoded data removed]",
      "text/plain": [
       "<Figure size 432x288 with 1 Axes>"
      ]
     },
     "metadata": {},
     "output_type": "display_data"
    }
   ],
   "source": [
    "sns.boxplot(data=data,x='Purchased',y='Age')"
   ]
  },
  {
   "cell_type": "code",
   "execution_count": 124,
   "metadata": {},
   "outputs": [
    {
     "data": {
      "text/plain": [
       "<matplotlib.axes._subplots.AxesSubplot at 0x1f656e95f98>"
      ]
     },
     "execution_count": 124,
     "metadata": {},
     "output_type": "execute_result"
    },
    {
     "data": {
      "image/png": "[encoded data removed]",
      "text/plain": [
       "<Figure size 432x288 with 1 Axes>"
      ]
     },
     "metadata": {},
     "output_type": "display_data"
    }
   ],
   "source": [
    "sns.barplot(data=data,x='Gender',y='Age')"
   ]
  },
  {
   "cell_type": "markdown",
   "metadata": {},
   "source": [
    "##### Correlation "
   ]
  },
  {
   "cell_type": "code",
   "execution_count": 125,
   "metadata": {},
   "outputs": [],
   "source": [
    "correlation = data.corr()"
   ]
  },
  {
   "cell_type": "code",
   "execution_count": 126,
   "metadata": {},
   "outputs": [
    {
     "data": {
      "text/plain": [
       "<matplotlib.axes._subplots.AxesSubplot at 0x1f656ef0a90>"
      ]
     },
     "execution_count": 126,
     "metadata": {},
     "output_type": "execute_result"
    },
    {
     "data": {
      "image/png": "[encoded data removed]",
      "text/plain": [
       "<Figure size 432x288 with 2 Axes>"
      ]
     },
     "metadata": {},
     "output_type": "display_data"
    }
   ],
   "source": [
    "\n",
    "sns.heatmap(correlation,annot=True,fmt='.1f',cmap='Blues')"
   ]
  },
  {
   "cell_type": "code",
   "execution_count": 127,
   "metadata": {},
   "outputs": [],
   "source": [
    "from sklearn.preprocessing import LabelEncoder"
   ]
  },
  {
   "cell_type": "code",
   "execution_count": 128,
   "metadata": {},
   "outputs": [],
   "source": [
    "le = LabelEncoder()\n",
    "label=le.fit_transform(data['Gender'])"
   ]
  },
  {
   "cell_type": "code",
   "execution_count": 129,
   "metadata": {},
   "outputs": [
    {
     "name": "stdout",
     "output_type": "stream",
     "text": [
      "[1 1 0 0 1 1 0 0 1 0 0 0 1 1 1 1 1 1 1 0 1 0 1 0 1 1 1 0 1 1 1 0 0 0 1 1 0\n",
      " 1 0 0 0 0 1 1 0 1 1 0 1 0 0 0 0 0 0 0 0 1 1 0 1 1 0 1 0 1 1 0 0 0 1 0 0 0\n",
      " 1 1 1 0 0 0 1 1 1 1 0 0 1 0 1 1 1 0 1 0 0 0 0 1 1 0 1 1 0 0 0 1 0 1 1 0 0\n",
      " 0 1 1 1 1 1 1 1 1 0 1 0 1 0 0 1 1 1 0 1 1 1 0 0 1 0 1 0 1 1 0 1 1 0 0 0 0\n",
      " 1 1 0 1 1 0 1 0 1 1 1 0 1 1 0 1 0 0 0 0 1 0 1 1 0 0 0 0 0 1 1 0 1 0 0 1 0\n",
      " 1 0 0 1 1 1 0 1 1 1 1 0 0 1 1 1 1 0 0 0 0 0 0 0 0 0 1 0 1 1 0 1 1 0 1 0 1\n",
      " 1 1 0 1 0 1 0 0 0 1 1 1 0 1 1 0 0 0 1 1 0 0 0 0 0 0 1 0 0 1 0 0 0 0 0 1 0\n",
      " 0 0 1 0 0 1 0 1 1 0 1 0 0 1 1 0 1 1 1 0 0 0 1 1 0 1 0 0 0 1 0 1 1 1 1 0 0\n",
      " 1 0 1 1 0 1 0 1 0 1 0 0 1 0 0 1 0 0 0 0 0 1 1 1 0 0 1 0 0 0 1 0 1 0 1 0 1\n",
      " 1 1 0 1 1 0 1 0 1 0 0 1 0 1 0 1 1 0 1 0 0 1 1 1 0 1 1 1 0 0 0 1 0 0 1 1 0\n",
      " 0 1 0 1 0 0 0 0 1 0 1 1 0 1 0 1 0 1 1 0 1 1 0 1 0 0 1 0 1 0]\n"
     ]
    }
   ],
   "source": [
    "print(label)"
   ]
  },
  {
   "cell_type": "code",
   "execution_count": 136,
   "metadata": {},
   "outputs": [],
   "source": [
    "data['Gender'] = label"
   ]
  },
  {
   "cell_type": "code",
   "execution_count": 138,
   "metadata": {},
   "outputs": [
    {
     "data": {
      "text/html": [
       "<div>\n",
       "<style scoped>\n",
       "    .dataframe tbody tr th:only-of-type {\n",
       "        vertical-align: middle;\n",
       "    }\n",
       "\n",
       "    .dataframe tbody tr th {\n",
       "        vertical-align: top;\n",
       "    }\n",
       "\n",
       "    .dataframe thead th {\n",
       "        text-align: right;\n",
       "    }\n",
       "</style>\n",
       "<table border=\"1\" class=\"dataframe\">\n",
       "  <thead>\n",
       "    <tr style=\"text-align: right;\">\n",
       "      <th></th>\n",
       "      <th>User ID</th>\n",
       "      <th>Gender</th>\n",
       "      <th>Age</th>\n",
       "      <th>EstimatedSalary</th>\n",
       "      <th>Purchased</th>\n",
       "    </tr>\n",
       "  </thead>\n",
       "  <tbody>\n",
       "    <tr>\n",
       "      <th>0</th>\n",
       "      <td>15624510</td>\n",
       "      <td>1</td>\n",
       "      <td>19</td>\n",
       "      <td>19000</td>\n",
       "      <td>0</td>\n",
       "    </tr>\n",
       "    <tr>\n",
       "      <th>1</th>\n",
       "      <td>15810944</td>\n",
       "      <td>1</td>\n",
       "      <td>35</td>\n",
       "      <td>20000</td>\n",
       "      <td>0</td>\n",
       "    </tr>\n",
       "    <tr>\n",
       "      <th>2</th>\n",
       "      <td>15668575</td>\n",
       "      <td>0</td>\n",
       "      <td>26</td>\n",
       "      <td>43000</td>\n",
       "      <td>0</td>\n",
       "    </tr>\n",
       "    <tr>\n",
       "      <th>3</th>\n",
       "      <td>15603246</td>\n",
       "      <td>0</td>\n",
       "      <td>27</td>\n",
       "      <td>57000</td>\n",
       "      <td>0</td>\n",
       "    </tr>\n",
       "    <tr>\n",
       "      <th>4</th>\n",
       "      <td>15804002</td>\n",
       "      <td>1</td>\n",
       "      <td>19</td>\n",
       "      <td>76000</td>\n",
       "      <td>0</td>\n",
       "    </tr>\n",
       "  </tbody>\n",
       "</table>\n",
       "</div>"
      ],
      "text/plain": [
       "    User ID  Gender  Age  EstimatedSalary  Purchased\n",
       "0  15624510       1   19            19000          0\n",
       "1  15810944       1   35            20000          0\n",
       "2  15668575       0   26            43000          0\n",
       "3  15603246       0   27            57000          0\n",
       "4  15804002       1   19            76000          0"
      ]
     },
     "execution_count": 138,
     "metadata": {},
     "output_type": "execute_result"
    }
   ],
   "source": [
    "data.head()"
   ]
  },
  {
   "cell_type": "markdown",
   "metadata": {},
   "source": [
    "#### Splitting data into Features and label"
   ]
  },
  {
   "cell_type": "code",
   "execution_count": 139,
   "metadata": {},
   "outputs": [],
   "source": [
    "X = data.drop(columns=['User ID','Purchased'],axis=1)\n",
    "Y = data['Purchased']"
   ]
  },
  {
   "cell_type": "code",
   "execution_count": 140,
   "metadata": {},
   "outputs": [
    {
     "name": "stdout",
     "output_type": "stream",
     "text": [
      "     Gender  Age  EstimatedSalary\n",
      "0         1   19            19000\n",
      "1         1   35            20000\n",
      "2         0   26            43000\n",
      "3         0   27            57000\n",
      "4         1   19            76000\n",
      "5         1   27            58000\n",
      "6         0   27            84000\n",
      "7         0   32           150000\n",
      "8         1   25            33000\n",
      "9         0   35            65000\n",
      "10        0   26            80000\n",
      "11        0   26            52000\n",
      "12        1   20            86000\n",
      "13        1   32            18000\n",
      "14        1   18            82000\n",
      "15        1   29            80000\n",
      "16        1   47            25000\n",
      "17        1   45            26000\n",
      "18        1   46            28000\n",
      "19        0   48            29000\n",
      "20        1   45            22000\n",
      "21        0   47            49000\n",
      "22        1   48            41000\n",
      "23        0   45            22000\n",
      "24        1   46            23000\n",
      "25        1   47            20000\n",
      "26        1   49            28000\n",
      "27        0   47            30000\n",
      "28        1   29            43000\n",
      "29        1   31            18000\n",
      "..      ...  ...              ...\n",
      "370       0   60            46000\n",
      "371       1   60            83000\n",
      "372       0   39            73000\n",
      "373       1   59           130000\n",
      "374       0   37            80000\n",
      "375       0   46            32000\n",
      "376       0   46            74000\n",
      "377       0   42            53000\n",
      "378       1   41            87000\n",
      "379       0   58            23000\n",
      "380       1   42            64000\n",
      "381       1   48            33000\n",
      "382       0   44           139000\n",
      "383       1   49            28000\n",
      "384       0   57            33000\n",
      "385       1   56            60000\n",
      "386       0   49            39000\n",
      "387       1   39            71000\n",
      "388       1   47            34000\n",
      "389       0   48            35000\n",
      "390       1   48            33000\n",
      "391       1   47            23000\n",
      "392       0   45            45000\n",
      "393       1   60            42000\n",
      "394       0   39            59000\n",
      "395       0   46            41000\n",
      "396       1   51            23000\n",
      "397       0   50            20000\n",
      "398       1   36            33000\n",
      "399       0   49            36000\n",
      "\n",
      "[400 rows x 3 columns]\n"
     ]
    }
   ],
   "source": [
    "print(X)"
   ]
  },
  {
   "cell_type": "code",
   "execution_count": 141,
   "metadata": {},
   "outputs": [
    {
     "name": "stdout",
     "output_type": "stream",
     "text": [
      "0      0\n",
      "1      0\n",
      "2      0\n",
      "3      0\n",
      "4      0\n",
      "5      0\n",
      "6      0\n",
      "7      1\n",
      "8      0\n",
      "9      0\n",
      "10     0\n",
      "11     0\n",
      "12     0\n",
      "13     0\n",
      "14     0\n",
      "15     0\n",
      "16     1\n",
      "17     1\n",
      "18     1\n",
      "19     1\n",
      "20     1\n",
      "21     1\n",
      "22     1\n",
      "23     1\n",
      "24     1\n",
      "25     1\n",
      "26     1\n",
      "27     1\n",
      "28     0\n",
      "29     0\n",
      "      ..\n",
      "370    1\n",
      "371    1\n",
      "372    0\n",
      "373    1\n",
      "374    0\n",
      "375    1\n",
      "376    0\n",
      "377    0\n",
      "378    1\n",
      "379    1\n",
      "380    0\n",
      "381    1\n",
      "382    1\n",
      "383    1\n",
      "384    1\n",
      "385    1\n",
      "386    1\n",
      "387    0\n",
      "388    1\n",
      "389    1\n",
      "390    1\n",
      "391    1\n",
      "392    1\n",
      "393    1\n",
      "394    0\n",
      "395    1\n",
      "396    1\n",
      "397    1\n",
      "398    0\n",
      "399    1\n",
      "Name: Purchased, Length: 400, dtype: int64\n"
     ]
    }
   ],
   "source": [
    "print(Y)"
   ]
  },
  {
   "cell_type": "markdown",
   "metadata": {},
   "source": [
    "##### Splitting into train test and split"
   ]
  },
  {
   "cell_type": "code",
   "execution_count": 142,
   "metadata": {},
   "outputs": [],
   "source": [
    "X_train,X_test,Y_train,Y_test = train_test_split(X,Y,test_size=0.2,random_state=2)"
   ]
  },
  {
   "cell_type": "markdown",
   "metadata": {},
   "source": [
    "##### Feature Scaling"
   ]
  },
  {
   "cell_type": "code",
   "execution_count": 143,
   "metadata": {},
   "outputs": [],
   "source": [
    "from sklearn.preprocessing import StandardScaler\n",
    "scaler = StandardScaler()\n",
    "X_train = scaler.fit_transform(X_train)\n",
    "X_test = scaler.transform(X_test)"
   ]
  },
  {
   "cell_type": "code",
   "execution_count": 145,
   "metadata": {},
   "outputs": [
    {
     "name": "stdout",
     "output_type": "stream",
     "text": [
      "[[-0.97530483  0.88928823 -0.65924556]\n",
      " [ 1.02532046 -0.17254846  0.87392651]\n",
      " [-0.97530483 -1.04132394 -0.36440478]\n",
      " [ 1.02532046  0.98581884  0.6085698 ]\n",
      " [ 1.02532046 -0.94479333  0.57908572]\n",
      " [-0.97530483  0.40663519  0.01888824]\n",
      " [ 1.02532046  0.98581884  2.11225779]\n",
      " [ 1.02532046  0.31010458 -0.30543662]\n",
      " [ 1.02532046  1.7580637  -0.27595254]\n",
      " [ 1.02532046 -0.17254846  2.20071003]\n",
      " [-0.97530483  1.7580637   1.0213469 ]\n",
      " [ 1.02532046 -1.33091576 -1.48479975]\n",
      " [-0.97530483  2.04765553  0.54960165]\n",
      " [-0.97530483  1.27541066  1.90586924]\n",
      " [ 1.02532046 -1.13785454  0.31372902]\n",
      " [-0.97530483 -0.36560968 -0.77718187]\n",
      " [ 1.02532046 -1.71703819  0.49063349]\n",
      " [ 1.02532046 -0.5586709  -1.51428383]\n",
      " [ 1.02532046  0.31010458 -0.71821372]\n",
      " [-0.97530483  0.02051275 -0.57079333]\n",
      " [ 1.02532046  0.02051275  0.04837232]\n",
      " [ 1.02532046 -0.07601785 -0.51182517]\n",
      " [ 1.02532046 -0.6552015  -1.51428383]\n",
      " [-0.97530483  0.02051275  0.31372902]\n",
      " [-0.97530483  0.31010458  0.07785639]\n",
      " [ 1.02532046 -0.46214029 -1.13099081]\n",
      " [ 1.02532046 -0.75173211 -1.54376791]\n",
      " [-0.97530483 -0.26907907 -0.65924556]\n",
      " [ 1.02532046 -1.13785454  0.49063349]\n",
      " [ 1.02532046 -0.07601785  2.20071003]\n",
      " [ 1.02532046  0.02051275  0.04837232]\n",
      " [ 1.02532046 -1.13785454 -1.57325199]\n",
      " [ 1.02532046  1.08234944  0.54960165]\n",
      " [ 1.02532046 -0.26907907 -1.24892713]\n",
      " [-0.97530483  1.37194127 -0.92460227]\n",
      " [-0.97530483 -1.42744637 -1.21944305]\n",
      " [-0.97530483 -0.94479333 -0.95408634]\n",
      " [-0.97530483  1.95112492 -0.65924556]\n",
      " [-0.97530483  0.88928823 -0.57079333]\n",
      " [-0.97530483 -1.13785454  0.31372902]\n",
      " [ 1.02532046  0.02051275 -0.24646847]\n",
      " [-0.97530483  0.79275762 -1.39634752]\n",
      " [-0.97530483 -0.26907907 -0.36440478]\n",
      " [-0.97530483  0.88928823  1.2867036 ]\n",
      " [-0.97530483  0.31010458 -0.18750031]\n",
      " [ 1.02532046 -0.26907907 -0.57079333]\n",
      " [ 1.02532046 -0.26907907 -1.39634752]\n",
      " [-0.97530483  1.46847188 -1.04253858]\n",
      " [ 1.02532046 -0.07601785  0.13682455]\n",
      " [-0.97530483 -0.84826272 -0.65924556]\n",
      " [ 1.02532046 -0.07601785  0.01888824]\n",
      " [ 1.02532046 -0.26907907  0.10734047]\n",
      " [ 1.02532046  0.21357397 -0.30543662]\n",
      " [ 1.02532046 -0.26907907  0.28424494]\n",
      " [ 1.02532046  0.11704336  0.04837232]\n",
      " [ 1.02532046  1.95112492  2.20071003]\n",
      " [ 1.02532046 -1.04132394 -1.45531567]\n",
      " [-0.97530483  0.31010458  0.31372902]\n",
      " [-0.97530483  2.04765553 -1.18995897]\n",
      " [-0.97530483 -1.13785454 -0.51182517]\n",
      " [ 1.02532046  0.21357397  0.16630863]\n",
      " [ 1.02532046 -0.26907907 -0.92460227]\n",
      " [-0.97530483 -0.6552015   0.04837232]\n",
      " [-0.97530483  0.21357397  0.07785639]\n",
      " [ 1.02532046  0.40663519 -0.12853215]\n",
      " [ 1.02532046 -1.13785454 -1.10150673]\n",
      " [-0.97530483 -0.07601785  2.25967818]\n",
      " [ 1.02532046  1.08234944 -0.12853215]\n",
      " [ 1.02532046  0.88928823  1.05083098]\n",
      " [ 1.02532046 -0.07601785  0.28424494]\n",
      " [ 1.02532046 -0.5586709  -1.51428383]\n",
      " [-0.97530483 -1.13785454 -1.0130545 ]\n",
      " [-0.97530483 -0.75173211  1.37515584]\n",
      " [ 1.02532046  1.08234944  0.57908572]\n",
      " [-0.97530483  1.56500249 -1.2784112 ]\n",
      " [-0.97530483  0.69622701 -1.39634752]\n",
      " [-0.97530483 -0.6552015  -1.04253858]\n",
      " [-0.97530483  1.17888005  0.54960165]\n",
      " [ 1.02532046 -0.26907907 -1.45531567]\n",
      " [ 1.02532046 -1.62050759  0.54960165]\n",
      " [-0.97530483 -1.04132394 -1.13099081]\n",
      " [-0.97530483 -0.07601785  0.04837232]\n",
      " [-0.97530483  0.31010458  0.07785639]\n",
      " [ 1.02532046  0.88928823 -1.36686344]\n",
      " [-0.97530483 -1.04132394 -0.3349207 ]\n",
      " [ 1.02532046 -1.8135688   0.19579271]\n",
      " [-0.97530483 -1.8135688  -1.4258316 ]\n",
      " [-0.97530483  0.69622701  1.81741701]\n",
      " [-0.97530483 -0.07601785  0.31372902]\n",
      " [ 1.02532046 -1.62050759  0.07785639]\n",
      " [-0.97530483 -0.6552015   1.43412399]\n",
      " [ 1.02532046 -0.26907907 -0.24646847]\n",
      " [ 1.02532046 -0.36560968  1.34567176]\n",
      " [-0.97530483  0.5031658   1.25721952]\n",
      " [ 1.02532046 -0.6552015   0.19579271]\n",
      " [-0.97530483 -1.52397698 -0.42337294]\n",
      " [-0.97530483 -1.04132394  0.43166533]\n",
      " [ 1.02532046  0.79275762  0.28424494]\n",
      " [-0.97530483  1.95112492 -0.92460227]\n",
      " [ 1.02532046  0.79275762 -0.30543662]\n",
      " [ 1.02532046  0.21357397  0.25476086]\n",
      " [ 1.02532046 -1.71703819 -0.60027741]\n",
      " [ 1.02532046 -0.26907907  0.16630863]\n",
      " [-0.97530483 -1.33091576 -1.24892713]\n",
      " [ 1.02532046 -0.26907907 -0.42337294]\n",
      " [-0.97530483  0.11704336  0.10734047]\n",
      " [-0.97530483 -0.94479333  0.46114941]\n",
      " [-0.97530483  2.04765553  0.40218125]\n",
      " [ 1.02532046 -1.91009941  0.37269718]\n",
      " [-0.97530483  2.04765553 -0.80666595]\n",
      " [-0.97530483  2.14418614  1.13928321]\n",
      " [ 1.02532046  0.79275762 -1.21944305]\n",
      " [ 1.02532046  0.40663519 -0.45285701]\n",
      " [ 1.02532046  0.02051275 -0.24646847]\n",
      " [-0.97530483  1.46847188  0.37269718]\n",
      " [-0.97530483 -0.17254846 -0.57079333]\n",
      " [ 1.02532046  0.21357397 -0.24646847]\n",
      " [-0.97530483 -0.46214029  2.34813042]\n",
      " [ 1.02532046  0.11704336  0.22527679]\n",
      " [ 1.02532046  0.21357397 -0.65924556]\n",
      " [ 1.02532046  0.98581884 -1.07202266]\n",
      " [-0.97530483 -0.17254846  0.16630863]\n",
      " [-0.97530483 -0.07601785  0.31372902]\n",
      " [-0.97530483  0.40663519 -0.48234109]\n",
      " [-0.97530483 -0.36560968 -1.30789528]\n",
      " [ 1.02532046  0.88928823 -0.77718187]\n",
      " [-0.97530483 -0.94479333  0.43166533]\n",
      " [ 1.02532046 -0.07601785 -0.42337294]\n",
      " [-0.97530483 -0.94479333 -0.42337294]\n",
      " [ 1.02532046 -1.8135688   0.46114941]\n",
      " [-0.97530483 -0.84826272 -1.21944305]\n",
      " [ 1.02532046 -0.94479333 -0.30543662]\n",
      " [-0.97530483  0.98581884  0.78547427]\n",
      " [-0.97530483 -1.62050759 -0.04007992]\n",
      " [ 1.02532046 -1.04132394 -0.3349207 ]\n",
      " [ 1.02532046  0.02051275 -0.54130925]\n",
      " [ 1.02532046 -0.6552015  -0.3349207 ]\n",
      " [-0.97530483 -1.13785454 -1.54376791]\n",
      " [-0.97530483  1.95112492 -1.36686344]\n",
      " [-0.97530483 -0.6552015  -1.60273606]\n",
      " [ 1.02532046  0.21357397 -0.36440478]\n",
      " [-0.97530483  0.88928823  2.20071003]\n",
      " [-0.97530483  1.17888005 -0.98357042]\n",
      " [ 1.02532046 -0.17254846 -0.51182517]\n",
      " [-0.97530483  1.66153309  1.78793293]\n",
      " [ 1.02532046  1.08234944 -1.21944305]\n",
      " [-0.97530483  0.02051275  1.2867036 ]\n",
      " [-0.97530483 -0.46214029 -0.27595254]\n",
      " [ 1.02532046  1.66153309 -0.89511819]\n",
      " [ 1.02532046  0.31010458  0.52011757]\n",
      " [-0.97530483 -1.04132394 -1.54376791]\n",
      " [-0.97530483  1.56500249  1.13928321]\n",
      " [ 1.02532046 -1.52397698  0.3432131 ]\n",
      " [-0.97530483  0.02051275 -0.12853215]\n",
      " [ 1.02532046  0.11704336 -0.80666595]\n",
      " [ 1.02532046  0.21357397  1.10979913]\n",
      " [ 1.02532046  0.40663519 -0.15801623]\n",
      " [-0.97530483 -0.46214029 -0.01059584]\n",
      " [-0.97530483  1.08234944  2.11225779]\n",
      " [-0.97530483 -0.26907907 -0.12853215]\n",
      " [ 1.02532046 -0.75173211 -0.60027741]\n",
      " [-0.97530483  1.17888005 -1.45531567]\n",
      " [ 1.02532046 -1.42744637 -1.45531567]\n",
      " [ 1.02532046  1.85459431 -0.27595254]\n",
      " [ 1.02532046  1.85459431  0.13682455]\n",
      " [-0.97530483  0.40663519  0.16630863]\n",
      " [ 1.02532046  1.27541066 -1.36686344]\n",
      " [-0.97530483 -0.46214029 -1.21944305]\n",
      " [ 1.02532046 -0.75173211  1.93535332]\n",
      " [ 1.02532046 -0.26907907  1.13928321]\n",
      " [-0.97530483  0.02051275 -0.57079333]\n",
      " [ 1.02532046  0.21357397 -0.12853215]\n",
      " [-0.97530483 -0.5586709   1.93535332]\n",
      " [ 1.02532046 -0.94479333  0.28424494]\n",
      " [-0.97530483 -1.91009941  0.49063349]\n",
      " [-0.97530483 -1.33091576  0.57908572]\n",
      " [-0.97530483  0.21357397  0.16630863]\n",
      " [-0.97530483  1.37194127 -1.4258316 ]\n",
      " [-0.97530483 -0.07601785  0.69702204]\n",
      " [ 1.02532046  0.11704336  1.90586924]\n",
      " [-0.97530483 -1.71703819 -0.98357042]\n",
      " [ 1.02532046  0.21357397 -0.36440478]\n",
      " [ 1.02532046 -1.8135688  -1.30789528]\n",
      " [ 1.02532046  0.79275762  0.54960165]\n",
      " [ 1.02532046 -0.17254846  1.43412399]\n",
      " [ 1.02532046 -1.04132394  0.57908572]\n",
      " [ 1.02532046 -1.23438515 -1.07202266]\n",
      " [-0.97530483  1.37194127  2.02380556]\n",
      " [-0.97530483  0.79275762 -1.10150673]\n",
      " [-0.97530483  0.79275762  0.13682455]\n",
      " [-0.97530483 -1.8135688  -1.2784112 ]\n",
      " [-0.97530483  0.02051275  1.25721952]\n",
      " [-0.97530483  0.88928823 -0.60027741]\n",
      " [ 1.02532046  2.14418614  0.40218125]\n",
      " [ 1.02532046  2.14418614 -0.80666595]\n",
      " [ 1.02532046  0.98581884 -1.07202266]\n",
      " [ 1.02532046  0.11704336  1.55206031]\n",
      " [-0.97530483 -0.94479333  0.52011757]\n",
      " [ 1.02532046 -1.23438515  0.28424494]\n",
      " [-0.97530483  0.40663519  0.6085698 ]\n",
      " [-0.97530483  0.11704336  0.16630863]\n",
      " [ 1.02532046  0.21357397  0.04837232]\n",
      " [ 1.02532046  2.04765553  2.17122595]\n",
      " [-0.97530483 -0.07601785 -0.36440478]\n",
      " [-0.97530483 -0.26907907  0.81495835]\n",
      " [ 1.02532046 -1.42744637 -0.18750031]\n",
      " [ 1.02532046  1.08234944  0.13682455]\n",
      " [-0.97530483  0.31010458  0.07785639]\n",
      " [-0.97530483  0.11704336  0.04837232]\n",
      " [-0.97530483  0.98581884 -1.0130545 ]\n",
      " [ 1.02532046 -0.5586709   1.49309215]\n",
      " [ 1.02532046 -1.13785454 -1.60273606]\n",
      " [-0.97530483  1.27541066  2.25967818]\n",
      " [-0.97530483 -1.42744637 -0.09904808]\n",
      " [ 1.02532046 -1.8135688  -1.48479975]\n",
      " [-0.97530483  0.88928823 -1.16047489]\n",
      " [-0.97530483  2.14418614 -0.68872964]\n",
      " [-0.97530483  0.5996964  -0.89511819]\n",
      " [ 1.02532046 -1.23438515 -1.39634752]\n",
      " [-0.97530483 -0.46214029 -0.83615003]\n",
      " [ 1.02532046 -0.84826272 -0.24646847]\n",
      " [-0.97530483  1.46847188  2.17122595]\n",
      " [ 1.02532046  0.40663519  1.0213469 ]\n",
      " [-0.97530483  0.02051275 -0.42337294]\n",
      " [ 1.02532046 -1.13785454 -1.16047489]\n",
      " [ 1.02532046 -0.75173211  0.57908572]\n",
      " [ 1.02532046  0.11704336  1.08031505]\n",
      " [-0.97530483 -0.5586709   1.40463991]\n",
      " [-0.97530483  0.11704336  1.90586924]\n",
      " [-0.97530483  0.21357397  2.14174187]\n",
      " [-0.97530483  1.46847188  1.0213469 ]\n",
      " [ 1.02532046 -1.71703819  0.13682455]\n",
      " [ 1.02532046 -0.26907907 -0.48234109]\n",
      " [ 1.02532046  0.11704336  0.78547427]\n",
      " [ 1.02532046  0.88928823 -1.30789528]\n",
      " [-0.97530483 -0.26907907 -0.27595254]\n",
      " [ 1.02532046  2.14418614 -1.04253858]\n",
      " [-0.97530483  0.40663519  0.31372902]\n",
      " [ 1.02532046 -0.17254846  1.64051254]\n",
      " [-0.97530483  0.79275762 -0.83615003]\n",
      " [ 1.02532046 -0.94479333  1.58154438]\n",
      " [-0.97530483  0.11704336 -0.24646847]\n",
      " [ 1.02532046 -1.23438515  0.52011757]\n",
      " [ 1.02532046  0.11704336 -0.80666595]\n",
      " [-0.97530483  1.08234944 -0.98357042]\n",
      " [-0.97530483  0.98581884  1.81741701]\n",
      " [-0.97530483 -1.42744637 -0.62976148]\n",
      " [-0.97530483  0.98581884 -1.18995897]\n",
      " [ 1.02532046 -1.33091576 -0.42337294]\n",
      " [ 1.02532046  0.31010458  0.07785639]\n",
      " [-0.97530483 -0.26907907 -0.57079333]\n",
      " [ 1.02532046 -0.75173211  1.10979913]\n",
      " [-0.97530483  1.56500249  1.0213469 ]\n",
      " [ 1.02532046 -1.04132394  0.6085698 ]\n",
      " [ 1.02532046  0.40663519  0.10734047]\n",
      " [-0.97530483 -0.94479333 -0.30543662]\n",
      " [-0.97530483  1.17888005 -0.7476978 ]\n",
      " [ 1.02532046 -1.91009941 -0.51182517]\n",
      " [ 1.02532046  1.08234944 -1.21944305]\n",
      " [ 1.02532046  0.31010458  0.28424494]\n",
      " [ 1.02532046 -0.75173211 -1.60273606]\n",
      " [-0.97530483 -0.26907907 -1.30789528]\n",
      " [ 1.02532046 -0.26907907  0.54960165]\n",
      " [-0.97530483  0.98581884  1.90586924]\n",
      " [ 1.02532046 -0.6552015  -0.09904808]\n",
      " [-0.97530483 -0.46214029  1.2867036 ]\n",
      " [ 1.02532046  0.31010458 -0.51182517]\n",
      " [-0.97530483  1.85459431  1.55206031]\n",
      " [ 1.02532046  1.08234944  0.49063349]\n",
      " [-0.97530483  2.04765553  0.19579271]\n",
      " [-0.97530483 -1.71703819  0.37269718]\n",
      " [-0.97530483 -0.17254846 -0.18750031]\n",
      " [-0.97530483 -0.6552015   0.57908572]\n",
      " [-0.97530483  1.37194127  1.31618768]\n",
      " [-0.97530483  1.08234944 -0.89511819]\n",
      " [-0.97530483  1.85459431 -1.07202266]\n",
      " [ 1.02532046 -0.75173211  0.52011757]\n",
      " [-0.97530483 -1.33091576 -1.10150673]\n",
      " [-0.97530483  0.79275762  0.37269718]\n",
      " [-0.97530483 -0.84826272  0.40218125]\n",
      " [ 1.02532046 -0.75173211  0.31372902]\n",
      " [-0.97530483 -1.04132394  1.99432148]\n",
      " [ 1.02532046 -0.07601785  0.07785639]\n",
      " [ 1.02532046  1.37194127  2.3776145 ]\n",
      " [ 1.02532046 -0.07601785  0.16630863]\n",
      " [-0.97530483 -0.07601785  1.99432148]\n",
      " [-0.97530483 -0.75173211  0.28424494]\n",
      " [ 1.02532046 -1.13785454  0.3432131 ]\n",
      " [-0.97530483  0.31010458 -0.27595254]\n",
      " [-0.97530483  0.98581884 -1.16047489]\n",
      " [-0.97530483  1.37194127  0.6085698 ]\n",
      " [ 1.02532046 -1.52397698 -1.51428383]\n",
      " [-0.97530483 -0.94479333 -0.7476978 ]\n",
      " [-0.97530483 -1.13785454  0.07785639]\n",
      " [ 1.02532046  0.40663519 -0.45285701]\n",
      " [-0.97530483 -1.91009941 -0.7476978 ]\n",
      " [-0.97530483  0.40663519  0.28424494]\n",
      " [-0.97530483 -0.26907907  0.22527679]\n",
      " [-0.97530483 -0.5586709   0.49063349]\n",
      " [ 1.02532046 -0.36560968 -0.77718187]\n",
      " [-0.97530483 -0.26907907  0.04837232]\n",
      " [ 1.02532046 -0.07601785  0.22527679]\n",
      " [ 1.02532046 -0.26907907  0.16630863]\n",
      " [-0.97530483  0.31010458 -0.54130925]\n",
      " [-0.97530483  0.79275762  0.78547427]\n",
      " [-0.97530483  0.98581884  2.02380556]\n",
      " [ 1.02532046 -0.17254846 -0.27595254]\n",
      " [-0.97530483 -1.04132394 -0.45285701]\n",
      " [ 1.02532046 -0.26907907 -0.3349207 ]\n",
      " [-0.97530483  0.11704336 -0.30543662]\n",
      " [-0.97530483 -0.26907907 -0.7476978 ]\n",
      " [-0.97530483 -0.07601785 -1.07202266]\n",
      " [-0.97530483 -0.26907907  0.07785639]\n",
      " [ 1.02532046  0.5031658   1.75844885]\n",
      " [ 1.02532046 -0.36560968  1.25721952]\n",
      " [ 1.02532046  0.79275762  1.40463991]\n",
      " [ 1.02532046  0.98581884 -0.83615003]\n",
      " [-0.97530483 -1.71703819 -1.36686344]\n",
      " [ 1.02532046 -0.84826272  0.31372902]\n",
      " [ 1.02532046 -0.84826272  2.31864634]]\n"
     ]
    }
   ],
   "source": [
    "print(X_train)"
   ]
  },
  {
   "cell_type": "code",
   "execution_count": 146,
   "metadata": {},
   "outputs": [],
   "source": [
    "from sklearn.linear_model import LogisticRegression"
   ]
  },
  {
   "cell_type": "code",
   "execution_count": 147,
   "metadata": {},
   "outputs": [],
   "source": [
    "classifier = LogisticRegression()"
   ]
  },
  {
   "cell_type": "code",
   "execution_count": 148,
   "metadata": {},
   "outputs": [
    {
     "data": {
      "text/plain": [
       "LogisticRegression(C=1.0, class_weight=None, dual=False, fit_intercept=True,\n",
       "          intercept_scaling=1, max_iter=100, multi_class='ovr', n_jobs=1,\n",
       "          penalty='l2', random_state=None, solver='liblinear', tol=0.0001,\n",
       "          verbose=0, warm_start=False)"
      ]
     },
     "execution_count": 148,
     "metadata": {},
     "output_type": "execute_result"
    }
   ],
   "source": [
    "classifier.fit(X_train,Y_train)"
   ]
  },
  {
   "cell_type": "code",
   "execution_count": 149,
   "metadata": {},
   "outputs": [
    {
     "name": "stdout",
     "output_type": "stream",
     "text": [
      "[0 0 0 0 1 0 0 0 0 1 0 0 0 1 0 0 0 1 1 0 0 0 0 0 0 0 0 0 1 0 0 0 0 0 1 0 1\n",
      " 0 0 1 0 0 0 1 0 1 0 0 1 0 0 1 0 0 0 0 0 1 1 0 0 1 1 0 0 1 0 0 0 1 0 1 0 0\n",
      " 1 0 1 0 1 0]\n"
     ]
    }
   ],
   "source": [
    "Y_pred = classifier.predict(X_test)\n",
    "print(Y_pred)"
   ]
  },
  {
   "cell_type": "code",
   "execution_count": 153,
   "metadata": {},
   "outputs": [
    {
     "data": {
      "text/plain": [
       "array([[45,  3],\n",
       "       [12, 20]], dtype=int64)"
      ]
     },
     "execution_count": 153,
     "metadata": {},
     "output_type": "execute_result"
    }
   ],
   "source": [
    "# Making the Confusion Matrix \n",
    "\n",
    "from sklearn.metrics import confusion_matrix\n",
    "cm = confusion_matrix(Y_test, Y_pred)\n",
    "cm"
   ]
  },
  {
   "cell_type": "code",
   "execution_count": 154,
   "metadata": {},
   "outputs": [
    {
     "data": {
      "text/plain": [
       "<matplotlib.axes._subplots.AxesSubplot at 0x1f656f65b70>"
      ]
     },
     "execution_count": 154,
     "metadata": {},
     "output_type": "execute_result"
    },
    {
     "data": {
      "image/png": "[encoded data removed]",
      "text/plain": [
       "<Figure size 432x288 with 2 Axes>"
      ]
     },
     "metadata": {},
     "output_type": "display_data"
    }
   ],
   "source": [
    "#creating confustion matrix\n",
    "sns.heatmap(pd.DataFrame(cm),annot=True)"
   ]
  },
  {
   "cell_type": "code",
   "execution_count": 155,
   "metadata": {},
   "outputs": [],
   "source": [
    "from sklearn.metrics import accuracy_score"
   ]
  },
  {
   "cell_type": "code",
   "execution_count": 156,
   "metadata": {},
   "outputs": [
    {
     "data": {
      "text/plain": [
       "0.8125"
      ]
     },
     "execution_count": 156,
     "metadata": {},
     "output_type": "execute_result"
    }
   ],
   "source": [
    "accuracy =accuracy_score(Y_test, Y_pred)\n",
    "accuracy"
   ]
  },
  {
   "cell_type": "code",
   "execution_count": null,
   "metadata": {},
   "outputs": [],
   "source": []
  }
 ],
 "metadata": {
  "kernelspec": {
   "display_name": "Python 3",
   "language": "python",
   "name": "python3"
  },
  "language_info": {
   "codemirror_mode": {
    "name": "ipython",
    "version": 3
   },
   "file_extension": ".py",
   "mimetype": "text/x-python",
   "name": "python",
   "nbconvert_exporter": "python",
   "pygments_lexer": "ipython3",
   "version": "3.6.5"
  }
 },
 "nbformat": 4,
 "nbformat_minor": 2
}
