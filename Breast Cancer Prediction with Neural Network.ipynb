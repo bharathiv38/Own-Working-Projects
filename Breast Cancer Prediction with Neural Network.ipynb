{
 "cells": [
  {
   "cell_type": "code",
   "execution_count": null,
   "id": "ec76996b",
   "metadata": {},
   "outputs": [],
   "source": [
    "#loading dependencies\n",
    "import pandas as pd\n",
    "import numpy as np\n",
    "import matplotlib.pyplot as plt\n",
    "import sklearn.datasets\n",
    "from sklearn.model_selection import train_test_split"
   ]
  },
  {
   "cell_type": "markdown",
   "id": "763a35d1",
   "metadata": {},
   "source": [
    "## Data collection & pre-processing"
   ]
  },
  {
   "cell_type": "code",
   "execution_count": null,
   "id": "f2d10de2",
   "metadata": {},
   "outputs": [],
   "source": [
    "#load the data from sklearn dataset\n",
    "breast_cancer_dataset = sklearn.datasets.load_breast_cancer()"
   ]
  },
  {
   "cell_type": "code",
   "execution_count": null,
   "id": "68c17741",
   "metadata": {},
   "outputs": [],
   "source": [
    "print(breast_cancer_dataset)"
   ]
  },
  {
   "cell_type": "code",
   "execution_count": null,
   "id": "8d877854",
   "metadata": {},
   "outputs": [],
   "source": [
    "#loading dataframe to \n",
    "data_frame = pd.DataFrame(breast_cancer_dataset.data,columns=breast_cancer_dataset.feature_names)"
   ]
  },
  {
   "cell_type": "code",
   "execution_count": null,
   "id": "6f4bf241",
   "metadata": {},
   "outputs": [],
   "source": [
    "data_frame.head()"
   ]
  },
  {
   "cell_type": "code",
   "execution_count": null,
   "id": "7730cb43",
   "metadata": {},
   "outputs": [],
   "source": [
    "data_frame.shape"
   ]
  },
  {
   "cell_type": "code",
   "execution_count": null,
   "id": "9cd34afa",
   "metadata": {},
   "outputs": [],
   "source": [
    "data_frame['Label'] = breast_cancer_dataset.target"
   ]
  },
  {
   "cell_type": "code",
   "execution_count": null,
   "id": "8bb1caa7",
   "metadata": {},
   "outputs": [],
   "source": [
    "data_frame.head()"
   ]
  },
  {
   "cell_type": "code",
   "execution_count": null,
   "id": "82c99d5e",
   "metadata": {},
   "outputs": [],
   "source": [
    "data_frame.shape"
   ]
  },
  {
   "cell_type": "code",
   "execution_count": null,
   "id": "de253a6f",
   "metadata": {},
   "outputs": [],
   "source": [
    "data_frame.info()"
   ]
  },
  {
   "cell_type": "code",
   "execution_count": null,
   "id": "ed4dab23",
   "metadata": {},
   "outputs": [],
   "source": [
    "#checking the missing values\n",
    "data_frame.isnull().sum()"
   ]
  },
  {
   "cell_type": "code",
   "execution_count": null,
   "id": "a85e2cfb",
   "metadata": {},
   "outputs": [],
   "source": [
    "#statistical measures about data\n",
    "data_frame.describe()"
   ]
  },
  {
   "cell_type": "code",
   "execution_count": null,
   "id": "d17e5636",
   "metadata": {},
   "outputs": [],
   "source": [
    "data_frame['Label'].value_counts()"
   ]
  },
  {
   "cell_type": "code",
   "execution_count": null,
   "id": "ca25eb7a",
   "metadata": {},
   "outputs": [],
   "source": [
    "data_frame.groupby('Label').mean()"
   ]
  },
  {
   "cell_type": "markdown",
   "id": "14c1e107",
   "metadata": {},
   "source": [
    "## Separting features & Target"
   ]
  },
  {
   "cell_type": "code",
   "execution_count": null,
   "id": "b70a6d28",
   "metadata": {},
   "outputs": [],
   "source": [
    "X = data_frame.drop(columns='Label',axis=1)\n",
    "Y = data_frame['Label']"
   ]
  },
  {
   "cell_type": "code",
   "execution_count": null,
   "id": "e23ad4b8",
   "metadata": {},
   "outputs": [],
   "source": [
    "print(X)"
   ]
  },
  {
   "cell_type": "code",
   "execution_count": null,
   "id": "abfbda32",
   "metadata": {},
   "outputs": [],
   "source": [
    "print(Y)"
   ]
  },
  {
   "cell_type": "markdown",
   "id": "fa9b5b5a",
   "metadata": {},
   "source": [
    "## Splitting data into train test & split"
   ]
  },
  {
   "cell_type": "code",
   "execution_count": null,
   "id": "bd8067d1",
   "metadata": {},
   "outputs": [],
   "source": [
    "X_train,X_test,Y_train,Y_test = train_test_split(X,Y,test_size=0.2,random_state=2)"
   ]
  },
  {
   "cell_type": "code",
   "execution_count": null,
   "id": "cbc966bd",
   "metadata": {},
   "outputs": [],
   "source": [
    "print(X.shape,X_train.shape,X_test.shape)"
   ]
  },
  {
   "cell_type": "code",
   "execution_count": null,
   "id": "eb9d0f1b",
   "metadata": {},
   "outputs": [],
   "source": [
    "## Standardize the data"
   ]
  },
  {
   "cell_type": "code",
   "execution_count": null,
   "id": "ea388751",
   "metadata": {},
   "outputs": [],
   "source": [
    "from sklearn.preprocessing import StandardScaler"
   ]
  },
  {
   "cell_type": "code",
   "execution_count": null,
   "id": "9de5d256",
   "metadata": {},
   "outputs": [],
   "source": [
    "scaler = StandardScaler()"
   ]
  },
  {
   "cell_type": "code",
   "execution_count": null,
   "id": "af1b2094",
   "metadata": {},
   "outputs": [],
   "source": [
    "X_train_std = scaler.fit_transform(X_train)\n",
    "X_test_std = scaler.transform(X_test)"
   ]
  },
  {
   "cell_type": "code",
   "execution_count": null,
   "id": "ba796d47",
   "metadata": {},
   "outputs": [],
   "source": [
    "print(X_train_std)"
   ]
  },
  {
   "cell_type": "markdown",
   "id": "938c57ca",
   "metadata": {},
   "source": [
    "## Building Neural Network"
   ]
  },
  {
   "cell_type": "code",
   "execution_count": null,
   "id": "ff29dd77",
   "metadata": {},
   "outputs": [],
   "source": [
    "#importing tensor flow & keras\n",
    "import tensorflow as tf\n",
    "tf.random.set_seed(3)\n",
    "from tensorflow import keras"
   ]
  },
  {
   "cell_type": "code",
   "execution_count": null,
   "id": "9acc7e19",
   "metadata": {},
   "outputs": [],
   "source": [
    "#setting up the layers for neural networks\n",
    "model = keras.Sequential([\n",
    "                keras.layers.Flatten(input_shape=(30,)),\n",
    "                keras.layers.Dense(20,activation='relu'),\n",
    "                keras.layers.Dense(2,activation='sigmoid')\n",
    "])"
   ]
  },
  {
   "cell_type": "code",
   "execution_count": null,
   "id": "36eea5d2",
   "metadata": {},
   "outputs": [],
   "source": [
    "# compiling the neural network\n",
    "model.compile(optimizer='adam',\n",
    "             loss='sparse_categorical_crossentropy',\n",
    "             metrics=['accuracy'])"
   ]
  },
  {
   "cell_type": "code",
   "execution_count": null,
   "id": "8aef15f7",
   "metadata": {},
   "outputs": [],
   "source": [
    "# training the neural network\n",
    "history = model.fit(X_train_std,Y_train,validation_split=0.1,epochs=10)"
   ]
  },
  {
   "cell_type": "code",
   "execution_count": null,
   "id": "27794e3e",
   "metadata": {},
   "outputs": [],
   "source": [
    "# visualizing the accuracy and lost\n",
    "plt.plot(history.history['accuracy'])\n",
    "plt.plot(history.history['val_accuracy'])\n",
    "\n",
    "plt.title('Model Accuracy')\n",
    "plt.ylabel('Accuracy')\n",
    "plt.xlabel('Epochs')\n",
    "plt.legend(['training_data','validation_data'],loc='lower right')"
   ]
  },
  {
   "cell_type": "code",
   "execution_count": null,
   "id": "b7bbdc75",
   "metadata": {},
   "outputs": [],
   "source": [
    "plt.plot(history.history['loss'])\n",
    "plt.plot(history.history['val_loss'])\n",
    "\n",
    "plt.title('Model Loss')\n",
    "plt.ylabel('Loss')\n",
    "plt.xlabel('Epochs')\n",
    "plt.legend(['training_data','validation_data'],loc='lower right')"
   ]
  },
  {
   "cell_type": "markdown",
   "id": "612ad2cc",
   "metadata": {},
   "source": [
    "## To get the accuracy of the model on test data"
   ]
  },
  {
   "cell_type": "code",
   "execution_count": null,
   "id": "beedb448",
   "metadata": {},
   "outputs": [],
   "source": [
    "loss, accuracy =model.evaluate(X_test_std, Y_test)\n",
    "print(accuracy)"
   ]
  },
  {
   "cell_type": "code",
   "execution_count": null,
   "id": "49a3667b",
   "metadata": {},
   "outputs": [],
   "source": [
    "print(X_test_std.shape)\n",
    "print(X_test_std[0])"
   ]
  },
  {
   "cell_type": "code",
   "execution_count": null,
   "id": "a01315ef",
   "metadata": {},
   "outputs": [],
   "source": [
    "y_pred = model.predict(X_test_std)"
   ]
  },
  {
   "cell_type": "code",
   "execution_count": null,
   "id": "9ca8c0dc",
   "metadata": {},
   "outputs": [],
   "source": [
    "print(y_pred.shape)\n",
    "print(y_pred[0])"
   ]
  },
  {
   "cell_type": "code",
   "execution_count": null,
   "id": "91f92a33",
   "metadata": {},
   "outputs": [],
   "source": [
    "print(X_test_std)"
   ]
  },
  {
   "cell_type": "code",
   "execution_count": null,
   "id": "827c9442",
   "metadata": {},
   "outputs": [],
   "source": [
    "print(y_pred)"
   ]
  },
  {
   "cell_type": "markdown",
   "id": "3e36befc",
   "metadata": {},
   "source": [
    "model.predict() give the prediction probability of each class for the datapoint"
   ]
  },
  {
   "cell_type": "code",
   "execution_count": null,
   "id": "e6d83e9a",
   "metadata": {},
   "outputs": [],
   "source": [
    "# argmax function\n",
    "my_list =[10,20,30]\n",
    "index_of_max_value = np.argmax(my_list)\n",
    "print(my_list)\n",
    "print(index_of_max_value)"
   ]
  },
  {
   "cell_type": "code",
   "execution_count": null,
   "id": "11ff01fb",
   "metadata": {},
   "outputs": [],
   "source": [
    "# converting the prediction probability to class labels\n",
    "y_pred_label = [np.argmax(i) for i in y_pred]\n",
    "print(y_pred_label)"
   ]
  },
  {
   "cell_type": "markdown",
   "id": "0bed3a4e",
   "metadata": {},
   "source": [
    "## Building the predictive system"
   ]
  },
  {
   "cell_type": "code",
   "execution_count": null,
   "id": "afdc112b",
   "metadata": {},
   "outputs": [],
   "source": [
    "input_data =()\n",
    "\n",
    "#change the input data to a np.array\n",
    "input_data_as_numpy_array = np.asarray(input_data)\n",
    "\n",
    "#reshape the numpy array as we are predicting for one datapoint\n",
    "input_data_reshaped = input_data_as_numpy_array.reshape(1,-1)\n",
    "\n",
    "#standarizing the input data\n",
    "input_data_std = scaler.transform(input_data_reshaped)\n",
    "\n",
    "prediction = model.predict(input_data_std)\n",
    "print(prediction)\n",
    "\n",
    "prediction_label = [np.argmax(prediction)]\n",
    "print(prediction_label)\n",
    "\n",
    "if (prediction_label[0] == 0):\n",
    "    print('The tumor is Malignant')\n",
    "else:\n",
    "    print('The tumor is Benign')"
   ]
  },
  {
   "cell_type": "code",
   "execution_count": null,
   "id": "32369efb",
   "metadata": {},
   "outputs": [],
   "source": []
  }
 ],
 "metadata": {
  "kernelspec": {
   "display_name": "Python 3",
   "language": "python",
   "name": "python3"
  },
  "language_info": {
   "codemirror_mode": {
    "name": "ipython",
    "version": 3
   },
   "file_extension": ".py",
   "mimetype": "text/x-python",
   "name": "python",
   "nbconvert_exporter": "python",
   "pygments_lexer": "ipython3",
   "version": "3.6.13"
  }
 },
 "nbformat": 4,
 "nbformat_minor": 5
}
