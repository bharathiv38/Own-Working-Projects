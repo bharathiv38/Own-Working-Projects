{
 "cells": [
  {
   "cell_type": "code",
   "execution_count": 4,
   "id": "507256b8",
   "metadata": {},
   "outputs": [],
   "source": [
    "#let load dependencies\n",
    "import pandas as pd\n",
    "import numpy as np\n",
    "import seaborn as sns\n",
    "import matplotlib.pyplot as plt\n",
    "%matplotlib inline\n",
    "import warnings\n",
    "warnings.filterwarnings('ignore')\n",
    "from sklearn.svm import SVC\n",
    "from sklearn.metrics import confusion_matrix,classification_report\n",
    "from sklearn.model_selection import GridSearchCV,cross_val_score\n",
    "from sklearn.utils import shuffle"
   ]
  },
  {
   "cell_type": "code",
   "execution_count": 5,
   "id": "afcf038a",
   "metadata": {},
   "outputs": [],
   "source": [
    "#loading dataset to pandas dataframe\n",
    "human = pd.read_csv(r\"C:\\Users\\bharathi.v04\\Downloads\\DS\\New folder\\Human Activity Recognisation.csv\")"
   ]
  },
  {
   "cell_type": "code",
   "execution_count": 6,
   "id": "32048c2e",
   "metadata": {},
   "outputs": [
    {
     "data": {
      "text/html": [
       "<div>\n",
       "<style scoped>\n",
       "    .dataframe tbody tr th:only-of-type {\n",
       "        vertical-align: middle;\n",
       "    }\n",
       "\n",
       "    .dataframe tbody tr th {\n",
       "        vertical-align: top;\n",
       "    }\n",
       "\n",
       "    .dataframe thead th {\n",
       "        text-align: right;\n",
       "    }\n",
       "</style>\n",
       "<table border=\"1\" class=\"dataframe\">\n",
       "  <thead>\n",
       "    <tr style=\"text-align: right;\">\n",
       "      <th></th>\n",
       "      <th>tBodyAcc-mean()-X</th>\n",
       "      <th>tBodyAcc-mean()-Y</th>\n",
       "      <th>tBodyAcc-mean()-Z</th>\n",
       "      <th>tBodyAcc-std()-X</th>\n",
       "      <th>tBodyAcc-std()-Y</th>\n",
       "      <th>tBodyAcc-std()-Z</th>\n",
       "      <th>tBodyAcc-mad()-X</th>\n",
       "      <th>tBodyAcc-mad()-Y</th>\n",
       "      <th>tBodyAcc-mad()-Z</th>\n",
       "      <th>tBodyAcc-max()-X</th>\n",
       "      <th>...</th>\n",
       "      <th>fBodyBodyGyroJerkMag-kurtosis()</th>\n",
       "      <th>angle(tBodyAccMean,gravity)</th>\n",
       "      <th>angle(tBodyAccJerkMean),gravityMean)</th>\n",
       "      <th>angle(tBodyGyroMean,gravityMean)</th>\n",
       "      <th>angle(tBodyGyroJerkMean,gravityMean)</th>\n",
       "      <th>angle(X,gravityMean)</th>\n",
       "      <th>angle(Y,gravityMean)</th>\n",
       "      <th>angle(Z,gravityMean)</th>\n",
       "      <th>subject</th>\n",
       "      <th>Activity</th>\n",
       "    </tr>\n",
       "  </thead>\n",
       "  <tbody>\n",
       "    <tr>\n",
       "      <th>0</th>\n",
       "      <td>0.257178</td>\n",
       "      <td>-0.023285</td>\n",
       "      <td>-0.014654</td>\n",
       "      <td>-0.938404</td>\n",
       "      <td>-0.920091</td>\n",
       "      <td>-0.667683</td>\n",
       "      <td>-0.952501</td>\n",
       "      <td>-0.925249</td>\n",
       "      <td>-0.674302</td>\n",
       "      <td>-0.894088</td>\n",
       "      <td>...</td>\n",
       "      <td>-0.705974</td>\n",
       "      <td>0.006462</td>\n",
       "      <td>0.162920</td>\n",
       "      <td>-0.825886</td>\n",
       "      <td>0.271151</td>\n",
       "      <td>-0.720009</td>\n",
       "      <td>0.276801</td>\n",
       "      <td>-0.057978</td>\n",
       "      <td>2</td>\n",
       "      <td>STANDING</td>\n",
       "    </tr>\n",
       "    <tr>\n",
       "      <th>1</th>\n",
       "      <td>0.286027</td>\n",
       "      <td>-0.013163</td>\n",
       "      <td>-0.119083</td>\n",
       "      <td>-0.975415</td>\n",
       "      <td>-0.967458</td>\n",
       "      <td>-0.944958</td>\n",
       "      <td>-0.986799</td>\n",
       "      <td>-0.968401</td>\n",
       "      <td>-0.945823</td>\n",
       "      <td>-0.894088</td>\n",
       "      <td>...</td>\n",
       "      <td>-0.594944</td>\n",
       "      <td>-0.083495</td>\n",
       "      <td>0.017500</td>\n",
       "      <td>-0.434375</td>\n",
       "      <td>0.920593</td>\n",
       "      <td>-0.698091</td>\n",
       "      <td>0.281343</td>\n",
       "      <td>-0.083898</td>\n",
       "      <td>2</td>\n",
       "      <td>STANDING</td>\n",
       "    </tr>\n",
       "    <tr>\n",
       "      <th>2</th>\n",
       "      <td>0.275485</td>\n",
       "      <td>-0.026050</td>\n",
       "      <td>-0.118152</td>\n",
       "      <td>-0.993819</td>\n",
       "      <td>-0.969926</td>\n",
       "      <td>-0.962748</td>\n",
       "      <td>-0.994403</td>\n",
       "      <td>-0.970735</td>\n",
       "      <td>-0.963483</td>\n",
       "      <td>-0.939260</td>\n",
       "      <td>...</td>\n",
       "      <td>-0.640736</td>\n",
       "      <td>-0.034956</td>\n",
       "      <td>0.202302</td>\n",
       "      <td>0.064103</td>\n",
       "      <td>0.145068</td>\n",
       "      <td>-0.702771</td>\n",
       "      <td>0.280083</td>\n",
       "      <td>-0.079346</td>\n",
       "      <td>2</td>\n",
       "      <td>STANDING</td>\n",
       "    </tr>\n",
       "    <tr>\n",
       "      <th>3</th>\n",
       "      <td>0.270298</td>\n",
       "      <td>-0.032614</td>\n",
       "      <td>-0.117520</td>\n",
       "      <td>-0.994743</td>\n",
       "      <td>-0.973268</td>\n",
       "      <td>-0.967091</td>\n",
       "      <td>-0.995274</td>\n",
       "      <td>-0.974471</td>\n",
       "      <td>-0.968897</td>\n",
       "      <td>-0.938610</td>\n",
       "      <td>...</td>\n",
       "      <td>-0.736124</td>\n",
       "      <td>-0.017067</td>\n",
       "      <td>0.154438</td>\n",
       "      <td>0.340134</td>\n",
       "      <td>0.296407</td>\n",
       "      <td>-0.698954</td>\n",
       "      <td>0.284114</td>\n",
       "      <td>-0.077108</td>\n",
       "      <td>2</td>\n",
       "      <td>STANDING</td>\n",
       "    </tr>\n",
       "    <tr>\n",
       "      <th>4</th>\n",
       "      <td>0.274833</td>\n",
       "      <td>-0.027848</td>\n",
       "      <td>-0.129527</td>\n",
       "      <td>-0.993852</td>\n",
       "      <td>-0.967445</td>\n",
       "      <td>-0.978295</td>\n",
       "      <td>-0.994111</td>\n",
       "      <td>-0.965953</td>\n",
       "      <td>-0.977346</td>\n",
       "      <td>-0.938610</td>\n",
       "      <td>...</td>\n",
       "      <td>-0.846595</td>\n",
       "      <td>-0.002223</td>\n",
       "      <td>-0.040046</td>\n",
       "      <td>0.736715</td>\n",
       "      <td>-0.118545</td>\n",
       "      <td>-0.692245</td>\n",
       "      <td>0.290722</td>\n",
       "      <td>-0.073857</td>\n",
       "      <td>2</td>\n",
       "      <td>STANDING</td>\n",
       "    </tr>\n",
       "  </tbody>\n",
       "</table>\n",
       "<p>5 rows × 563 columns</p>\n",
       "</div>"
      ],
      "text/plain": [
       "   tBodyAcc-mean()-X  tBodyAcc-mean()-Y  tBodyAcc-mean()-Z  tBodyAcc-std()-X  \\\n",
       "0           0.257178          -0.023285          -0.014654         -0.938404   \n",
       "1           0.286027          -0.013163          -0.119083         -0.975415   \n",
       "2           0.275485          -0.026050          -0.118152         -0.993819   \n",
       "3           0.270298          -0.032614          -0.117520         -0.994743   \n",
       "4           0.274833          -0.027848          -0.129527         -0.993852   \n",
       "\n",
       "   tBodyAcc-std()-Y  tBodyAcc-std()-Z  tBodyAcc-mad()-X  tBodyAcc-mad()-Y  \\\n",
       "0         -0.920091         -0.667683         -0.952501         -0.925249   \n",
       "1         -0.967458         -0.944958         -0.986799         -0.968401   \n",
       "2         -0.969926         -0.962748         -0.994403         -0.970735   \n",
       "3         -0.973268         -0.967091         -0.995274         -0.974471   \n",
       "4         -0.967445         -0.978295         -0.994111         -0.965953   \n",
       "\n",
       "   tBodyAcc-mad()-Z  tBodyAcc-max()-X  ...  fBodyBodyGyroJerkMag-kurtosis()  \\\n",
       "0         -0.674302         -0.894088  ...                        -0.705974   \n",
       "1         -0.945823         -0.894088  ...                        -0.594944   \n",
       "2         -0.963483         -0.939260  ...                        -0.640736   \n",
       "3         -0.968897         -0.938610  ...                        -0.736124   \n",
       "4         -0.977346         -0.938610  ...                        -0.846595   \n",
       "\n",
       "   angle(tBodyAccMean,gravity)  angle(tBodyAccJerkMean),gravityMean)  \\\n",
       "0                     0.006462                              0.162920   \n",
       "1                    -0.083495                              0.017500   \n",
       "2                    -0.034956                              0.202302   \n",
       "3                    -0.017067                              0.154438   \n",
       "4                    -0.002223                             -0.040046   \n",
       "\n",
       "   angle(tBodyGyroMean,gravityMean)  angle(tBodyGyroJerkMean,gravityMean)  \\\n",
       "0                         -0.825886                              0.271151   \n",
       "1                         -0.434375                              0.920593   \n",
       "2                          0.064103                              0.145068   \n",
       "3                          0.340134                              0.296407   \n",
       "4                          0.736715                             -0.118545   \n",
       "\n",
       "   angle(X,gravityMean)  angle(Y,gravityMean)  angle(Z,gravityMean)  subject  \\\n",
       "0             -0.720009              0.276801             -0.057978        2   \n",
       "1             -0.698091              0.281343             -0.083898        2   \n",
       "2             -0.702771              0.280083             -0.079346        2   \n",
       "3             -0.698954              0.284114             -0.077108        2   \n",
       "4             -0.692245              0.290722             -0.073857        2   \n",
       "\n",
       "   Activity  \n",
       "0  STANDING  \n",
       "1  STANDING  \n",
       "2  STANDING  \n",
       "3  STANDING  \n",
       "4  STANDING  \n",
       "\n",
       "[5 rows x 563 columns]"
      ]
     },
     "execution_count": 6,
     "metadata": {},
     "output_type": "execute_result"
    }
   ],
   "source": [
    "human.head()"
   ]
  },
  {
   "cell_type": "code",
   "execution_count": 8,
   "id": "e5925ed2",
   "metadata": {},
   "outputs": [
    {
     "data": {
      "text/plain": [
       "(2947, 563)"
      ]
     },
     "execution_count": 8,
     "metadata": {},
     "output_type": "execute_result"
    }
   ],
   "source": [
    "human.shape"
   ]
  },
  {
   "cell_type": "code",
   "execution_count": 9,
   "id": "916ff1ca",
   "metadata": {},
   "outputs": [
    {
     "name": "stdout",
     "output_type": "stream",
     "text": [
      "<class 'pandas.core.frame.DataFrame'>\n",
      "RangeIndex: 2947 entries, 0 to 2946\n",
      "Columns: 563 entries, tBodyAcc-mean()-X to Activity\n",
      "dtypes: float64(561), int64(1), object(1)\n",
      "memory usage: 12.7+ MB\n"
     ]
    }
   ],
   "source": [
    "human.info()"
   ]
  },
  {
   "cell_type": "code",
   "execution_count": 10,
   "id": "cbe0408b",
   "metadata": {},
   "outputs": [
    {
     "data": {
      "text/html": [
       "<div>\n",
       "<style scoped>\n",
       "    .dataframe tbody tr th:only-of-type {\n",
       "        vertical-align: middle;\n",
       "    }\n",
       "\n",
       "    .dataframe tbody tr th {\n",
       "        vertical-align: top;\n",
       "    }\n",
       "\n",
       "    .dataframe thead th {\n",
       "        text-align: right;\n",
       "    }\n",
       "</style>\n",
       "<table border=\"1\" class=\"dataframe\">\n",
       "  <thead>\n",
       "    <tr style=\"text-align: right;\">\n",
       "      <th></th>\n",
       "      <th>tBodyAcc-mean()-X</th>\n",
       "      <th>tBodyAcc-mean()-Y</th>\n",
       "      <th>tBodyAcc-mean()-Z</th>\n",
       "      <th>tBodyAcc-std()-X</th>\n",
       "      <th>tBodyAcc-std()-Y</th>\n",
       "      <th>tBodyAcc-std()-Z</th>\n",
       "      <th>tBodyAcc-mad()-X</th>\n",
       "      <th>tBodyAcc-mad()-Y</th>\n",
       "      <th>tBodyAcc-mad()-Z</th>\n",
       "      <th>tBodyAcc-max()-X</th>\n",
       "      <th>...</th>\n",
       "      <th>fBodyBodyGyroJerkMag-skewness()</th>\n",
       "      <th>fBodyBodyGyroJerkMag-kurtosis()</th>\n",
       "      <th>angle(tBodyAccMean,gravity)</th>\n",
       "      <th>angle(tBodyAccJerkMean),gravityMean)</th>\n",
       "      <th>angle(tBodyGyroMean,gravityMean)</th>\n",
       "      <th>angle(tBodyGyroJerkMean,gravityMean)</th>\n",
       "      <th>angle(X,gravityMean)</th>\n",
       "      <th>angle(Y,gravityMean)</th>\n",
       "      <th>angle(Z,gravityMean)</th>\n",
       "      <th>subject</th>\n",
       "    </tr>\n",
       "  </thead>\n",
       "  <tbody>\n",
       "    <tr>\n",
       "      <th>count</th>\n",
       "      <td>2947.000000</td>\n",
       "      <td>2947.000000</td>\n",
       "      <td>2947.000000</td>\n",
       "      <td>2947.000000</td>\n",
       "      <td>2947.000000</td>\n",
       "      <td>2947.000000</td>\n",
       "      <td>2947.000000</td>\n",
       "      <td>2947.000000</td>\n",
       "      <td>2947.000000</td>\n",
       "      <td>2947.000000</td>\n",
       "      <td>...</td>\n",
       "      <td>2947.000000</td>\n",
       "      <td>2947.000000</td>\n",
       "      <td>2947.000000</td>\n",
       "      <td>2947.000000</td>\n",
       "      <td>2947.000000</td>\n",
       "      <td>2947.000000</td>\n",
       "      <td>2947.000000</td>\n",
       "      <td>2947.000000</td>\n",
       "      <td>2947.000000</td>\n",
       "      <td>2947.000000</td>\n",
       "    </tr>\n",
       "    <tr>\n",
       "      <th>mean</th>\n",
       "      <td>0.273996</td>\n",
       "      <td>-0.017863</td>\n",
       "      <td>-0.108386</td>\n",
       "      <td>-0.613635</td>\n",
       "      <td>-0.508330</td>\n",
       "      <td>-0.633797</td>\n",
       "      <td>-0.641278</td>\n",
       "      <td>-0.522676</td>\n",
       "      <td>-0.637038</td>\n",
       "      <td>-0.462063</td>\n",
       "      <td>...</td>\n",
       "      <td>-0.277593</td>\n",
       "      <td>-0.598756</td>\n",
       "      <td>0.005264</td>\n",
       "      <td>0.003799</td>\n",
       "      <td>0.040029</td>\n",
       "      <td>-0.017298</td>\n",
       "      <td>-0.513923</td>\n",
       "      <td>0.074886</td>\n",
       "      <td>-0.048720</td>\n",
       "      <td>12.986427</td>\n",
       "    </tr>\n",
       "    <tr>\n",
       "      <th>std</th>\n",
       "      <td>0.060570</td>\n",
       "      <td>0.025745</td>\n",
       "      <td>0.042747</td>\n",
       "      <td>0.412597</td>\n",
       "      <td>0.494269</td>\n",
       "      <td>0.362699</td>\n",
       "      <td>0.385199</td>\n",
       "      <td>0.479899</td>\n",
       "      <td>0.357753</td>\n",
       "      <td>0.523916</td>\n",
       "      <td>...</td>\n",
       "      <td>0.317245</td>\n",
       "      <td>0.311042</td>\n",
       "      <td>0.336147</td>\n",
       "      <td>0.445077</td>\n",
       "      <td>0.634989</td>\n",
       "      <td>0.501311</td>\n",
       "      <td>0.509205</td>\n",
       "      <td>0.324300</td>\n",
       "      <td>0.241467</td>\n",
       "      <td>6.950984</td>\n",
       "    </tr>\n",
       "    <tr>\n",
       "      <th>min</th>\n",
       "      <td>-0.592004</td>\n",
       "      <td>-0.362884</td>\n",
       "      <td>-0.576184</td>\n",
       "      <td>-0.999606</td>\n",
       "      <td>-1.000000</td>\n",
       "      <td>-0.998955</td>\n",
       "      <td>-0.999417</td>\n",
       "      <td>-0.999914</td>\n",
       "      <td>-0.998899</td>\n",
       "      <td>-0.952357</td>\n",
       "      <td>...</td>\n",
       "      <td>-1.000000</td>\n",
       "      <td>-1.000000</td>\n",
       "      <td>-1.000000</td>\n",
       "      <td>-0.993402</td>\n",
       "      <td>-0.998898</td>\n",
       "      <td>-0.991096</td>\n",
       "      <td>-0.984195</td>\n",
       "      <td>-0.913704</td>\n",
       "      <td>-0.949228</td>\n",
       "      <td>2.000000</td>\n",
       "    </tr>\n",
       "    <tr>\n",
       "      <th>25%</th>\n",
       "      <td>0.262075</td>\n",
       "      <td>-0.024961</td>\n",
       "      <td>-0.121162</td>\n",
       "      <td>-0.990914</td>\n",
       "      <td>-0.973664</td>\n",
       "      <td>-0.976122</td>\n",
       "      <td>-0.992333</td>\n",
       "      <td>-0.974131</td>\n",
       "      <td>-0.975352</td>\n",
       "      <td>-0.934447</td>\n",
       "      <td>...</td>\n",
       "      <td>-0.517494</td>\n",
       "      <td>-0.829593</td>\n",
       "      <td>-0.130541</td>\n",
       "      <td>-0.282600</td>\n",
       "      <td>-0.518924</td>\n",
       "      <td>-0.428375</td>\n",
       "      <td>-0.829722</td>\n",
       "      <td>0.022140</td>\n",
       "      <td>-0.098485</td>\n",
       "      <td>9.000000</td>\n",
       "    </tr>\n",
       "    <tr>\n",
       "      <th>50%</th>\n",
       "      <td>0.277113</td>\n",
       "      <td>-0.016967</td>\n",
       "      <td>-0.108458</td>\n",
       "      <td>-0.931214</td>\n",
       "      <td>-0.790972</td>\n",
       "      <td>-0.827534</td>\n",
       "      <td>-0.937664</td>\n",
       "      <td>-0.799907</td>\n",
       "      <td>-0.817005</td>\n",
       "      <td>-0.852659</td>\n",
       "      <td>...</td>\n",
       "      <td>-0.311023</td>\n",
       "      <td>-0.683672</td>\n",
       "      <td>0.005188</td>\n",
       "      <td>0.006767</td>\n",
       "      <td>0.047113</td>\n",
       "      <td>-0.026726</td>\n",
       "      <td>-0.729648</td>\n",
       "      <td>0.181563</td>\n",
       "      <td>-0.010671</td>\n",
       "      <td>12.000000</td>\n",
       "    </tr>\n",
       "    <tr>\n",
       "      <th>75%</th>\n",
       "      <td>0.288097</td>\n",
       "      <td>-0.010143</td>\n",
       "      <td>-0.097123</td>\n",
       "      <td>-0.267395</td>\n",
       "      <td>-0.105919</td>\n",
       "      <td>-0.311432</td>\n",
       "      <td>-0.321719</td>\n",
       "      <td>-0.133488</td>\n",
       "      <td>-0.322771</td>\n",
       "      <td>-0.009965</td>\n",
       "      <td>...</td>\n",
       "      <td>-0.083559</td>\n",
       "      <td>-0.458332</td>\n",
       "      <td>0.146200</td>\n",
       "      <td>0.288113</td>\n",
       "      <td>0.622151</td>\n",
       "      <td>0.394387</td>\n",
       "      <td>-0.545939</td>\n",
       "      <td>0.260252</td>\n",
       "      <td>0.092373</td>\n",
       "      <td>18.000000</td>\n",
       "    </tr>\n",
       "    <tr>\n",
       "      <th>max</th>\n",
       "      <td>0.671887</td>\n",
       "      <td>0.246106</td>\n",
       "      <td>0.494114</td>\n",
       "      <td>0.465299</td>\n",
       "      <td>1.000000</td>\n",
       "      <td>0.489703</td>\n",
       "      <td>0.439657</td>\n",
       "      <td>1.000000</td>\n",
       "      <td>0.427958</td>\n",
       "      <td>0.786436</td>\n",
       "      <td>...</td>\n",
       "      <td>1.000000</td>\n",
       "      <td>1.000000</td>\n",
       "      <td>0.998898</td>\n",
       "      <td>0.986347</td>\n",
       "      <td>1.000000</td>\n",
       "      <td>1.000000</td>\n",
       "      <td>0.833180</td>\n",
       "      <td>1.000000</td>\n",
       "      <td>0.973113</td>\n",
       "      <td>24.000000</td>\n",
       "    </tr>\n",
       "  </tbody>\n",
       "</table>\n",
       "<p>8 rows × 562 columns</p>\n",
       "</div>"
      ],
      "text/plain": [
       "       tBodyAcc-mean()-X  tBodyAcc-mean()-Y  tBodyAcc-mean()-Z  \\\n",
       "count        2947.000000        2947.000000        2947.000000   \n",
       "mean            0.273996          -0.017863          -0.108386   \n",
       "std             0.060570           0.025745           0.042747   \n",
       "min            -0.592004          -0.362884          -0.576184   \n",
       "25%             0.262075          -0.024961          -0.121162   \n",
       "50%             0.277113          -0.016967          -0.108458   \n",
       "75%             0.288097          -0.010143          -0.097123   \n",
       "max             0.671887           0.246106           0.494114   \n",
       "\n",
       "       tBodyAcc-std()-X  tBodyAcc-std()-Y  tBodyAcc-std()-Z  tBodyAcc-mad()-X  \\\n",
       "count       2947.000000       2947.000000       2947.000000       2947.000000   \n",
       "mean          -0.613635         -0.508330         -0.633797         -0.641278   \n",
       "std            0.412597          0.494269          0.362699          0.385199   \n",
       "min           -0.999606         -1.000000         -0.998955         -0.999417   \n",
       "25%           -0.990914         -0.973664         -0.976122         -0.992333   \n",
       "50%           -0.931214         -0.790972         -0.827534         -0.937664   \n",
       "75%           -0.267395         -0.105919         -0.311432         -0.321719   \n",
       "max            0.465299          1.000000          0.489703          0.439657   \n",
       "\n",
       "       tBodyAcc-mad()-Y  tBodyAcc-mad()-Z  tBodyAcc-max()-X  ...  \\\n",
       "count       2947.000000       2947.000000       2947.000000  ...   \n",
       "mean          -0.522676         -0.637038         -0.462063  ...   \n",
       "std            0.479899          0.357753          0.523916  ...   \n",
       "min           -0.999914         -0.998899         -0.952357  ...   \n",
       "25%           -0.974131         -0.975352         -0.934447  ...   \n",
       "50%           -0.799907         -0.817005         -0.852659  ...   \n",
       "75%           -0.133488         -0.322771         -0.009965  ...   \n",
       "max            1.000000          0.427958          0.786436  ...   \n",
       "\n",
       "       fBodyBodyGyroJerkMag-skewness()  fBodyBodyGyroJerkMag-kurtosis()  \\\n",
       "count                      2947.000000                      2947.000000   \n",
       "mean                         -0.277593                        -0.598756   \n",
       "std                           0.317245                         0.311042   \n",
       "min                          -1.000000                        -1.000000   \n",
       "25%                          -0.517494                        -0.829593   \n",
       "50%                          -0.311023                        -0.683672   \n",
       "75%                          -0.083559                        -0.458332   \n",
       "max                           1.000000                         1.000000   \n",
       "\n",
       "       angle(tBodyAccMean,gravity)  angle(tBodyAccJerkMean),gravityMean)  \\\n",
       "count                  2947.000000                           2947.000000   \n",
       "mean                      0.005264                              0.003799   \n",
       "std                       0.336147                              0.445077   \n",
       "min                      -1.000000                             -0.993402   \n",
       "25%                      -0.130541                             -0.282600   \n",
       "50%                       0.005188                              0.006767   \n",
       "75%                       0.146200                              0.288113   \n",
       "max                       0.998898                              0.986347   \n",
       "\n",
       "       angle(tBodyGyroMean,gravityMean)  angle(tBodyGyroJerkMean,gravityMean)  \\\n",
       "count                       2947.000000                           2947.000000   \n",
       "mean                           0.040029                             -0.017298   \n",
       "std                            0.634989                              0.501311   \n",
       "min                           -0.998898                             -0.991096   \n",
       "25%                           -0.518924                             -0.428375   \n",
       "50%                            0.047113                             -0.026726   \n",
       "75%                            0.622151                              0.394387   \n",
       "max                            1.000000                              1.000000   \n",
       "\n",
       "       angle(X,gravityMean)  angle(Y,gravityMean)  angle(Z,gravityMean)  \\\n",
       "count           2947.000000           2947.000000           2947.000000   \n",
       "mean              -0.513923              0.074886             -0.048720   \n",
       "std                0.509205              0.324300              0.241467   \n",
       "min               -0.984195             -0.913704             -0.949228   \n",
       "25%               -0.829722              0.022140             -0.098485   \n",
       "50%               -0.729648              0.181563             -0.010671   \n",
       "75%               -0.545939              0.260252              0.092373   \n",
       "max                0.833180              1.000000              0.973113   \n",
       "\n",
       "           subject  \n",
       "count  2947.000000  \n",
       "mean     12.986427  \n",
       "std       6.950984  \n",
       "min       2.000000  \n",
       "25%       9.000000  \n",
       "50%      12.000000  \n",
       "75%      18.000000  \n",
       "max      24.000000  \n",
       "\n",
       "[8 rows x 562 columns]"
      ]
     },
     "execution_count": 10,
     "metadata": {},
     "output_type": "execute_result"
    }
   ],
   "source": [
    "human.describe()"
   ]
  },
  {
   "cell_type": "code",
   "execution_count": 11,
   "id": "d9d63e7f",
   "metadata": {},
   "outputs": [
    {
     "data": {
      "text/plain": [
       "tBodyAcc-mean()-X       0\n",
       "tBodyAcc-mean()-Y       0\n",
       "tBodyAcc-mean()-Z       0\n",
       "tBodyAcc-std()-X        0\n",
       "tBodyAcc-std()-Y        0\n",
       "                       ..\n",
       "angle(X,gravityMean)    0\n",
       "angle(Y,gravityMean)    0\n",
       "angle(Z,gravityMean)    0\n",
       "subject                 0\n",
       "Activity                0\n",
       "Length: 563, dtype: int64"
      ]
     },
     "execution_count": 11,
     "metadata": {},
     "output_type": "execute_result"
    }
   ],
   "source": [
    "human.isnull().sum()"
   ]
  },
  {
   "cell_type": "code",
   "execution_count": 12,
   "id": "628f9f73",
   "metadata": {},
   "outputs": [
    {
     "data": {
      "text/plain": [
       "False"
      ]
     },
     "execution_count": 12,
     "metadata": {},
     "output_type": "execute_result"
    }
   ],
   "source": [
    "human.isnull().sum().values.any()"
   ]
  },
  {
   "cell_type": "code",
   "execution_count": 13,
   "id": "63929a96",
   "metadata": {},
   "outputs": [
    {
     "data": {
      "text/plain": [
       "LAYING                537\n",
       "STANDING              532\n",
       "WALKING               496\n",
       "SITTING               491\n",
       "WALKING_UPSTAIRS      471\n",
       "WALKING_DOWNSTAIRS    420\n",
       "Name: Activity, dtype: int64"
      ]
     },
     "execution_count": 13,
     "metadata": {},
     "output_type": "execute_result"
    }
   ],
   "source": [
    "human['Activity'].value_counts()"
   ]
  },
  {
   "cell_type": "markdown",
   "id": "2269e19c",
   "metadata": {},
   "source": [
    "## Data Visualization"
   ]
  },
  {
   "cell_type": "code",
   "execution_count": 14,
   "id": "8962425e",
   "metadata": {},
   "outputs": [],
   "source": [
    "sns.set_style('ticks')\n",
    "sns.set(rc={'figure.figsize':(12,9)})"
   ]
  },
  {
   "cell_type": "code",
   "execution_count": 15,
   "id": "3874bff1",
   "metadata": {},
   "outputs": [
    {
     "data": {
      "text/plain": [
       "<AxesSubplot:xlabel='Activity', ylabel='count'>"
      ]
     },
     "execution_count": 15,
     "metadata": {},
     "output_type": "execute_result"
    },
    {
     "data": {
      "image/png": "[encoded data removed]",
      "text/plain": [
       "<Figure size 864x648 with 1 Axes>"
      ]
     },
     "metadata": {},
     "output_type": "display_data"
    }
   ],
   "source": [
    "sns.countplot(data=human,x='Activity')"
   ]
  },
  {
   "cell_type": "code",
   "execution_count": 18,
   "id": "53efb5d1",
   "metadata": {
    "scrolled": true
   },
   "outputs": [
    {
     "data": {
      "text/plain": [
       "<AxesSubplot:xlabel='Activity', ylabel='subject'>"
      ]
     },
     "execution_count": 18,
     "metadata": {},
     "output_type": "execute_result"
    },
    {
     "data": {
      "image/png": "[encoded data removed]",
      "text/plain": [
       "<Figure size 864x648 with 1 Axes>"
      ]
     },
     "metadata": {},
     "output_type": "display_data"
    }
   ],
   "source": [
    "sns.boxplot(data=human,x='Activity',y='subject')"
   ]
  },
  {
   "cell_type": "markdown",
   "id": "da57f65e",
   "metadata": {},
   "source": [
    "## Lable Encoding"
   ]
  },
  {
   "cell_type": "code",
   "execution_count": 20,
   "id": "cac3a9af",
   "metadata": {},
   "outputs": [],
   "source": [
    "from sklearn.preprocessing import LabelEncoder"
   ]
  },
  {
   "cell_type": "code",
   "execution_count": 23,
   "id": "fa0fe388",
   "metadata": {},
   "outputs": [],
   "source": [
    "label_encode = LabelEncoder()"
   ]
  },
  {
   "cell_type": "code",
   "execution_count": 25,
   "id": "a94c5ab9",
   "metadata": {},
   "outputs": [],
   "source": [
    "labels = label_encode.fit_transform(human.Activity)"
   ]
  },
  {
   "cell_type": "code",
   "execution_count": 26,
   "id": "c668caff",
   "metadata": {},
   "outputs": [],
   "source": [
    "human['Target']=labels"
   ]
  },
  {
   "cell_type": "code",
   "execution_count": 28,
   "id": "7b629f10",
   "metadata": {},
   "outputs": [
    {
     "data": {
      "text/plain": [
       "LAYING                537\n",
       "STANDING              532\n",
       "WALKING               496\n",
       "SITTING               491\n",
       "WALKING_UPSTAIRS      471\n",
       "WALKING_DOWNSTAIRS    420\n",
       "Name: Activity, dtype: int64"
      ]
     },
     "execution_count": 28,
     "metadata": {},
     "output_type": "execute_result"
    }
   ],
   "source": [
    "human['Activity'].value_counts()"
   ]
  },
  {
   "cell_type": "code",
   "execution_count": 29,
   "id": "a9fbaeac",
   "metadata": {},
   "outputs": [
    {
     "data": {
      "text/plain": [
       "0    537\n",
       "2    532\n",
       "3    496\n",
       "1    491\n",
       "5    471\n",
       "4    420\n",
       "Name: Target, dtype: int64"
      ]
     },
     "execution_count": 29,
     "metadata": {},
     "output_type": "execute_result"
    }
   ],
   "source": [
    "human['Target'].value_counts()"
   ]
  },
  {
   "cell_type": "markdown",
   "id": "fd2c0767",
   "metadata": {},
   "source": [
    "## Separting features & target"
   ]
  },
  {
   "cell_type": "code",
   "execution_count": 31,
   "id": "cc06ec93",
   "metadata": {},
   "outputs": [],
   "source": [
    "X = human.drop(columns=['Activity','subject','Target'],axis=1)\n",
    "Y = human['Target']"
   ]
  },
  {
   "cell_type": "code",
   "execution_count": 32,
   "id": "5f9e6eab",
   "metadata": {},
   "outputs": [
    {
     "name": "stdout",
     "output_type": "stream",
     "text": [
      "      tBodyAcc-mean()-X  tBodyAcc-mean()-Y  tBodyAcc-mean()-Z  \\\n",
      "0              0.257178          -0.023285          -0.014654   \n",
      "1              0.286027          -0.013163          -0.119083   \n",
      "2              0.275485          -0.026050          -0.118152   \n",
      "3              0.270298          -0.032614          -0.117520   \n",
      "4              0.274833          -0.027848          -0.129527   \n",
      "...                 ...                ...                ...   \n",
      "2942           0.310155          -0.053391          -0.099109   \n",
      "2943           0.363385          -0.039214          -0.105915   \n",
      "2944           0.349966           0.030077          -0.115788   \n",
      "2945           0.237594           0.018467          -0.096499   \n",
      "2946           0.153627          -0.018437          -0.137018   \n",
      "\n",
      "      tBodyAcc-std()-X  tBodyAcc-std()-Y  tBodyAcc-std()-Z  tBodyAcc-mad()-X  \\\n",
      "0            -0.938404         -0.920091         -0.667683         -0.952501   \n",
      "1            -0.975415         -0.967458         -0.944958         -0.986799   \n",
      "2            -0.993819         -0.969926         -0.962748         -0.994403   \n",
      "3            -0.994743         -0.973268         -0.967091         -0.995274   \n",
      "4            -0.993852         -0.967445         -0.978295         -0.994111   \n",
      "...                ...               ...               ...               ...   \n",
      "2942         -0.287866         -0.140589         -0.215088         -0.356083   \n",
      "2943         -0.305388          0.028148         -0.196373         -0.373540   \n",
      "2944         -0.329638         -0.042143         -0.250181         -0.388017   \n",
      "2945         -0.323114         -0.229775         -0.207574         -0.392380   \n",
      "2946         -0.330046         -0.195253         -0.164339         -0.430974   \n",
      "\n",
      "      tBodyAcc-mad()-Y  tBodyAcc-mad()-Z  tBodyAcc-max()-X  ...  \\\n",
      "0            -0.925249         -0.674302         -0.894088  ...   \n",
      "1            -0.968401         -0.945823         -0.894088  ...   \n",
      "2            -0.970735         -0.963483         -0.939260  ...   \n",
      "3            -0.974471         -0.968897         -0.938610  ...   \n",
      "4            -0.965953         -0.977346         -0.938610  ...   \n",
      "...                ...               ...               ...  ...   \n",
      "2942         -0.148775         -0.232057          0.185361  ...   \n",
      "2943         -0.030036         -0.270237          0.185361  ...   \n",
      "2944         -0.133257         -0.347029          0.007471  ...   \n",
      "2945         -0.279610         -0.289477          0.007471  ...   \n",
      "2946         -0.218295         -0.229933         -0.111527  ...   \n",
      "\n",
      "      fBodyBodyGyroJerkMag-meanFreq()  fBodyBodyGyroJerkMag-skewness()  \\\n",
      "0                            0.071645                        -0.330370   \n",
      "1                           -0.401189                        -0.121845   \n",
      "2                            0.062891                        -0.190422   \n",
      "3                            0.116695                        -0.344418   \n",
      "4                           -0.121711                        -0.534685   \n",
      "...                               ...                              ...   \n",
      "2942                         0.074472                        -0.376278   \n",
      "2943                         0.101859                        -0.320418   \n",
      "2944                        -0.066249                        -0.118854   \n",
      "2945                        -0.046467                        -0.205445   \n",
      "2946                        -0.010386                        -0.072237   \n",
      "\n",
      "      fBodyBodyGyroJerkMag-kurtosis()  angle(tBodyAccMean,gravity)  \\\n",
      "0                           -0.705974                     0.006462   \n",
      "1                           -0.594944                    -0.083495   \n",
      "2                           -0.640736                    -0.034956   \n",
      "3                           -0.736124                    -0.017067   \n",
      "4                           -0.846595                    -0.002223   \n",
      "...                               ...                          ...   \n",
      "2942                        -0.750809                    -0.337422   \n",
      "2943                        -0.700274                    -0.736701   \n",
      "2944                        -0.467179                    -0.181560   \n",
      "2945                        -0.617737                     0.444558   \n",
      "2946                        -0.436940                     0.598808   \n",
      "\n",
      "      angle(tBodyAccJerkMean),gravityMean)  angle(tBodyGyroMean,gravityMean)  \\\n",
      "0                                 0.162920                         -0.825886   \n",
      "1                                 0.017500                         -0.434375   \n",
      "2                                 0.202302                          0.064103   \n",
      "3                                 0.154438                          0.340134   \n",
      "4                                -0.040046                          0.736715   \n",
      "...                                    ...                               ...   \n",
      "2942                              0.346295                          0.884904   \n",
      "2943                             -0.372889                         -0.657421   \n",
      "2944                              0.088574                          0.696663   \n",
      "2945                             -0.819188                          0.929294   \n",
      "2946                             -0.287951                          0.876030   \n",
      "\n",
      "      angle(tBodyGyroJerkMean,gravityMean)  angle(X,gravityMean)  \\\n",
      "0                                 0.271151             -0.720009   \n",
      "1                                 0.920593             -0.698091   \n",
      "2                                 0.145068             -0.702771   \n",
      "3                                 0.296407             -0.698954   \n",
      "4                                -0.118545             -0.692245   \n",
      "...                                    ...                   ...   \n",
      "2942                             -0.698885             -0.651732   \n",
      "2943                              0.322549             -0.655181   \n",
      "2944                              0.363139             -0.655357   \n",
      "2945                             -0.008398             -0.659719   \n",
      "2946                             -0.024965             -0.660080   \n",
      "\n",
      "      angle(Y,gravityMean)  angle(Z,gravityMean)  \n",
      "0                 0.276801             -0.057978  \n",
      "1                 0.281343             -0.083898  \n",
      "2                 0.280083             -0.079346  \n",
      "3                 0.284114             -0.077108  \n",
      "4                 0.290722             -0.073857  \n",
      "...                    ...                   ...  \n",
      "2942              0.274627              0.184784  \n",
      "2943              0.273578              0.182412  \n",
      "2944              0.274479              0.181184  \n",
      "2945              0.264782              0.187563  \n",
      "2946              0.263936              0.188103  \n",
      "\n",
      "[2947 rows x 561 columns]\n"
     ]
    }
   ],
   "source": [
    "print(X)"
   ]
  },
  {
   "cell_type": "code",
   "execution_count": 33,
   "id": "f180748d",
   "metadata": {},
   "outputs": [
    {
     "name": "stdout",
     "output_type": "stream",
     "text": [
      "0       2\n",
      "1       2\n",
      "2       2\n",
      "3       2\n",
      "4       2\n",
      "       ..\n",
      "2942    5\n",
      "2943    5\n",
      "2944    5\n",
      "2945    5\n",
      "2946    5\n",
      "Name: Target, Length: 2947, dtype: int32\n"
     ]
    }
   ],
   "source": [
    "print(Y)"
   ]
  },
  {
   "cell_type": "code",
   "execution_count": 38,
   "id": "12f6cea1",
   "metadata": {},
   "outputs": [],
   "source": [
    "from sklearn.model_selection import train_test_split\n",
    "X_train,X_test,Y_train,Y_test = train_test_split(X,Y,test_size=0.2,random_state=0)"
   ]
  },
  {
   "cell_type": "code",
   "execution_count": 39,
   "id": "76eae011",
   "metadata": {},
   "outputs": [
    {
     "name": "stdout",
     "output_type": "stream",
     "text": [
      "(2947, 561) (2357, 561) (590, 561)\n"
     ]
    }
   ],
   "source": [
    "print(X.shape,X_train.shape,X_test.shape)"
   ]
  },
  {
   "cell_type": "code",
   "execution_count": 43,
   "id": "d561a686",
   "metadata": {},
   "outputs": [
    {
     "name": "stdout",
     "output_type": "stream",
     "text": [
      "tBodyAcc-mean()-X       0.060570\n",
      "tBodyAcc-mean()-Y       0.025745\n",
      "tBodyAcc-mean()-Z       0.042747\n",
      "tBodyAcc-std()-X        0.412597\n",
      "tBodyAcc-std()-Y        0.494269\n",
      "                          ...   \n",
      "angle(X,gravityMean)    0.509205\n",
      "angle(Y,gravityMean)    0.324300\n",
      "angle(Z,gravityMean)    0.241467\n",
      "subject                 6.950984\n",
      "Target                  1.706414\n",
      "Length: 563, dtype: float64\n"
     ]
    }
   ],
   "source": [
    "print(human.std())"
   ]
  },
  {
   "cell_type": "markdown",
   "id": "ad8675cb",
   "metadata": {},
   "source": [
    "## Standarizing the data"
   ]
  },
  {
   "cell_type": "code",
   "execution_count": 44,
   "id": "8ba3ade4",
   "metadata": {},
   "outputs": [],
   "source": [
    "from sklearn.preprocessing import StandardScaler"
   ]
  },
  {
   "cell_type": "code",
   "execution_count": 45,
   "id": "3e1aab4e",
   "metadata": {},
   "outputs": [],
   "source": [
    "scaler = StandardScaler()"
   ]
  },
  {
   "cell_type": "code",
   "execution_count": 46,
   "id": "ae106115",
   "metadata": {},
   "outputs": [
    {
     "data": {
      "text/plain": [
       "StandardScaler()"
      ]
     },
     "execution_count": 46,
     "metadata": {},
     "output_type": "execute_result"
    }
   ],
   "source": [
    "scaler.fit(X_train)"
   ]
  },
  {
   "cell_type": "code",
   "execution_count": 47,
   "id": "b0671918",
   "metadata": {},
   "outputs": [],
   "source": [
    "X_train_standardize = scaler.transform(X_train)\n",
    "\n",
    "X_test_standardize = scaler.transform(X_test)"
   ]
  },
  {
   "cell_type": "code",
   "execution_count": 48,
   "id": "c24c7d96",
   "metadata": {},
   "outputs": [
    {
     "name": "stdout",
     "output_type": "stream",
     "text": [
      "[[-0.01394309 -1.92984736 -0.19394648 ... -0.54060553  0.47936145\n",
      "   0.00955529]\n",
      " [ 0.50976827  0.01361783  0.12791759 ...  1.97712659 -1.95293915\n",
      "  -1.60039629]\n",
      " [ 1.66332195 -0.37437888  0.39205602 ... -0.62268855  0.25421576\n",
      "   0.71314522]\n",
      " ...\n",
      " [ 1.72500124  1.79497582  4.39734817 ... -0.40893513  0.45654093\n",
      "   0.90099971]\n",
      " [ 0.0985371  -0.06368601  0.05077394 ... -0.31635224 -0.52731952\n",
      "  -0.22574034]\n",
      " [-0.36918048  1.3633345  -0.2717806  ... -0.38230563  0.44933578\n",
      "   0.96117626]]\n"
     ]
    }
   ],
   "source": [
    "print(X_train_standardize)"
   ]
  },
  {
   "cell_type": "code",
   "execution_count": 49,
   "id": "c08efc33",
   "metadata": {},
   "outputs": [
    {
     "name": "stdout",
     "output_type": "stream",
     "text": [
      "[[ 0.59367227 -0.28912539 -0.37833268 ... -0.327768    0.74969901\n",
      "   0.22015553]\n",
      " [-0.4250944  -0.12667815  0.18999113 ...  2.15480527 -1.50590613\n",
      "  -2.25547933]\n",
      " [ 0.02712319 -0.0299274   0.11355123 ...  1.95029346 -1.95377108\n",
      "  -1.59087734]\n",
      " ...\n",
      " [ 0.04414864  0.06861589  0.06693345 ... -0.43228248 -0.49202656\n",
      "   0.10934289]\n",
      " [ 0.30545832  0.17457914  0.22067818 ... -0.60833497  0.29528629\n",
      "   0.700087  ]\n",
      " [-0.70392785 -2.44464074 -2.17800468 ... -0.63241142  0.3545136\n",
      "   0.56332121]]\n"
     ]
    }
   ],
   "source": [
    "print(X_test_standardize)"
   ]
  },
  {
   "cell_type": "markdown",
   "id": "9284ea9e",
   "metadata": {},
   "source": [
    "## HyperParameter tuning using Gridsearch & cross validation"
   ]
  },
  {
   "cell_type": "code",
   "execution_count": 50,
   "id": "a2f03bbe",
   "metadata": {},
   "outputs": [],
   "source": [
    "model = SVC()"
   ]
  },
  {
   "cell_type": "code",
   "execution_count": 54,
   "id": "d501cf22",
   "metadata": {},
   "outputs": [],
   "source": [
    "parameters={'kernel':['rbf'],\n",
    "           'gamma':[1e-3,1e-4],\n",
    "           'C':[1,10,100,1000]}\n"
   ]
  },
  {
   "cell_type": "code",
   "execution_count": 55,
   "id": "f2e8b03f",
   "metadata": {},
   "outputs": [],
   "source": [
    "classifier = GridSearchCV(model,parameters,cv=5)"
   ]
  },
  {
   "cell_type": "code",
   "execution_count": 56,
   "id": "6adf843d",
   "metadata": {},
   "outputs": [
    {
     "data": {
      "text/plain": [
       "GridSearchCV(cv=5, estimator=SVC(),\n",
       "             param_grid={'C': [1, 10, 100, 1000], 'gamma': [0.001, 0.0001],\n",
       "                         'kernel': ['rbf']})"
      ]
     },
     "execution_count": 56,
     "metadata": {},
     "output_type": "execute_result"
    }
   ],
   "source": [
    "classifier.fit(X,Y)"
   ]
  },
  {
   "cell_type": "code",
   "execution_count": 57,
   "id": "5f850854",
   "metadata": {},
   "outputs": [
    {
     "data": {
      "text/plain": [
       "{'mean_fit_time': array([0.45881906, 0.9861177 , 0.23681636, 0.42931638, 0.13459616,\n",
       "        0.24006987, 0.14539533, 0.14219418]),\n",
       " 'std_fit_time': array([0.03081138, 0.03787414, 0.0285959 , 0.02501881, 0.00565225,\n",
       "        0.04768599, 0.02175569, 0.01741008]),\n",
       " 'mean_score_time': array([0.49834533, 0.71690149, 0.2338932 , 0.49218068, 0.11978369,\n",
       "        0.21389689, 0.09868383, 0.11528292]),\n",
       " 'std_score_time': array([0.02300074, 0.03951052, 0.0207778 , 0.02632351, 0.0085171 ,\n",
       "        0.03450867, 0.00542282, 0.00404561]),\n",
       " 'param_C': masked_array(data=[1, 1, 10, 10, 100, 100, 1000, 1000],\n",
       "              mask=[False, False, False, False, False, False, False, False],\n",
       "        fill_value='?',\n",
       "             dtype=object),\n",
       " 'param_gamma': masked_array(data=[0.001, 0.0001, 0.001, 0.0001, 0.001, 0.0001, 0.001,\n",
       "                    0.0001],\n",
       "              mask=[False, False, False, False, False, False, False, False],\n",
       "        fill_value='?',\n",
       "             dtype=object),\n",
       " 'param_kernel': masked_array(data=['rbf', 'rbf', 'rbf', 'rbf', 'rbf', 'rbf', 'rbf', 'rbf'],\n",
       "              mask=[False, False, False, False, False, False, False, False],\n",
       "        fill_value='?',\n",
       "             dtype=object),\n",
       " 'params': [{'C': 1, 'gamma': 0.001, 'kernel': 'rbf'},\n",
       "  {'C': 1, 'gamma': 0.0001, 'kernel': 'rbf'},\n",
       "  {'C': 10, 'gamma': 0.001, 'kernel': 'rbf'},\n",
       "  {'C': 10, 'gamma': 0.0001, 'kernel': 'rbf'},\n",
       "  {'C': 100, 'gamma': 0.001, 'kernel': 'rbf'},\n",
       "  {'C': 100, 'gamma': 0.0001, 'kernel': 'rbf'},\n",
       "  {'C': 1000, 'gamma': 0.001, 'kernel': 'rbf'},\n",
       "  {'C': 1000, 'gamma': 0.0001, 'kernel': 'rbf'}],\n",
       " 'split0_test_score': array([0.92372881, 0.58644068, 0.97118644, 0.92542373, 0.98135593,\n",
       "        0.96949153, 0.97627119, 0.97627119]),\n",
       " 'split1_test_score': array([0.84745763, 0.57457627, 0.87288136, 0.84915254, 0.87288136,\n",
       "        0.86949153, 0.86440678, 0.87457627]),\n",
       " 'split2_test_score': array([0.91171477, 0.55008489, 0.94227504, 0.91171477, 0.94736842,\n",
       "        0.94567063, 0.94397284, 0.94736842]),\n",
       " 'split3_test_score': array([0.87436333, 0.64685908, 0.91171477, 0.87436333, 0.93378608,\n",
       "        0.91171477, 0.93378608, 0.93378608]),\n",
       " 'split4_test_score': array([0.93548387, 0.55178268, 0.9524618 , 0.93208829, 0.94227504,\n",
       "        0.95076401, 0.94057725, 0.93548387]),\n",
       " 'mean_test_score': array([0.89854968, 0.58194872, 0.93010388, 0.89854853, 0.93553337,\n",
       "        0.92942649, 0.93180283, 0.93349717]),\n",
       " 'std_test_score': array([0.03276224, 0.03525104, 0.03449164, 0.03176611, 0.0352521 ,\n",
       "        0.0352995 , 0.03673879, 0.03315941]),\n",
       " 'rank_test_score': array([6, 8, 4, 7, 1, 5, 3, 2])}"
      ]
     },
     "execution_count": 57,
     "metadata": {},
     "output_type": "execute_result"
    }
   ],
   "source": [
    "classifier.cv_results_"
   ]
  },
  {
   "cell_type": "code",
   "execution_count": 58,
   "id": "2c687052",
   "metadata": {},
   "outputs": [
    {
     "name": "stdout",
     "output_type": "stream",
     "text": [
      "{'C': 100, 'gamma': 0.001, 'kernel': 'rbf'}\n"
     ]
    }
   ],
   "source": [
    "#best parameters\n",
    "best_parameters = classifier.best_params_\n",
    "print(best_parameters)"
   ]
  },
  {
   "cell_type": "code",
   "execution_count": 59,
   "id": "94e8e275",
   "metadata": {},
   "outputs": [
    {
     "name": "stdout",
     "output_type": "stream",
     "text": [
      "0.9355333659463037\n"
     ]
    }
   ],
   "source": [
    "#highest accuracy \n",
    "highest_accuracy = classifier.best_score_\n",
    "print(highest_accuracy)"
   ]
  },
  {
   "cell_type": "code",
   "execution_count": 60,
   "id": "773503ad",
   "metadata": {},
   "outputs": [],
   "source": [
    "#loading the results to pandas dataframe\n",
    "result = pd.DataFrame(classifier.cv_results_)"
   ]
  },
  {
   "cell_type": "code",
   "execution_count": 61,
   "id": "1bd555c1",
   "metadata": {},
   "outputs": [
    {
     "data": {
      "text/html": [
       "<div>\n",
       "<style scoped>\n",
       "    .dataframe tbody tr th:only-of-type {\n",
       "        vertical-align: middle;\n",
       "    }\n",
       "\n",
       "    .dataframe tbody tr th {\n",
       "        vertical-align: top;\n",
       "    }\n",
       "\n",
       "    .dataframe thead th {\n",
       "        text-align: right;\n",
       "    }\n",
       "</style>\n",
       "<table border=\"1\" class=\"dataframe\">\n",
       "  <thead>\n",
       "    <tr style=\"text-align: right;\">\n",
       "      <th></th>\n",
       "      <th>mean_fit_time</th>\n",
       "      <th>std_fit_time</th>\n",
       "      <th>mean_score_time</th>\n",
       "      <th>std_score_time</th>\n",
       "      <th>param_C</th>\n",
       "      <th>param_gamma</th>\n",
       "      <th>param_kernel</th>\n",
       "      <th>params</th>\n",
       "      <th>split0_test_score</th>\n",
       "      <th>split1_test_score</th>\n",
       "      <th>split2_test_score</th>\n",
       "      <th>split3_test_score</th>\n",
       "      <th>split4_test_score</th>\n",
       "      <th>mean_test_score</th>\n",
       "      <th>std_test_score</th>\n",
       "      <th>rank_test_score</th>\n",
       "    </tr>\n",
       "  </thead>\n",
       "  <tbody>\n",
       "    <tr>\n",
       "      <th>0</th>\n",
       "      <td>0.458819</td>\n",
       "      <td>0.030811</td>\n",
       "      <td>0.498345</td>\n",
       "      <td>0.023001</td>\n",
       "      <td>1</td>\n",
       "      <td>0.001</td>\n",
       "      <td>rbf</td>\n",
       "      <td>{'C': 1, 'gamma': 0.001, 'kernel': 'rbf'}</td>\n",
       "      <td>0.923729</td>\n",
       "      <td>0.847458</td>\n",
       "      <td>0.911715</td>\n",
       "      <td>0.874363</td>\n",
       "      <td>0.935484</td>\n",
       "      <td>0.898550</td>\n",
       "      <td>0.032762</td>\n",
       "      <td>6</td>\n",
       "    </tr>\n",
       "    <tr>\n",
       "      <th>1</th>\n",
       "      <td>0.986118</td>\n",
       "      <td>0.037874</td>\n",
       "      <td>0.716901</td>\n",
       "      <td>0.039511</td>\n",
       "      <td>1</td>\n",
       "      <td>0.0001</td>\n",
       "      <td>rbf</td>\n",
       "      <td>{'C': 1, 'gamma': 0.0001, 'kernel': 'rbf'}</td>\n",
       "      <td>0.586441</td>\n",
       "      <td>0.574576</td>\n",
       "      <td>0.550085</td>\n",
       "      <td>0.646859</td>\n",
       "      <td>0.551783</td>\n",
       "      <td>0.581949</td>\n",
       "      <td>0.035251</td>\n",
       "      <td>8</td>\n",
       "    </tr>\n",
       "    <tr>\n",
       "      <th>2</th>\n",
       "      <td>0.236816</td>\n",
       "      <td>0.028596</td>\n",
       "      <td>0.233893</td>\n",
       "      <td>0.020778</td>\n",
       "      <td>10</td>\n",
       "      <td>0.001</td>\n",
       "      <td>rbf</td>\n",
       "      <td>{'C': 10, 'gamma': 0.001, 'kernel': 'rbf'}</td>\n",
       "      <td>0.971186</td>\n",
       "      <td>0.872881</td>\n",
       "      <td>0.942275</td>\n",
       "      <td>0.911715</td>\n",
       "      <td>0.952462</td>\n",
       "      <td>0.930104</td>\n",
       "      <td>0.034492</td>\n",
       "      <td>4</td>\n",
       "    </tr>\n",
       "    <tr>\n",
       "      <th>3</th>\n",
       "      <td>0.429316</td>\n",
       "      <td>0.025019</td>\n",
       "      <td>0.492181</td>\n",
       "      <td>0.026324</td>\n",
       "      <td>10</td>\n",
       "      <td>0.0001</td>\n",
       "      <td>rbf</td>\n",
       "      <td>{'C': 10, 'gamma': 0.0001, 'kernel': 'rbf'}</td>\n",
       "      <td>0.925424</td>\n",
       "      <td>0.849153</td>\n",
       "      <td>0.911715</td>\n",
       "      <td>0.874363</td>\n",
       "      <td>0.932088</td>\n",
       "      <td>0.898549</td>\n",
       "      <td>0.031766</td>\n",
       "      <td>7</td>\n",
       "    </tr>\n",
       "    <tr>\n",
       "      <th>4</th>\n",
       "      <td>0.134596</td>\n",
       "      <td>0.005652</td>\n",
       "      <td>0.119784</td>\n",
       "      <td>0.008517</td>\n",
       "      <td>100</td>\n",
       "      <td>0.001</td>\n",
       "      <td>rbf</td>\n",
       "      <td>{'C': 100, 'gamma': 0.001, 'kernel': 'rbf'}</td>\n",
       "      <td>0.981356</td>\n",
       "      <td>0.872881</td>\n",
       "      <td>0.947368</td>\n",
       "      <td>0.933786</td>\n",
       "      <td>0.942275</td>\n",
       "      <td>0.935533</td>\n",
       "      <td>0.035252</td>\n",
       "      <td>1</td>\n",
       "    </tr>\n",
       "  </tbody>\n",
       "</table>\n",
       "</div>"
      ],
      "text/plain": [
       "   mean_fit_time  std_fit_time  mean_score_time  std_score_time param_C  \\\n",
       "0       0.458819      0.030811         0.498345        0.023001       1   \n",
       "1       0.986118      0.037874         0.716901        0.039511       1   \n",
       "2       0.236816      0.028596         0.233893        0.020778      10   \n",
       "3       0.429316      0.025019         0.492181        0.026324      10   \n",
       "4       0.134596      0.005652         0.119784        0.008517     100   \n",
       "\n",
       "  param_gamma param_kernel                                       params  \\\n",
       "0       0.001          rbf    {'C': 1, 'gamma': 0.001, 'kernel': 'rbf'}   \n",
       "1      0.0001          rbf   {'C': 1, 'gamma': 0.0001, 'kernel': 'rbf'}   \n",
       "2       0.001          rbf   {'C': 10, 'gamma': 0.001, 'kernel': 'rbf'}   \n",
       "3      0.0001          rbf  {'C': 10, 'gamma': 0.0001, 'kernel': 'rbf'}   \n",
       "4       0.001          rbf  {'C': 100, 'gamma': 0.001, 'kernel': 'rbf'}   \n",
       "\n",
       "   split0_test_score  split1_test_score  split2_test_score  split3_test_score  \\\n",
       "0           0.923729           0.847458           0.911715           0.874363   \n",
       "1           0.586441           0.574576           0.550085           0.646859   \n",
       "2           0.971186           0.872881           0.942275           0.911715   \n",
       "3           0.925424           0.849153           0.911715           0.874363   \n",
       "4           0.981356           0.872881           0.947368           0.933786   \n",
       "\n",
       "   split4_test_score  mean_test_score  std_test_score  rank_test_score  \n",
       "0           0.935484         0.898550        0.032762                6  \n",
       "1           0.551783         0.581949        0.035251                8  \n",
       "2           0.952462         0.930104        0.034492                4  \n",
       "3           0.932088         0.898549        0.031766                7  \n",
       "4           0.942275         0.935533        0.035252                1  "
      ]
     },
     "execution_count": 61,
     "metadata": {},
     "output_type": "execute_result"
    }
   ],
   "source": [
    "result.head()"
   ]
  },
  {
   "cell_type": "code",
   "execution_count": 62,
   "id": "ee9736e0",
   "metadata": {},
   "outputs": [],
   "source": [
    "grid_search_result = result[['param_C','param_kernel','mean_test_score']]"
   ]
  },
  {
   "cell_type": "code",
   "execution_count": 63,
   "id": "37372410",
   "metadata": {},
   "outputs": [
    {
     "data": {
      "text/html": [
       "<div>\n",
       "<style scoped>\n",
       "    .dataframe tbody tr th:only-of-type {\n",
       "        vertical-align: middle;\n",
       "    }\n",
       "\n",
       "    .dataframe tbody tr th {\n",
       "        vertical-align: top;\n",
       "    }\n",
       "\n",
       "    .dataframe thead th {\n",
       "        text-align: right;\n",
       "    }\n",
       "</style>\n",
       "<table border=\"1\" class=\"dataframe\">\n",
       "  <thead>\n",
       "    <tr style=\"text-align: right;\">\n",
       "      <th></th>\n",
       "      <th>param_C</th>\n",
       "      <th>param_kernel</th>\n",
       "      <th>mean_test_score</th>\n",
       "    </tr>\n",
       "  </thead>\n",
       "  <tbody>\n",
       "    <tr>\n",
       "      <th>0</th>\n",
       "      <td>1</td>\n",
       "      <td>rbf</td>\n",
       "      <td>0.898550</td>\n",
       "    </tr>\n",
       "    <tr>\n",
       "      <th>1</th>\n",
       "      <td>1</td>\n",
       "      <td>rbf</td>\n",
       "      <td>0.581949</td>\n",
       "    </tr>\n",
       "    <tr>\n",
       "      <th>2</th>\n",
       "      <td>10</td>\n",
       "      <td>rbf</td>\n",
       "      <td>0.930104</td>\n",
       "    </tr>\n",
       "    <tr>\n",
       "      <th>3</th>\n",
       "      <td>10</td>\n",
       "      <td>rbf</td>\n",
       "      <td>0.898549</td>\n",
       "    </tr>\n",
       "    <tr>\n",
       "      <th>4</th>\n",
       "      <td>100</td>\n",
       "      <td>rbf</td>\n",
       "      <td>0.935533</td>\n",
       "    </tr>\n",
       "    <tr>\n",
       "      <th>5</th>\n",
       "      <td>100</td>\n",
       "      <td>rbf</td>\n",
       "      <td>0.929426</td>\n",
       "    </tr>\n",
       "    <tr>\n",
       "      <th>6</th>\n",
       "      <td>1000</td>\n",
       "      <td>rbf</td>\n",
       "      <td>0.931803</td>\n",
       "    </tr>\n",
       "    <tr>\n",
       "      <th>7</th>\n",
       "      <td>1000</td>\n",
       "      <td>rbf</td>\n",
       "      <td>0.933497</td>\n",
       "    </tr>\n",
       "  </tbody>\n",
       "</table>\n",
       "</div>"
      ],
      "text/plain": [
       "  param_C param_kernel  mean_test_score\n",
       "0       1          rbf         0.898550\n",
       "1       1          rbf         0.581949\n",
       "2      10          rbf         0.930104\n",
       "3      10          rbf         0.898549\n",
       "4     100          rbf         0.935533\n",
       "5     100          rbf         0.929426\n",
       "6    1000          rbf         0.931803\n",
       "7    1000          rbf         0.933497"
      ]
     },
     "execution_count": 63,
     "metadata": {},
     "output_type": "execute_result"
    }
   ],
   "source": [
    "grid_search_result"
   ]
  },
  {
   "cell_type": "code",
   "execution_count": 67,
   "id": "a1c57938",
   "metadata": {},
   "outputs": [
    {
     "data": {
      "text/plain": [
       "GridSearchCV(cv=5, estimator=SVC(),\n",
       "             param_grid={'C': [1, 10, 100, 1000], 'gamma': [0.001, 0.0001],\n",
       "                         'kernel': ['rbf']})"
      ]
     },
     "execution_count": 67,
     "metadata": {},
     "output_type": "execute_result"
    }
   ],
   "source": [
    "svm_model = GridSearchCV(SVC(), parameters, cv=5)\n",
    "svm_model.fit(X_train_standardize, Y_train)"
   ]
  },
  {
   "cell_type": "code",
   "execution_count": 68,
   "id": "7c7950a8",
   "metadata": {},
   "outputs": [
    {
     "data": {
      "text/plain": [
       "GridSearchCV(cv=5, estimator=SVC(),\n",
       "             param_grid={'C': [1, 10, 100, 1000], 'gamma': [0.001, 0.0001],\n",
       "                         'kernel': ['rbf']})"
      ]
     },
     "execution_count": 68,
     "metadata": {},
     "output_type": "execute_result"
    }
   ],
   "source": [
    "svm_model = GridSearchCV(SVC(), parameters, cv=5)\n",
    "svm_model.fit(X_test_standardize, Y_test)"
   ]
  },
  {
   "cell_type": "code",
   "execution_count": 76,
   "id": "0eaaee75",
   "metadata": {},
   "outputs": [
    {
     "name": "stdout",
     "output_type": "stream",
     "text": [
      "Best score for training data: 0.9508474576271186 \n",
      "\n",
      "Best C: 10 \n",
      "\n",
      "Best Kernel: rbf \n",
      "\n",
      "Best Gamma: 0.001 \n",
      "\n"
     ]
    }
   ],
   "source": [
    "# View the accuracy score\n",
    "print('Best score for training data:', svm_model.best_score_,\"\\n\") \n",
    "\n",
    "# View the best parameters for the model found using grid search\n",
    "print('Best C:',svm_model.best_estimator_.C,\"\\n\") \n",
    "print('Best Kernel:',svm_model.best_estimator_.kernel,\"\\n\")\n",
    "print('Best Gamma:',svm_model.best_estimator_.gamma,\"\\n\")\n",
    "\n",
    "final_model = svm_model.best_estimator_\n",
    "Y_pred = final_model.predict(X_test_standardize)\n",
    "Y_pred_label = list(label_encode.inverse_transform(Y_pred))"
   ]
  },
  {
   "cell_type": "code",
   "execution_count": null,
   "id": "9c72bc3d",
   "metadata": {},
   "outputs": [],
   "source": []
  }
 ],
 "metadata": {
  "kernelspec": {
   "display_name": "Python 3 (ipykernel)",
   "language": "python",
   "name": "python3"
  },
  "language_info": {
   "codemirror_mode": {
    "name": "ipython",
    "version": 3
   },
   "file_extension": ".py",
   "mimetype": "text/x-python",
   "name": "python",
   "nbconvert_exporter": "python",
   "pygments_lexer": "ipython3",
   "version": "3.9.12"
  }
 },
 "nbformat": 4,
 "nbformat_minor": 5
}
