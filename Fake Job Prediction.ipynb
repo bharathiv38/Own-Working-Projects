{
 "cells": [
  {
   "cell_type": "code",
   "execution_count": 1,
   "id": "91d25d77",
   "metadata": {},
   "outputs": [],
   "source": [
    "#Lets import dependencies\n",
    "import pandas as pd\n",
    "import numpy as np\n",
    "import re"
   ]
  },
  {
   "cell_type": "code",
   "execution_count": 2,
   "id": "39ca733b",
   "metadata": {},
   "outputs": [],
   "source": [
    "#loading dataset from csv to pandasdataframe\n",
    "job = pd.read_csv(r\"C:\\Users\\bharathi.v04\\Downloads\\DS\\fake_job_postings.csv\")"
   ]
  },
  {
   "cell_type": "code",
   "execution_count": 3,
   "id": "0c5c552a",
   "metadata": {},
   "outputs": [
    {
     "data": {
      "text/html": [
       "<div>\n",
       "<style scoped>\n",
       "    .dataframe tbody tr th:only-of-type {\n",
       "        vertical-align: middle;\n",
       "    }\n",
       "\n",
       "    .dataframe tbody tr th {\n",
       "        vertical-align: top;\n",
       "    }\n",
       "\n",
       "    .dataframe thead th {\n",
       "        text-align: right;\n",
       "    }\n",
       "</style>\n",
       "<table border=\"1\" class=\"dataframe\">\n",
       "  <thead>\n",
       "    <tr style=\"text-align: right;\">\n",
       "      <th></th>\n",
       "      <th>job_id</th>\n",
       "      <th>title</th>\n",
       "      <th>location</th>\n",
       "      <th>department</th>\n",
       "      <th>salary_range</th>\n",
       "      <th>company_profile</th>\n",
       "      <th>description</th>\n",
       "      <th>requirements</th>\n",
       "      <th>benefits</th>\n",
       "      <th>telecommuting</th>\n",
       "      <th>has_company_logo</th>\n",
       "      <th>has_questions</th>\n",
       "      <th>employment_type</th>\n",
       "      <th>required_experience</th>\n",
       "      <th>required_education</th>\n",
       "      <th>industry</th>\n",
       "      <th>function</th>\n",
       "      <th>fraudulent</th>\n",
       "    </tr>\n",
       "  </thead>\n",
       "  <tbody>\n",
       "    <tr>\n",
       "      <th>0</th>\n",
       "      <td>1</td>\n",
       "      <td>Marketing Intern</td>\n",
       "      <td>US, NY, New York</td>\n",
       "      <td>Marketing</td>\n",
       "      <td>NaN</td>\n",
       "      <td>We're Food52, and we've created a groundbreaki...</td>\n",
       "      <td>Food52, a fast-growing, James Beard Award-winn...</td>\n",
       "      <td>Experience with content management systems a m...</td>\n",
       "      <td>NaN</td>\n",
       "      <td>0</td>\n",
       "      <td>1</td>\n",
       "      <td>0</td>\n",
       "      <td>Other</td>\n",
       "      <td>Internship</td>\n",
       "      <td>NaN</td>\n",
       "      <td>NaN</td>\n",
       "      <td>Marketing</td>\n",
       "      <td>0</td>\n",
       "    </tr>\n",
       "    <tr>\n",
       "      <th>1</th>\n",
       "      <td>2</td>\n",
       "      <td>Customer Service - Cloud Video Production</td>\n",
       "      <td>NZ, , Auckland</td>\n",
       "      <td>Success</td>\n",
       "      <td>NaN</td>\n",
       "      <td>90 Seconds, the worlds Cloud Video Production ...</td>\n",
       "      <td>Organised - Focused - Vibrant - Awesome!Do you...</td>\n",
       "      <td>What we expect from you:Your key responsibilit...</td>\n",
       "      <td>What you will get from usThrough being part of...</td>\n",
       "      <td>0</td>\n",
       "      <td>1</td>\n",
       "      <td>0</td>\n",
       "      <td>Full-time</td>\n",
       "      <td>Not Applicable</td>\n",
       "      <td>NaN</td>\n",
       "      <td>Marketing and Advertising</td>\n",
       "      <td>Customer Service</td>\n",
       "      <td>0</td>\n",
       "    </tr>\n",
       "    <tr>\n",
       "      <th>2</th>\n",
       "      <td>3</td>\n",
       "      <td>Commissioning Machinery Assistant (CMA)</td>\n",
       "      <td>US, IA, Wever</td>\n",
       "      <td>NaN</td>\n",
       "      <td>NaN</td>\n",
       "      <td>Valor Services provides Workforce Solutions th...</td>\n",
       "      <td>Our client, located in Houston, is actively se...</td>\n",
       "      <td>Implement pre-commissioning and commissioning ...</td>\n",
       "      <td>NaN</td>\n",
       "      <td>0</td>\n",
       "      <td>1</td>\n",
       "      <td>0</td>\n",
       "      <td>NaN</td>\n",
       "      <td>NaN</td>\n",
       "      <td>NaN</td>\n",
       "      <td>NaN</td>\n",
       "      <td>NaN</td>\n",
       "      <td>0</td>\n",
       "    </tr>\n",
       "    <tr>\n",
       "      <th>3</th>\n",
       "      <td>4</td>\n",
       "      <td>Account Executive - Washington DC</td>\n",
       "      <td>US, DC, Washington</td>\n",
       "      <td>Sales</td>\n",
       "      <td>NaN</td>\n",
       "      <td>Our passion for improving quality of life thro...</td>\n",
       "      <td>THE COMPANY: ESRI – Environmental Systems Rese...</td>\n",
       "      <td>EDUCATION: Bachelor’s or Master’s in GIS, busi...</td>\n",
       "      <td>Our culture is anything but corporate—we have ...</td>\n",
       "      <td>0</td>\n",
       "      <td>1</td>\n",
       "      <td>0</td>\n",
       "      <td>Full-time</td>\n",
       "      <td>Mid-Senior level</td>\n",
       "      <td>Bachelor's Degree</td>\n",
       "      <td>Computer Software</td>\n",
       "      <td>Sales</td>\n",
       "      <td>0</td>\n",
       "    </tr>\n",
       "    <tr>\n",
       "      <th>4</th>\n",
       "      <td>5</td>\n",
       "      <td>Bill Review Manager</td>\n",
       "      <td>US, FL, Fort Worth</td>\n",
       "      <td>NaN</td>\n",
       "      <td>NaN</td>\n",
       "      <td>SpotSource Solutions LLC is a Global Human Cap...</td>\n",
       "      <td>JOB TITLE: Itemization Review ManagerLOCATION:...</td>\n",
       "      <td>QUALIFICATIONS:RN license in the State of Texa...</td>\n",
       "      <td>Full Benefits Offered</td>\n",
       "      <td>0</td>\n",
       "      <td>1</td>\n",
       "      <td>1</td>\n",
       "      <td>Full-time</td>\n",
       "      <td>Mid-Senior level</td>\n",
       "      <td>Bachelor's Degree</td>\n",
       "      <td>Hospital &amp; Health Care</td>\n",
       "      <td>Health Care Provider</td>\n",
       "      <td>0</td>\n",
       "    </tr>\n",
       "  </tbody>\n",
       "</table>\n",
       "</div>"
      ],
      "text/plain": [
       "   job_id                                      title            location  \\\n",
       "0       1                           Marketing Intern    US, NY, New York   \n",
       "1       2  Customer Service - Cloud Video Production      NZ, , Auckland   \n",
       "2       3    Commissioning Machinery Assistant (CMA)       US, IA, Wever   \n",
       "3       4          Account Executive - Washington DC  US, DC, Washington   \n",
       "4       5                        Bill Review Manager  US, FL, Fort Worth   \n",
       "\n",
       "  department salary_range                                    company_profile  \\\n",
       "0  Marketing          NaN  We're Food52, and we've created a groundbreaki...   \n",
       "1    Success          NaN  90 Seconds, the worlds Cloud Video Production ...   \n",
       "2        NaN          NaN  Valor Services provides Workforce Solutions th...   \n",
       "3      Sales          NaN  Our passion for improving quality of life thro...   \n",
       "4        NaN          NaN  SpotSource Solutions LLC is a Global Human Cap...   \n",
       "\n",
       "                                         description  \\\n",
       "0  Food52, a fast-growing, James Beard Award-winn...   \n",
       "1  Organised - Focused - Vibrant - Awesome!Do you...   \n",
       "2  Our client, located in Houston, is actively se...   \n",
       "3  THE COMPANY: ESRI – Environmental Systems Rese...   \n",
       "4  JOB TITLE: Itemization Review ManagerLOCATION:...   \n",
       "\n",
       "                                        requirements  \\\n",
       "0  Experience with content management systems a m...   \n",
       "1  What we expect from you:Your key responsibilit...   \n",
       "2  Implement pre-commissioning and commissioning ...   \n",
       "3  EDUCATION: Bachelor’s or Master’s in GIS, busi...   \n",
       "4  QUALIFICATIONS:RN license in the State of Texa...   \n",
       "\n",
       "                                            benefits  telecommuting  \\\n",
       "0                                                NaN              0   \n",
       "1  What you will get from usThrough being part of...              0   \n",
       "2                                                NaN              0   \n",
       "3  Our culture is anything but corporate—we have ...              0   \n",
       "4                              Full Benefits Offered              0   \n",
       "\n",
       "   has_company_logo  has_questions employment_type required_experience  \\\n",
       "0                 1              0           Other          Internship   \n",
       "1                 1              0       Full-time      Not Applicable   \n",
       "2                 1              0             NaN                 NaN   \n",
       "3                 1              0       Full-time    Mid-Senior level   \n",
       "4                 1              1       Full-time    Mid-Senior level   \n",
       "\n",
       "  required_education                   industry              function  \\\n",
       "0                NaN                        NaN             Marketing   \n",
       "1                NaN  Marketing and Advertising      Customer Service   \n",
       "2                NaN                        NaN                   NaN   \n",
       "3  Bachelor's Degree          Computer Software                 Sales   \n",
       "4  Bachelor's Degree     Hospital & Health Care  Health Care Provider   \n",
       "\n",
       "   fraudulent  \n",
       "0           0  \n",
       "1           0  \n",
       "2           0  \n",
       "3           0  \n",
       "4           0  "
      ]
     },
     "execution_count": 3,
     "metadata": {},
     "output_type": "execute_result"
    }
   ],
   "source": [
    "#print first 5 rows of dataset\n",
    "job.head()"
   ]
  },
  {
   "cell_type": "code",
   "execution_count": 4,
   "id": "07f67cdb",
   "metadata": {},
   "outputs": [
    {
     "data": {
      "text/html": [
       "<div>\n",
       "<style scoped>\n",
       "    .dataframe tbody tr th:only-of-type {\n",
       "        vertical-align: middle;\n",
       "    }\n",
       "\n",
       "    .dataframe tbody tr th {\n",
       "        vertical-align: top;\n",
       "    }\n",
       "\n",
       "    .dataframe thead th {\n",
       "        text-align: right;\n",
       "    }\n",
       "</style>\n",
       "<table border=\"1\" class=\"dataframe\">\n",
       "  <thead>\n",
       "    <tr style=\"text-align: right;\">\n",
       "      <th></th>\n",
       "      <th>job_id</th>\n",
       "      <th>title</th>\n",
       "      <th>location</th>\n",
       "      <th>department</th>\n",
       "      <th>salary_range</th>\n",
       "      <th>company_profile</th>\n",
       "      <th>description</th>\n",
       "      <th>requirements</th>\n",
       "      <th>benefits</th>\n",
       "      <th>telecommuting</th>\n",
       "      <th>has_company_logo</th>\n",
       "      <th>has_questions</th>\n",
       "      <th>employment_type</th>\n",
       "      <th>required_experience</th>\n",
       "      <th>required_education</th>\n",
       "      <th>industry</th>\n",
       "      <th>function</th>\n",
       "      <th>fraudulent</th>\n",
       "    </tr>\n",
       "  </thead>\n",
       "  <tbody>\n",
       "    <tr>\n",
       "      <th>17875</th>\n",
       "      <td>17876</td>\n",
       "      <td>Account Director - Distribution</td>\n",
       "      <td>CA, ON, Toronto</td>\n",
       "      <td>Sales</td>\n",
       "      <td>NaN</td>\n",
       "      <td>Vend is looking for some awesome new talent to...</td>\n",
       "      <td>Just in case this is the first time you’ve vis...</td>\n",
       "      <td>To ace this role you:Will eat comprehensive St...</td>\n",
       "      <td>What can you expect from us?We have an open cu...</td>\n",
       "      <td>0</td>\n",
       "      <td>1</td>\n",
       "      <td>1</td>\n",
       "      <td>Full-time</td>\n",
       "      <td>Mid-Senior level</td>\n",
       "      <td>NaN</td>\n",
       "      <td>Computer Software</td>\n",
       "      <td>Sales</td>\n",
       "      <td>0</td>\n",
       "    </tr>\n",
       "    <tr>\n",
       "      <th>17876</th>\n",
       "      <td>17877</td>\n",
       "      <td>Payroll Accountant</td>\n",
       "      <td>US, PA, Philadelphia</td>\n",
       "      <td>Accounting</td>\n",
       "      <td>NaN</td>\n",
       "      <td>WebLinc is the e-commerce platform and service...</td>\n",
       "      <td>The Payroll Accountant will focus primarily on...</td>\n",
       "      <td>- B.A. or B.S. in Accounting- Desire to have f...</td>\n",
       "      <td>Health &amp;amp; WellnessMedical planPrescription ...</td>\n",
       "      <td>0</td>\n",
       "      <td>1</td>\n",
       "      <td>1</td>\n",
       "      <td>Full-time</td>\n",
       "      <td>Mid-Senior level</td>\n",
       "      <td>Bachelor's Degree</td>\n",
       "      <td>Internet</td>\n",
       "      <td>Accounting/Auditing</td>\n",
       "      <td>0</td>\n",
       "    </tr>\n",
       "    <tr>\n",
       "      <th>17877</th>\n",
       "      <td>17878</td>\n",
       "      <td>Project Cost Control Staff Engineer - Cost Con...</td>\n",
       "      <td>US, TX, Houston</td>\n",
       "      <td>NaN</td>\n",
       "      <td>NaN</td>\n",
       "      <td>We Provide Full Time Permanent Positions for m...</td>\n",
       "      <td>Experienced Project Cost Control Staff Enginee...</td>\n",
       "      <td>At least 12 years professional experience.Abil...</td>\n",
       "      <td>NaN</td>\n",
       "      <td>0</td>\n",
       "      <td>0</td>\n",
       "      <td>0</td>\n",
       "      <td>Full-time</td>\n",
       "      <td>NaN</td>\n",
       "      <td>NaN</td>\n",
       "      <td>NaN</td>\n",
       "      <td>NaN</td>\n",
       "      <td>0</td>\n",
       "    </tr>\n",
       "    <tr>\n",
       "      <th>17878</th>\n",
       "      <td>17879</td>\n",
       "      <td>Graphic Designer</td>\n",
       "      <td>NG, LA, Lagos</td>\n",
       "      <td>NaN</td>\n",
       "      <td>NaN</td>\n",
       "      <td>NaN</td>\n",
       "      <td>Nemsia Studios is looking for an experienced v...</td>\n",
       "      <td>1. Must be fluent in the latest versions of Co...</td>\n",
       "      <td>Competitive salary (compensation will be based...</td>\n",
       "      <td>0</td>\n",
       "      <td>0</td>\n",
       "      <td>1</td>\n",
       "      <td>Contract</td>\n",
       "      <td>Not Applicable</td>\n",
       "      <td>Professional</td>\n",
       "      <td>Graphic Design</td>\n",
       "      <td>Design</td>\n",
       "      <td>0</td>\n",
       "    </tr>\n",
       "    <tr>\n",
       "      <th>17879</th>\n",
       "      <td>17880</td>\n",
       "      <td>Web Application Developers</td>\n",
       "      <td>NZ, N, Wellington</td>\n",
       "      <td>Engineering</td>\n",
       "      <td>NaN</td>\n",
       "      <td>Vend is looking for some awesome new talent to...</td>\n",
       "      <td>Who are we?Vend is an award winning web based ...</td>\n",
       "      <td>We want to hear from you if:You have an in-dep...</td>\n",
       "      <td>NaN</td>\n",
       "      <td>0</td>\n",
       "      <td>1</td>\n",
       "      <td>1</td>\n",
       "      <td>Full-time</td>\n",
       "      <td>Mid-Senior level</td>\n",
       "      <td>NaN</td>\n",
       "      <td>Computer Software</td>\n",
       "      <td>Engineering</td>\n",
       "      <td>0</td>\n",
       "    </tr>\n",
       "  </tbody>\n",
       "</table>\n",
       "</div>"
      ],
      "text/plain": [
       "       job_id                                              title  \\\n",
       "17875   17876                   Account Director - Distribution    \n",
       "17876   17877                                 Payroll Accountant   \n",
       "17877   17878  Project Cost Control Staff Engineer - Cost Con...   \n",
       "17878   17879                                   Graphic Designer   \n",
       "17879   17880                         Web Application Developers   \n",
       "\n",
       "                   location   department salary_range  \\\n",
       "17875       CA, ON, Toronto        Sales          NaN   \n",
       "17876  US, PA, Philadelphia   Accounting          NaN   \n",
       "17877       US, TX, Houston          NaN          NaN   \n",
       "17878         NG, LA, Lagos          NaN          NaN   \n",
       "17879     NZ, N, Wellington  Engineering          NaN   \n",
       "\n",
       "                                         company_profile  \\\n",
       "17875  Vend is looking for some awesome new talent to...   \n",
       "17876  WebLinc is the e-commerce platform and service...   \n",
       "17877  We Provide Full Time Permanent Positions for m...   \n",
       "17878                                                NaN   \n",
       "17879  Vend is looking for some awesome new talent to...   \n",
       "\n",
       "                                             description  \\\n",
       "17875  Just in case this is the first time you’ve vis...   \n",
       "17876  The Payroll Accountant will focus primarily on...   \n",
       "17877  Experienced Project Cost Control Staff Enginee...   \n",
       "17878  Nemsia Studios is looking for an experienced v...   \n",
       "17879  Who are we?Vend is an award winning web based ...   \n",
       "\n",
       "                                            requirements  \\\n",
       "17875  To ace this role you:Will eat comprehensive St...   \n",
       "17876  - B.A. or B.S. in Accounting- Desire to have f...   \n",
       "17877  At least 12 years professional experience.Abil...   \n",
       "17878  1. Must be fluent in the latest versions of Co...   \n",
       "17879  We want to hear from you if:You have an in-dep...   \n",
       "\n",
       "                                                benefits  telecommuting  \\\n",
       "17875  What can you expect from us?We have an open cu...              0   \n",
       "17876  Health &amp; WellnessMedical planPrescription ...              0   \n",
       "17877                                                NaN              0   \n",
       "17878  Competitive salary (compensation will be based...              0   \n",
       "17879                                                NaN              0   \n",
       "\n",
       "       has_company_logo  has_questions employment_type required_experience  \\\n",
       "17875                 1              1       Full-time    Mid-Senior level   \n",
       "17876                 1              1       Full-time    Mid-Senior level   \n",
       "17877                 0              0       Full-time                 NaN   \n",
       "17878                 0              1        Contract      Not Applicable   \n",
       "17879                 1              1       Full-time    Mid-Senior level   \n",
       "\n",
       "      required_education           industry             function  fraudulent  \n",
       "17875                NaN  Computer Software                Sales           0  \n",
       "17876  Bachelor's Degree           Internet  Accounting/Auditing           0  \n",
       "17877                NaN                NaN                  NaN           0  \n",
       "17878       Professional     Graphic Design               Design           0  \n",
       "17879                NaN  Computer Software          Engineering           0  "
      ]
     },
     "execution_count": 4,
     "metadata": {},
     "output_type": "execute_result"
    }
   ],
   "source": [
    "#print last 5 rows\n",
    "job.tail()"
   ]
  },
  {
   "cell_type": "code",
   "execution_count": 5,
   "id": "9ad29178",
   "metadata": {},
   "outputs": [
    {
     "data": {
      "text/plain": [
       "(17880, 18)"
      ]
     },
     "execution_count": 5,
     "metadata": {},
     "output_type": "execute_result"
    }
   ],
   "source": [
    "job.shape"
   ]
  },
  {
   "cell_type": "code",
   "execution_count": 6,
   "id": "81407bd1",
   "metadata": {},
   "outputs": [
    {
     "data": {
      "text/plain": [
       "job_id                     0\n",
       "title                      0\n",
       "location                 346\n",
       "department             11547\n",
       "salary_range           15012\n",
       "company_profile         3308\n",
       "description                1\n",
       "requirements            2695\n",
       "benefits                7210\n",
       "telecommuting              0\n",
       "has_company_logo           0\n",
       "has_questions              0\n",
       "employment_type         3471\n",
       "required_experience     7050\n",
       "required_education      8105\n",
       "industry                4903\n",
       "function                6455\n",
       "fraudulent                 0\n",
       "dtype: int64"
      ]
     },
     "execution_count": 6,
     "metadata": {},
     "output_type": "execute_result"
    }
   ],
   "source": [
    "#finding null values\n",
    "job.isnull().sum()"
   ]
  },
  {
   "cell_type": "code",
   "execution_count": 7,
   "id": "af2b74d4",
   "metadata": {},
   "outputs": [
    {
     "data": {
      "text/html": [
       "<div>\n",
       "<style scoped>\n",
       "    .dataframe tbody tr th:only-of-type {\n",
       "        vertical-align: middle;\n",
       "    }\n",
       "\n",
       "    .dataframe tbody tr th {\n",
       "        vertical-align: top;\n",
       "    }\n",
       "\n",
       "    .dataframe thead th {\n",
       "        text-align: right;\n",
       "    }\n",
       "</style>\n",
       "<table border=\"1\" class=\"dataframe\">\n",
       "  <thead>\n",
       "    <tr style=\"text-align: right;\">\n",
       "      <th></th>\n",
       "      <th>description</th>\n",
       "      <th>requirements</th>\n",
       "      <th>fraudulent</th>\n",
       "    </tr>\n",
       "  </thead>\n",
       "  <tbody>\n",
       "    <tr>\n",
       "      <th>0</th>\n",
       "      <td>Food52, a fast-growing, James Beard Award-winn...</td>\n",
       "      <td>Experience with content management systems a m...</td>\n",
       "      <td>0</td>\n",
       "    </tr>\n",
       "    <tr>\n",
       "      <th>1</th>\n",
       "      <td>Organised - Focused - Vibrant - Awesome!Do you...</td>\n",
       "      <td>What we expect from you:Your key responsibilit...</td>\n",
       "      <td>0</td>\n",
       "    </tr>\n",
       "    <tr>\n",
       "      <th>2</th>\n",
       "      <td>Our client, located in Houston, is actively se...</td>\n",
       "      <td>Implement pre-commissioning and commissioning ...</td>\n",
       "      <td>0</td>\n",
       "    </tr>\n",
       "    <tr>\n",
       "      <th>3</th>\n",
       "      <td>THE COMPANY: ESRI – Environmental Systems Rese...</td>\n",
       "      <td>EDUCATION: Bachelor’s or Master’s in GIS, busi...</td>\n",
       "      <td>0</td>\n",
       "    </tr>\n",
       "    <tr>\n",
       "      <th>4</th>\n",
       "      <td>JOB TITLE: Itemization Review ManagerLOCATION:...</td>\n",
       "      <td>QUALIFICATIONS:RN license in the State of Texa...</td>\n",
       "      <td>0</td>\n",
       "    </tr>\n",
       "  </tbody>\n",
       "</table>\n",
       "</div>"
      ],
      "text/plain": [
       "                                         description  \\\n",
       "0  Food52, a fast-growing, James Beard Award-winn...   \n",
       "1  Organised - Focused - Vibrant - Awesome!Do you...   \n",
       "2  Our client, located in Houston, is actively se...   \n",
       "3  THE COMPANY: ESRI – Environmental Systems Rese...   \n",
       "4  JOB TITLE: Itemization Review ManagerLOCATION:...   \n",
       "\n",
       "                                        requirements  fraudulent  \n",
       "0  Experience with content management systems a m...           0  \n",
       "1  What we expect from you:Your key responsibilit...           0  \n",
       "2  Implement pre-commissioning and commissioning ...           0  \n",
       "3  EDUCATION: Bachelor’s or Master’s in GIS, busi...           0  \n",
       "4  QUALIFICATIONS:RN license in the State of Texa...           0  "
      ]
     },
     "execution_count": 7,
     "metadata": {},
     "output_type": "execute_result"
    }
   ],
   "source": [
    "job_1 = job[['description','requirements','fraudulent']]\n",
    "job_1.head()"
   ]
  },
  {
   "cell_type": "code",
   "execution_count": 8,
   "id": "6043125c",
   "metadata": {},
   "outputs": [],
   "source": [
    "job_1=job_1.dropna()"
   ]
  },
  {
   "cell_type": "code",
   "execution_count": 9,
   "id": "aa890535",
   "metadata": {},
   "outputs": [
    {
     "data": {
      "text/plain": [
       "(15185, 3)"
      ]
     },
     "execution_count": 9,
     "metadata": {},
     "output_type": "execute_result"
    }
   ],
   "source": [
    "job_1.shape"
   ]
  },
  {
   "cell_type": "code",
   "execution_count": 10,
   "id": "29e60b2a",
   "metadata": {},
   "outputs": [],
   "source": [
    "import nltk\n",
    "import re\n",
    "from nltk.corpus import stopwords"
   ]
  },
  {
   "cell_type": "code",
   "execution_count": 11,
   "id": "9cda898f",
   "metadata": {},
   "outputs": [
    {
     "name": "stdout",
     "output_type": "stream",
     "text": [
      "[nltk_data] Downloading package stopwords to\n",
      "[nltk_data]     C:\\Users\\bharathi.v04\\AppData\\Roaming\\nltk_data...\n",
      "[nltk_data]   Package stopwords is already up-to-date!\n"
     ]
    },
    {
     "data": {
      "text/plain": [
       "True"
      ]
     },
     "execution_count": 11,
     "metadata": {},
     "output_type": "execute_result"
    }
   ],
   "source": [
    "nltk.download('stopwords')"
   ]
  },
  {
   "cell_type": "code",
   "execution_count": 12,
   "id": "ca9cb2df",
   "metadata": {},
   "outputs": [],
   "source": [
    "#merging description and requirements\n",
    "job_1['content'] =job_1['description']+' '+job_1['requirements'] "
   ]
  },
  {
   "cell_type": "code",
   "execution_count": 13,
   "id": "9a678428",
   "metadata": {},
   "outputs": [
    {
     "name": "stdout",
     "output_type": "stream",
     "text": [
      "0        Food52, a fast-growing, James Beard Award-winn...\n",
      "1        Organised - Focused - Vibrant - Awesome!Do you...\n",
      "2        Our client, located in Houston, is actively se...\n",
      "3        THE COMPANY: ESRI – Environmental Systems Rese...\n",
      "4        JOB TITLE: Itemization Review ManagerLOCATION:...\n",
      "                               ...                        \n",
      "17875    Just in case this is the first time you’ve vis...\n",
      "17876    The Payroll Accountant will focus primarily on...\n",
      "17877    Experienced Project Cost Control Staff Enginee...\n",
      "17878    Nemsia Studios is looking for an experienced v...\n",
      "17879    Who are we?Vend is an award winning web based ...\n",
      "Name: content, Length: 15185, dtype: object\n"
     ]
    }
   ],
   "source": [
    "print(job_1['content'])"
   ]
  },
  {
   "cell_type": "markdown",
   "id": "2bbed8ea",
   "metadata": {},
   "source": [
    "## Stemming"
   ]
  },
  {
   "cell_type": "code",
   "execution_count": 14,
   "id": "c0832ff2",
   "metadata": {},
   "outputs": [],
   "source": [
    "from nltk.stem.porter import PorterStemmer\n",
    "from sklearn.feature_extraction.text import TfidfVectorizer\n",
    "from sklearn.model_selection import train_test_split\n",
    "from sklearn.linear_model import LogisticRegression\n",
    "from sklearn.metrics import accuracy_score"
   ]
  },
  {
   "cell_type": "code",
   "execution_count": 15,
   "id": "fa37ed4f",
   "metadata": {},
   "outputs": [],
   "source": [
    "port_stem = PorterStemmer()"
   ]
  },
  {
   "cell_type": "code",
   "execution_count": 16,
   "id": "ca0d31d7",
   "metadata": {},
   "outputs": [],
   "source": [
    "def stemming(content):\n",
    "    stemmed_content = re.sub('[^a-zA-Z]',' ', content)\n",
    "    stemmed_content = stemmed_content.lower()\n",
    "    stemmed_content = stemmed_content.split()\n",
    "    stemmed_content = [port_stem.stem(word)for word in stemmed_content if not word in stopwords.words('english')]\n",
    "    stemmed_content = ' '.join(stemmed_content)\n",
    "    return stemmed_content"
   ]
  },
  {
   "cell_type": "code",
   "execution_count": 17,
   "id": "ee138379",
   "metadata": {},
   "outputs": [],
   "source": [
    "job_1['content'] = job_1['content'].apply(stemming)"
   ]
  },
  {
   "cell_type": "code",
   "execution_count": 18,
   "id": "11634f92",
   "metadata": {},
   "outputs": [
    {
     "name": "stdout",
     "output_type": "stream",
     "text": [
      "0        food fast grow jame beard award win onlin food...\n",
      "1        organis focus vibrant awesom passion custom se...\n",
      "2        client locat houston activ seek experienc comm...\n",
      "3        compani esri environment system research insti...\n",
      "4        job titl item review managerloc fort worth tx ...\n",
      "                               ...                        \n",
      "17875    case first time visit websit vend award win we...\n",
      "17876    payrol account focu primarili payrol function ...\n",
      "17877    experienc project cost control staff engin req...\n",
      "17878    nemsia studio look experienc visual graphic de...\n",
      "17879    vend award win web base point sale softwar ret...\n",
      "Name: content, Length: 15185, dtype: object\n"
     ]
    }
   ],
   "source": [
    "print(job_1['content'])"
   ]
  },
  {
   "cell_type": "code",
   "execution_count": 26,
   "id": "0aadb53f",
   "metadata": {},
   "outputs": [],
   "source": [
    "#Separating data & label\n",
    "X = job_1['content'].values\n",
    "Y = job_1['fraudulent'].values"
   ]
  },
  {
   "cell_type": "code",
   "execution_count": 27,
   "id": "b83f0216",
   "metadata": {},
   "outputs": [
    {
     "name": "stdout",
     "output_type": "stream",
     "text": [
      "['food fast grow jame beard award win onlin food commun crowd sourc curat recip hub current interview full part time unpaid intern work small team editor execut develop new york citi headquart reproduc repackag exist food content number partner site huffington post yahoo buzzfe variou content manag systemsresearch blog websit provis food affili programassist day day affili program support screen affili assist affili inquiriessupport pr amp event neededhelp offic administr work file mail prepar meetingswork develop document bug suggest improv sitesupport market execut staff experi content manag system major plu blog count familiar food editori voic aestheticlov food appreci import home cook cook seasonsmeticul editor perfectionist obsess attent detail madden typo broken link delight find fix themcheer pressureexcel commun skillsa multi tasker juggler respons big smallinterest engag social media like twitter facebook pinterestlov problem solv collabor drive food forwardthink big pictur pitch nitti gritti run small compani dish shop administr support comfort realiti work startup call even weekend work long hour'\n",
      " 'organis focus vibrant awesom passion custom servic slick type skill mayb account manag think administr cooler polar bear jetski need hear cloud video product servic opper glodal level yeah pretti cool seriou deliv world class product excel custom servic rapidli expand busi look talent project manag manag success deliveri video project manag client commun drive product process work coolest brand planet learn global team repres nz huge way enter next growth stage busi grow quickli intern therefor posit burst opportun right person enter busi right time second world cloud video product servic http url fbe afac cd c f b eef e e f ca dd second world cloud video product servic enabl brand agenc get high qualiti onlin video content shot produc anywher world fast afford manag seamlessli cloud purchas publish second remov hassl cost risk speed issu work regular video product compani manag everi aspect video project beauti onlin experi grow network rate video profession countri dedic product success team countri guarante video project success easi commiss quick googl adword campaign second produc almost video countri global brand includ world largest includ paypal l oreal soni barclay offic auckland london sydney tokyo amp singapor auckland offic base right heart wynyard quarter innov precinct gridakl expect key respons commun client second team freelanc commun throughout video product process includ shoot plan secur freelanc talent manag workflow onlin product manag system aim manag video project effect produc great video client love key attributescli focus excel custom servic commun skillsonlin oustand comput knowledg experi use onlin softwar project manag toolsorganis manag workload abl multi task attent detailmotiv self starter passion excel work achiev great resultsadapt show initi think feet constantli evolv atmosphereflex fast turnaround work hour availabilityeasi go amp upbeat dosen get bog love challengesens humour laugh know work startup take gut abil deliv includ meet project deadlin budgetattitud import experi second howev previou experi custom servic project manag beneficialpleas view platform websit url ce f fb e e ad f ebbd c dd dea get clear understand reach'\n",
      " 'client locat houston activ seek experienc commiss machineri assist possess strong supervisori skill attent detail strong dedic safeti must ideal candid execut activ compli qualiti requir health environment safeti regul implement pre commiss commiss procedur rotari equip execut activ subcontractor assign crew pertain disciplin ensur effect util commiss manpow consum ensur execut vendor specialist field activ assign resourc sub contractor per vendor repres plan carri equip inspect client repres ensur proper certif produc prepar form pend test submit sign certif final hand certif engin qa qc coordin field vendor repres keep record activ ensur safeti practic strictli follow execut activ report progress constraint mechan supervisor possibl author site manag receiv issu permit work accord project permit work procedur assist supervisor expedit pend punch list item accord commiss manag prioriti assist supervisor coordin supervis construct support activ pre commiss commiss activ compani overview client premier engin construct procur compani execut larg scale project intern'\n",
      " ...\n",
      " 'experienc project cost control staff engin requir respons provid proper varianc explan root caus analysi chang job respons cost control larg capit invest variou size complexityact particip overal cost control process ensur proper progress track chang manag system place effect function construct detail engin phase project provid proper varianc explan root caus analysi changesdevelop project cost forecast prepar project cost reportsassist develop improv cost control tool process strong analyt skill allow proper assess project identifi potenti issu abl support develop recommend solut via commun support project manag perform studi analysisperform bid analysi complex servic contractsperform audit invoicesevalu field chang order valid contractor estim pricingdevelop support contract strategi larg capit projectswil requir work independ team carri project cost control forecast effort least year profession experi abil work divers team environmenta minimum year experi project cost control work knowledg engin procur account construct practicesavail travel support businessstrong analyt skillsexcel comput skillsexcel qualiti orient attent detailgood commun skill educ qualif bs degre engin construct manag financ account busi manag mathemat provid full time perman posit mani medium larg us compani job avail websit websit thousand open job open post anywher els onlin appli onlin websit automat forward inform recruit handl appli job close match contact immedi discuss posit everyth get interview client quickli possibl visit url ec af b fe ca e f b cd c f beba dcac dd b e url b bf b c fabb c da f'\n",
      " 'nemsia studio look experienc visual graphic design join lago offic idealcandid versatil print digit design medium work close strategist creativ team engag project pitch phase brainstorm concept design execut final deliveri bring creat craft beauti visual express idea brief alway ongo intern project must fluent latest version corel amp adob cc esp photoshop illustr amp indesign strong interest interact interfac design understand color theori typographi composit photo retouch abl take design direct must think creativ step outsid norm will put extra time effort project eager learn great attitud self suffici abl figur problem'\n",
      " 'vend award win web base point sale softwar retail chuck crusti old cash regist replac ipad touch screen beauti softwar make life easier retail vend fast grow tech start sinc launch got custom world employe case interest tech stack use capistrano redi git github vagrant jenkin puppet resqu new relic doctrin mysql object c php javascript go symfoni rake selenium compass sass jqueri bundler nginx bunch thing like us engin depart hous smartest mind nz work tirelessli product team come best brightest new featur fix vend platform see tech stack use latest greatest bring delight custom want add member team live breath technolog like well develop world lead product believ cultur world lead balanc super hard work lot fun work like play pool get dia de lo muerto makeov zone couch listen music raid snack cupboard fyi frozen marshmallow latest craze vend serious tri work life balanc know life outsid work know probabl littl side project busi valu vend life insid work also give allow per year develop skill attend confer choic within reason cours turn guy want use five larg go heavi metal concert cruis ship want hear depth understand oo programmingy total get mvc multi tier architecturey experi tdd write autom testsyou understand relat databas know write sqlyou work agil style team cooperationbonu point work retail beforeif sound like get touch delight us uniqu applic huge project pipelin year need best talent board help achiev goal vend total open receiv applic peopl base oversea recruit process technic talent lengthi involv lot face face time candid exist team member start initi stage interview use awesom technolog like skype googl hangout realli need hung us auckland make job offer']\n"
     ]
    }
   ],
   "source": [
    "print(X)"
   ]
  },
  {
   "cell_type": "code",
   "execution_count": 28,
   "id": "3a4d5884",
   "metadata": {},
   "outputs": [
    {
     "name": "stdout",
     "output_type": "stream",
     "text": [
      "[0 0 0 ... 0 0 0]\n"
     ]
    }
   ],
   "source": [
    "print(Y)"
   ]
  },
  {
   "cell_type": "code",
   "execution_count": 29,
   "id": "d67563d8",
   "metadata": {},
   "outputs": [],
   "source": [
    "# Converting the textual data to numerical data\n",
    "vectorizer = TfidfVectorizer()  #repeation of values-->tf, inwards frequency-->idf\n",
    "vectorizer.fit(X)\n",
    "\n",
    "X = vectorizer.transform(X)"
   ]
  },
  {
   "cell_type": "code",
   "execution_count": 30,
   "id": "a57a2092",
   "metadata": {},
   "outputs": [
    {
     "name": "stdout",
     "output_type": "stream",
     "text": [
      "  (0, 67419)\t0.05921551923310462\n",
      "  (0, 67269)\t0.08708692179026807\n",
      "  (0, 66610)\t0.06780698251653966\n",
      "  (0, 66371)\t0.05554081442416163\n",
      "  (0, 66037)\t0.05833546329270198\n",
      "  (0, 65924)\t0.04603060485955121\n",
      "  (0, 65414)\t0.06145159300913242\n",
      "  (0, 64789)\t0.042835060868329056\n",
      "  (0, 64039)\t0.09661005627339216\n",
      "  (0, 63575)\t0.1031841941525628\n",
      "  (0, 63517)\t0.06281391853434201\n",
      "  (0, 62016)\t0.024774957924499748\n",
      "  (0, 61590)\t0.11480023548427047\n",
      "  (0, 60219)\t0.01945127692029059\n",
      "  (0, 59980)\t0.08456766201175943\n",
      "  (0, 59620)\t0.12111190919192305\n",
      "  (0, 59364)\t0.031749905570401804\n",
      "  (0, 59014)\t0.05573521707334869\n",
      "  (0, 58667)\t0.06497172051860818\n",
      "  (0, 57609)\t0.04633467043752758\n",
      "  (0, 57233)\t0.04381810859761144\n",
      "  (0, 56498)\t0.04656211064278116\n",
      "  (0, 56343)\t0.03869424037470395\n",
      "  (0, 55916)\t0.041462107879001536\n",
      "  (0, 55765)\t0.11659342712691156\n",
      "  :\t:\n",
      "  (15184, 7477)\t0.020439977240207834\n",
      "  (15184, 7438)\t0.09127600380637206\n",
      "  (15184, 7436)\t0.07478624987104061\n",
      "  (15184, 7118)\t0.039094685989784814\n",
      "  (15184, 7106)\t0.07299232028967391\n",
      "  (15184, 7040)\t0.06315552021172463\n",
      "  (15184, 6571)\t0.0456123304675595\n",
      "  (15184, 6162)\t0.05710268527015692\n",
      "  (15184, 5990)\t0.04408895448251128\n",
      "  (15184, 5901)\t0.09887523139459331\n",
      "  (15184, 5833)\t0.04714459206807947\n",
      "  (15184, 5484)\t0.04665297577744632\n",
      "  (15184, 5349)\t0.09029146750923187\n",
      "  (15184, 5082)\t0.047686350837656134\n",
      "  (15184, 5052)\t0.04832147249214193\n",
      "  (15184, 4899)\t0.041607050288793176\n",
      "  (15184, 4727)\t0.06266084827740484\n",
      "  (15184, 4526)\t0.038871505398240726\n",
      "  (15184, 3763)\t0.09687637308112979\n",
      "  (15184, 3026)\t0.04936471725406895\n",
      "  (15184, 2104)\t0.02889420377238419\n",
      "  (15184, 2066)\t0.04269932889452437\n",
      "  (15184, 1775)\t0.039057172290373594\n",
      "  (15184, 1052)\t0.04760438134959904\n",
      "  (15184, 726)\t0.03595482237186137\n"
     ]
    }
   ],
   "source": [
    "print(X)"
   ]
  },
  {
   "cell_type": "markdown",
   "id": "e8990f24",
   "metadata": {},
   "source": [
    "## Splitting data into train & test"
   ]
  },
  {
   "cell_type": "code",
   "execution_count": 31,
   "id": "1220d936",
   "metadata": {},
   "outputs": [],
   "source": [
    "X_train, X_test, Y_train, Y_test = train_test_split(X,Y,test_size=0.2,stratify=Y,random_state=2)"
   ]
  },
  {
   "cell_type": "code",
   "execution_count": 32,
   "id": "28ea92d3",
   "metadata": {},
   "outputs": [
    {
     "name": "stdout",
     "output_type": "stream",
     "text": [
      "(15185, 67665) (12148, 67665) (3037, 67665)\n"
     ]
    }
   ],
   "source": [
    "print(X.shape,X_train.shape,X_test.shape)"
   ]
  },
  {
   "cell_type": "markdown",
   "id": "d472f8d3",
   "metadata": {},
   "source": [
    "## Training the model"
   ]
  },
  {
   "cell_type": "code",
   "execution_count": 33,
   "id": "476e9b58",
   "metadata": {},
   "outputs": [],
   "source": [
    "model = LogisticRegression()"
   ]
  },
  {
   "cell_type": "code",
   "execution_count": 34,
   "id": "6902e2f0",
   "metadata": {},
   "outputs": [
    {
     "data": {
      "text/plain": [
       "LogisticRegression()"
      ]
     },
     "execution_count": 34,
     "metadata": {},
     "output_type": "execute_result"
    }
   ],
   "source": [
    "model.fit(X_train,Y_train)"
   ]
  },
  {
   "cell_type": "markdown",
   "id": "a5973062",
   "metadata": {},
   "source": [
    "### Evaluation"
   ]
  },
  {
   "cell_type": "code",
   "execution_count": 35,
   "id": "5eb7ab33",
   "metadata": {},
   "outputs": [],
   "source": [
    "#accuracy on the training dataset\n",
    "X_train_prediction = model.predict(X_train)\n",
    "training_data_accuracy = accuracy_score(X_train_prediction,Y_train)"
   ]
  },
  {
   "cell_type": "code",
   "execution_count": 36,
   "id": "259549bb",
   "metadata": {},
   "outputs": [
    {
     "name": "stdout",
     "output_type": "stream",
     "text": [
      "The accuracy on the training dataset:  0.9692130391834046\n"
     ]
    }
   ],
   "source": [
    "print(\"The accuracy on the training dataset: \",training_data_accuracy)"
   ]
  },
  {
   "cell_type": "code",
   "execution_count": 37,
   "id": "3fa81c44",
   "metadata": {},
   "outputs": [],
   "source": [
    "#accuracy on test dataset\n",
    "X_test_prediction = model.predict(X_test)\n",
    "test_data_accuracy = accuracy_score(X_test_prediction,Y_test)"
   ]
  },
  {
   "cell_type": "code",
   "execution_count": 38,
   "id": "3b4c5c76",
   "metadata": {},
   "outputs": [
    {
     "name": "stdout",
     "output_type": "stream",
     "text": [
      "The accuracy on the test dataset :  0.9683898584129075\n"
     ]
    }
   ],
   "source": [
    "print(\"The accuracy on the test dataset : \",test_data_accuracy)"
   ]
  },
  {
   "cell_type": "code",
   "execution_count": null,
   "id": "3c67ec4b",
   "metadata": {},
   "outputs": [],
   "source": []
  }
 ],
 "metadata": {
  "kernelspec": {
   "display_name": "Python 3 (ipykernel)",
   "language": "python",
   "name": "python3"
  },
  "language_info": {
   "codemirror_mode": {
    "name": "ipython",
    "version": 3
   },
   "file_extension": ".py",
   "mimetype": "text/x-python",
   "name": "python",
   "nbconvert_exporter": "python",
   "pygments_lexer": "ipython3",
   "version": "3.9.12"
  }
 },
 "nbformat": 4,
 "nbformat_minor": 5
}
